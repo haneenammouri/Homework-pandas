{
 "cells": [
  {
   "cell_type": "markdown",
   "metadata": {},
   "source": [
    "# PyCity Schools Analysis\n",
    "\n",
    "* As a whole, schools with higher budgets, did not yield better test results. By contrast, schools with higher spending per student actually (\\$645-675) underperformed compared to schools with smaller budgets (<\\$585 per student).\n",
    "\n",
    "* As a whole, smaller and medium sized schools dramatically out-performed large sized schools on passing math performances (89-91% passing vs 67%).\n",
    "\n",
    "* As a whole, charter schools out-performed the public district schools across all metrics. However, more analysis will be required to glean if the effect is due to school practices or the fact that charter schools tend to serve smaller student populations per school. \n",
    "---"
   ]
  },
  {
   "cell_type": "markdown",
   "metadata": {},
   "source": [
    "### Note\n",
    "* Instructions have been included for each segment. You do not have to follow them exactly, but they are included to help you think through the steps."
   ]
  },
  {
   "cell_type": "code",
   "execution_count": 302,
   "metadata": {},
   "outputs": [
    {
     "data": {
      "text/html": [
       "<div>\n",
       "<style scoped>\n",
       "    .dataframe tbody tr th:only-of-type {\n",
       "        vertical-align: middle;\n",
       "    }\n",
       "\n",
       "    .dataframe tbody tr th {\n",
       "        vertical-align: top;\n",
       "    }\n",
       "\n",
       "    .dataframe thead th {\n",
       "        text-align: right;\n",
       "    }\n",
       "</style>\n",
       "<table border=\"1\" class=\"dataframe\">\n",
       "  <thead>\n",
       "    <tr style=\"text-align: right;\">\n",
       "      <th></th>\n",
       "      <th>Student ID</th>\n",
       "      <th>student_name</th>\n",
       "      <th>gender</th>\n",
       "      <th>grade</th>\n",
       "      <th>school_name</th>\n",
       "      <th>reading_score</th>\n",
       "      <th>math_score</th>\n",
       "      <th>School ID</th>\n",
       "      <th>type</th>\n",
       "      <th>size</th>\n",
       "      <th>budget</th>\n",
       "    </tr>\n",
       "  </thead>\n",
       "  <tbody>\n",
       "    <tr>\n",
       "      <th>0</th>\n",
       "      <td>0</td>\n",
       "      <td>Paul Bradley</td>\n",
       "      <td>M</td>\n",
       "      <td>9th</td>\n",
       "      <td>Huang High School</td>\n",
       "      <td>66</td>\n",
       "      <td>79</td>\n",
       "      <td>0</td>\n",
       "      <td>District</td>\n",
       "      <td>2917</td>\n",
       "      <td>1910635</td>\n",
       "    </tr>\n",
       "    <tr>\n",
       "      <th>1</th>\n",
       "      <td>1</td>\n",
       "      <td>Victor Smith</td>\n",
       "      <td>M</td>\n",
       "      <td>12th</td>\n",
       "      <td>Huang High School</td>\n",
       "      <td>94</td>\n",
       "      <td>61</td>\n",
       "      <td>0</td>\n",
       "      <td>District</td>\n",
       "      <td>2917</td>\n",
       "      <td>1910635</td>\n",
       "    </tr>\n",
       "    <tr>\n",
       "      <th>2</th>\n",
       "      <td>2</td>\n",
       "      <td>Kevin Rodriguez</td>\n",
       "      <td>M</td>\n",
       "      <td>12th</td>\n",
       "      <td>Huang High School</td>\n",
       "      <td>90</td>\n",
       "      <td>60</td>\n",
       "      <td>0</td>\n",
       "      <td>District</td>\n",
       "      <td>2917</td>\n",
       "      <td>1910635</td>\n",
       "    </tr>\n",
       "    <tr>\n",
       "      <th>3</th>\n",
       "      <td>3</td>\n",
       "      <td>Dr. Richard Scott</td>\n",
       "      <td>M</td>\n",
       "      <td>12th</td>\n",
       "      <td>Huang High School</td>\n",
       "      <td>67</td>\n",
       "      <td>58</td>\n",
       "      <td>0</td>\n",
       "      <td>District</td>\n",
       "      <td>2917</td>\n",
       "      <td>1910635</td>\n",
       "    </tr>\n",
       "    <tr>\n",
       "      <th>4</th>\n",
       "      <td>4</td>\n",
       "      <td>Bonnie Ray</td>\n",
       "      <td>F</td>\n",
       "      <td>9th</td>\n",
       "      <td>Huang High School</td>\n",
       "      <td>97</td>\n",
       "      <td>84</td>\n",
       "      <td>0</td>\n",
       "      <td>District</td>\n",
       "      <td>2917</td>\n",
       "      <td>1910635</td>\n",
       "    </tr>\n",
       "  </tbody>\n",
       "</table>\n",
       "</div>"
      ],
      "text/plain": [
       "   Student ID       student_name gender grade        school_name  \\\n",
       "0           0       Paul Bradley      M   9th  Huang High School   \n",
       "1           1       Victor Smith      M  12th  Huang High School   \n",
       "2           2    Kevin Rodriguez      M  12th  Huang High School   \n",
       "3           3  Dr. Richard Scott      M  12th  Huang High School   \n",
       "4           4         Bonnie Ray      F   9th  Huang High School   \n",
       "\n",
       "   reading_score  math_score  School ID      type  size   budget  \n",
       "0             66          79          0  District  2917  1910635  \n",
       "1             94          61          0  District  2917  1910635  \n",
       "2             90          60          0  District  2917  1910635  \n",
       "3             67          58          0  District  2917  1910635  \n",
       "4             97          84          0  District  2917  1910635  "
      ]
     },
     "execution_count": 302,
     "metadata": {},
     "output_type": "execute_result"
    }
   ],
   "source": [
    "# Dependencies and Setup\n",
    "import pandas as pd\n",
    "import numpy as np\n",
    "import os\n",
    "\n",
    "\n",
    "# File to Load (Remember to Change These)\n",
    "school_data_to_load = \"Resources/schools_complete.csv\"\n",
    "student_data_to_load = \"Resources/students_complete.csv\"\n",
    "\n",
    "# Read School and Student Data File and store into Pandas Data Frames\n",
    "school_data = pd.read_csv(school_data_to_load)\n",
    "student_data = pd.read_csv(student_data_to_load)\n",
    "\n",
    "# Combine the data into a single dataset\n",
    "school_data_complete_df = pd.merge(student_data, school_data, how=\"left\", on=[\"school_name\", \"school_name\"])\n",
    "school_data_complete_df.head()"
   ]
  },
  {
   "cell_type": "markdown",
   "metadata": {},
   "source": [
    "## District Summary\n",
    "\n",
    "* Calculate the total number of schools\n",
    "\n",
    "* Calculate the total number of students\n",
    "\n",
    "* Calculate the total budget\n",
    "\n",
    "* Calculate the average math score \n",
    "\n",
    "* Calculate the average reading score\n",
    "\n",
    "* Calculate the overall passing rate (overall average score), i.e. (avg. math score + avg. reading score)/2\n",
    "\n",
    "* Calculate the percentage of students with a passing math score (70 or greater)\n",
    "\n",
    "* Calculate the percentage of students with a passing reading score (70 or greater)\n",
    "\n",
    "* Create a dataframe to hold the above results\n",
    "\n",
    "* Optional: give the displayed data cleaner formatting"
   ]
  },
  {
   "cell_type": "code",
   "execution_count": 303,
   "metadata": {},
   "outputs": [
    {
     "data": {
      "text/plain": [
       "Index(['Student ID', 'student_name', 'gender', 'grade', 'school_name',\n",
       "       'reading_score', 'math_score', 'School ID', 'type', 'size', 'budget'],\n",
       "      dtype='object')"
      ]
     },
     "execution_count": 303,
     "metadata": {},
     "output_type": "execute_result"
    }
   ],
   "source": [
    "#look into binning\n",
    "#Check all the column names\n",
    "school_data_complete_df.columns"
   ]
  },
  {
   "cell_type": "code",
   "execution_count": 304,
   "metadata": {},
   "outputs": [],
   "source": [
    "#totoal schools\n",
    "the_school_names = school_data_complete_df['school_name'].unique()\n",
    "\n",
    "school_count = len(the_school_names)\n",
    "\n"
   ]
  },
  {
   "cell_type": "code",
   "execution_count": 327,
   "metadata": {},
   "outputs": [
    {
     "data": {
      "text/plain": [
       "39170"
      ]
     },
     "execution_count": 327,
     "metadata": {},
     "output_type": "execute_result"
    }
   ],
   "source": [
    "#total students\n",
    "total_students = school_data_complete_df['student_name'].count()\n",
    "total_students\n"
   ]
  },
  {
   "cell_type": "code",
   "execution_count": 306,
   "metadata": {},
   "outputs": [
    {
     "data": {
      "text/plain": [
       "82932329558"
      ]
     },
     "execution_count": 306,
     "metadata": {},
     "output_type": "execute_result"
    }
   ],
   "source": [
    "#I can't fingure why my budget isn't the same as exmaple!!\n",
    "total_budget = school_data_complete_df['budget'].sum()\n",
    "\n",
    "#total_budget = school_data_complete_df.groupby.('the_school_names')[school_count].sum()\n",
    "#school_data_complete_df.groupby('school_name')['budget'].unique()\n",
    "#school_data_complete_df.groupby('school_name')['School ID'].apply(lambda x: x.count())\n",
    "#total_budget= school_data_complete_df['budget'].sum\n",
    "total_budget"
   ]
  },
  {
   "cell_type": "code",
   "execution_count": 307,
   "metadata": {},
   "outputs": [],
   "source": [
    "#Passing:\n",
    "pass_reading = school_data_complete_df.loc[school_data_complete_df['reading_score'] >= 65]['reading_score'].count()\n",
    "pass_reading_percent = pass_reading/total_students\n",
    "\n",
    "pass_math = school_data_complete_df.loc[school_data_complete_df['math_score'] >= 65]['math_score'].count()\n",
    "pass_math_percent = pass_math/total_students\n",
    "\n",
    "\n",
    "#pass_math_percent\n",
    "#pass_reading_percent"
   ]
  },
  {
   "cell_type": "code",
   "execution_count": 308,
   "metadata": {},
   "outputs": [],
   "source": [
    "#averages\n",
    "avgerage_math_score = school_data_complete_df['math_score'].mean()\n",
    "\n",
    "avgerage_reading_score = school_data_complete_df['reading_score'].mean()\n"
   ]
  },
  {
   "cell_type": "code",
   "execution_count": 309,
   "metadata": {},
   "outputs": [],
   "source": [
    "#Overall\n",
    "general_pass = school_data_complete_df[(school_data_complete_df['math_score'] >= 65) & (school_data_complete_df['reading_score'] >= 65)]['student_name'].count()/total_students\n"
   ]
  },
  {
   "cell_type": "code",
   "execution_count": 310,
   "metadata": {},
   "outputs": [
    {
     "data": {
      "text/html": [
       "<style  type=\"text/css\" >\n",
       "</style>  \n",
       "<table id=\"T_0ee5dc4a_0321_11e9_8ce7_d46d6db62f0a\" > \n",
       "<thead>    <tr> \n",
       "        <th class=\"blank level0\" ></th> \n",
       "        <th class=\"col_heading level0 col0\" >Total Schools</th> \n",
       "        <th class=\"col_heading level0 col1\" >Total Students</th> \n",
       "        <th class=\"col_heading level0 col2\" >Total Budget</th> \n",
       "        <th class=\"col_heading level0 col3\" >Average Reading Score</th> \n",
       "        <th class=\"col_heading level0 col4\" >Average Math Score</th> \n",
       "        <th class=\"col_heading level0 col5\" >% Passing Reading</th> \n",
       "        <th class=\"col_heading level0 col6\" >% Passing Math</th> \n",
       "        <th class=\"col_heading level0 col7\" >Overall Passing Rate</th> \n",
       "    </tr></thead> \n",
       "<tbody>    <tr> \n",
       "        <th id=\"T_0ee5dc4a_0321_11e9_8ce7_d46d6db62f0alevel0_row0\" class=\"row_heading level0 row0\" >0</th> \n",
       "        <td id=\"T_0ee5dc4a_0321_11e9_8ce7_d46d6db62f0arow0_col0\" class=\"data row0 col0\" >15</td> \n",
       "        <td id=\"T_0ee5dc4a_0321_11e9_8ce7_d46d6db62f0arow0_col1\" class=\"data row0 col1\" >39170</td> \n",
       "        <td id=\"T_0ee5dc4a_0321_11e9_8ce7_d46d6db62f0arow0_col2\" class=\"data row0 col2\" >$82,932,329,558.00</td> \n",
       "        <td id=\"T_0ee5dc4a_0321_11e9_8ce7_d46d6db62f0arow0_col3\" class=\"data row0 col3\" >81.9</td> \n",
       "        <td id=\"T_0ee5dc4a_0321_11e9_8ce7_d46d6db62f0arow0_col4\" class=\"data row0 col4\" >79.0</td> \n",
       "        <td id=\"T_0ee5dc4a_0321_11e9_8ce7_d46d6db62f0arow0_col5\" class=\"data row0 col5\" >96.2%</td> \n",
       "        <td id=\"T_0ee5dc4a_0321_11e9_8ce7_d46d6db62f0arow0_col6\" class=\"data row0 col6\" >84.7%</td> \n",
       "        <td id=\"T_0ee5dc4a_0321_11e9_8ce7_d46d6db62f0arow0_col7\" class=\"data row0 col7\" >81.8%</td> \n",
       "    </tr></tbody> \n",
       "</table> "
      ],
      "text/plain": [
       "<pandas.io.formats.style.Styler at 0x1d3d97a7320>"
      ]
     },
     "execution_count": 310,
     "metadata": {},
     "output_type": "execute_result"
    }
   ],
   "source": [
    "Schools_Analysis_summary = pd.DataFrame({\n",
    "    \n",
    "    \"Total Schools\": [school_count],\n",
    "    \"Total Students\": [total_students],\n",
    "    \"Total Budget\": [total_budget],\n",
    "    \"Average Reading Score\": [avgerage_reading_score],\n",
    "    \"Average Math Score\": [avgerage_math_score],\n",
    "    \"% Passing Reading\":[pass_reading_percent],\n",
    "    \"% Passing Math\": [pass_math_percent],\n",
    "    \"Overall Passing Rate\": [general_pass]\n",
    "\n",
    "})\n",
    "\n",
    "\n",
    "Schools_Analysis_summary.style.format({\"Total Budget\": \"${:,.2f}\", \n",
    "                       \"Average Reading Score\": \"{:.1f}\", \n",
    "                       \"Average Math Score\": \"{:.1f}\", \n",
    "                       \"% Passing Math\": \"{:.1%}\", \n",
    "                       \"% Passing Reading\": \"{:.1%}\", \n",
    "                       \"Overall Passing Rate\": \"{:.1%}\"})\n"
   ]
  },
  {
   "cell_type": "code",
   "execution_count": 311,
   "metadata": {},
   "outputs": [
    {
     "data": {
      "text/plain": [
       "Total Schools              int64\n",
       "Total Students             int64\n",
       "Total Budget               int64\n",
       "Average Reading Score    float64\n",
       "Average Math Score       float64\n",
       "% Passing Reading        float64\n",
       "% Passing Math           float64\n",
       "Overall Passing Rate     float64\n",
       "dtype: object"
      ]
     },
     "execution_count": 311,
     "metadata": {},
     "output_type": "execute_result"
    }
   ],
   "source": [
    "Schools_Analysis_summary.dtypes"
   ]
  },
  {
   "cell_type": "markdown",
   "metadata": {},
   "source": [
    "## School Summary"
   ]
  },
  {
   "cell_type": "markdown",
   "metadata": {},
   "source": [
    "* Create an overview table that summarizes key metrics about each school, including:\n",
    "  * School Name\n",
    "  * School Type\n",
    "  * Total Students\n",
    "  * Total School Budget\n",
    "  * Per Student Budget\n",
    "  * Average Math Score\n",
    "  * Average Reading Score\n",
    "  * % Passing Math\n",
    "  * % Passing Reading\n",
    "  * Overall Passing Rate (Average of the above two)\n",
    "  \n",
    "* Create a dataframe to hold the above results"
   ]
  },
  {
   "cell_type": "markdown",
   "metadata": {},
   "source": [
    "## Top Performing Schools (By Passing Rate)"
   ]
  },
  {
   "cell_type": "markdown",
   "metadata": {},
   "source": [
    "* Sort and display the top five schools in overall passing rate"
   ]
  },
  {
   "cell_type": "code",
   "execution_count": 312,
   "metadata": {},
   "outputs": [],
   "source": [
    "#group by school\n",
    "\n",
    "group_by_school = school_data_complete_df.set_index('school_name').groupby(['school_name'])"
   ]
  },
  {
   "cell_type": "code",
   "execution_count": 313,
   "metadata": {},
   "outputs": [],
   "source": [
    "#school types\n",
    "school_types = school_data_complete_df.set_index('school_name')['type']\n",
    "\n",
    "# total students by school\n",
    "students_per_school = group_by_school['Student ID'].count()"
   ]
  },
  {
   "cell_type": "code",
   "execution_count": 314,
   "metadata": {},
   "outputs": [],
   "source": [
    "school_budget = school_data_complete_df.set_index('school_name')['budget']\n",
    "student_budget = school_data_complete_df.set_index('school_name')['budget']/school_data_complete_df.set_index('school_name')['size']\n"
   ]
  },
  {
   "cell_type": "code",
   "execution_count": 315,
   "metadata": {},
   "outputs": [],
   "source": [
    "#avg scores by school\n",
    "average_math_by_school = group_by_school['math_score'].mean()\n",
    "average_reading_by_school = group_by_school['reading_score'].mean()\n"
   ]
  },
  {
   "cell_type": "code",
   "execution_count": 324,
   "metadata": {},
   "outputs": [
    {
     "data": {
      "text/plain": [
       "school_name\n",
       "Bailey High School       0.737540\n",
       "Cabrera High School      1.000000\n",
       "Figueroa High School     0.728383\n",
       "Ford High School         0.735670\n",
       "Griffin High School      1.000000\n",
       "Hernandez High School    0.735491\n",
       "Holden High School       1.000000\n",
       "Huang High School        0.732602\n",
       "Johnson High School      0.737450\n",
       "Pena High School         1.000000\n",
       "Rodriguez High School    0.736184\n",
       "Shelton High School      1.000000\n",
       "Thomas High School       1.000000\n",
       "Wilson High School       1.000000\n",
       "Wright High School       1.000000\n",
       "Name: Student ID, dtype: float64"
      ]
     },
     "execution_count": 324,
     "metadata": {},
     "output_type": "execute_result"
    }
   ],
   "source": [
    "# % passing scores\n",
    "pass_math_by_school = school_data_complete_df[school_data_complete_df['math_score'] >= 65].groupby('school_name')['Student ID'].count()/students_per_school \n",
    "pass_reading_by_school = school_data_complete_df[school_data_complete_df['reading_score'] >= 65].groupby('school_name')['Student ID'].count()/students_per_school \n",
    "general_by_school = school_data_complete_df[(school_data_complete_df['reading_score'] >= 65) & (school_data_complete_df['math_score'] >= 65)].groupby('school_name')['Student ID'].count()/students_per_school \n",
    "\n",
    "general_by_school"
   ]
  },
  {
   "cell_type": "code",
   "execution_count": 323,
   "metadata": {},
   "outputs": [
    {
     "data": {
      "text/html": [
       "<div>\n",
       "<style scoped>\n",
       "    .dataframe tbody tr th:only-of-type {\n",
       "        vertical-align: middle;\n",
       "    }\n",
       "\n",
       "    .dataframe tbody tr th {\n",
       "        vertical-align: top;\n",
       "    }\n",
       "\n",
       "    .dataframe thead th {\n",
       "        text-align: right;\n",
       "    }\n",
       "</style>\n",
       "<table border=\"1\" class=\"dataframe\">\n",
       "  <thead>\n",
       "    <tr style=\"text-align: right;\">\n",
       "      <th></th>\n",
       "      <th>School Type</th>\n",
       "      <th>Total Students</th>\n",
       "      <th>Per Student Budget</th>\n",
       "      <th>Total School Budget</th>\n",
       "      <th>Average Math Score</th>\n",
       "      <th>Average Reading Score</th>\n",
       "      <th>% Passing Math</th>\n",
       "      <th>% Passing Reading</th>\n",
       "      <th>Overall Passing Rate</th>\n",
       "    </tr>\n",
       "  </thead>\n",
       "  <tbody>\n",
       "    <tr>\n",
       "      <th>0</th>\n",
       "      <td>school_name\n",
       "Huang High School     District\n",
       "Hua...</td>\n",
       "      <td>school_name\n",
       "Bailey High School       4976\n",
       "Cabr...</td>\n",
       "      <td>school_name\n",
       "Huang High School     655.0\n",
       "Huang ...</td>\n",
       "      <td>school_name\n",
       "Huang High School     1910635\n",
       "Huan...</td>\n",
       "      <td>school_name\n",
       "Bailey High School       77.048432...</td>\n",
       "      <td>school_name\n",
       "Bailey High School       81.033963...</td>\n",
       "      <td>school_name\n",
       "Bailey High School       0.779140\n",
       "...</td>\n",
       "      <td>school_name\n",
       "Bailey High School       0.945539\n",
       "...</td>\n",
       "      <td>school_name\n",
       "Bailey High School       0.737540\n",
       "...</td>\n",
       "    </tr>\n",
       "  </tbody>\n",
       "</table>\n",
       "</div>"
      ],
      "text/plain": [
       "                                         School Type  \\\n",
       "0  school_name\n",
       "Huang High School     District\n",
       "Hua...   \n",
       "\n",
       "                                      Total Students  \\\n",
       "0  school_name\n",
       "Bailey High School       4976\n",
       "Cabr...   \n",
       "\n",
       "                                  Per Student Budget  \\\n",
       "0  school_name\n",
       "Huang High School     655.0\n",
       "Huang ...   \n",
       "\n",
       "                                 Total School Budget  \\\n",
       "0  school_name\n",
       "Huang High School     1910635\n",
       "Huan...   \n",
       "\n",
       "                                  Average Math Score  \\\n",
       "0  school_name\n",
       "Bailey High School       77.048432...   \n",
       "\n",
       "                               Average Reading Score  \\\n",
       "0  school_name\n",
       "Bailey High School       81.033963...   \n",
       "\n",
       "                                      % Passing Math  \\\n",
       "0  school_name\n",
       "Bailey High School       0.779140\n",
       "...   \n",
       "\n",
       "                                   % Passing Reading  \\\n",
       "0  school_name\n",
       "Bailey High School       0.945539\n",
       "...   \n",
       "\n",
       "                                Overall Passing Rate  \n",
       "0  school_name\n",
       "Bailey High School       0.737540\n",
       "...  "
      ]
     },
     "execution_count": 323,
     "metadata": {},
     "output_type": "execute_result"
    }
   ],
   "source": [
    "school_general_summary = pd.DataFrame({\n",
    "    \"School Type\": [school_types],\n",
    "    \"Total Students\": [students_per_school],\n",
    "    \"Per Student Budget\": [student_budget],\n",
    "    \"Total School Budget\": [school_budget],\n",
    "    \"Average Math Score\": [average_math_by_school],\n",
    "    \"Average Reading Score\": [average_reading_by_school],\n",
    "    '% Passing Math': [pass_math_by_school],\n",
    "    '% Passing Reading': [pass_reading_by_school],\n",
    "    \"Overall Passing Rate\": [general_by_school]\n",
    "})\n",
    "\n",
    "school_general_summary.head()\n",
    "#check each on its own"
   ]
  },
  {
   "cell_type": "code",
   "execution_count": 318,
   "metadata": {},
   "outputs": [
    {
     "data": {
      "text/plain": [
       "School Type              object\n",
       "Total Students           object\n",
       "Total School Budget      object\n",
       "Per Student Budget       object\n",
       "Average Math Score       object\n",
       "Average Reading Score    object\n",
       "% Passing Math           object\n",
       "% Passing Reading        object\n",
       "Overall Passing Rate     object\n",
       "dtype: object"
      ]
     },
     "execution_count": 318,
     "metadata": {},
     "output_type": "execute_result"
    }
   ],
   "source": [
    "\n",
    "\n",
    "school_types_summary = school_general_summary[['School Type', \n",
    "                          'Total Students', \n",
    "                          'Total School Budget', \n",
    "                          'Per Student Budget', \n",
    "                          'Average Math Score', \n",
    "                          'Average Reading Score',\n",
    "                          '% Passing Math',\n",
    "                          '% Passing Reading',\n",
    "                          'Overall Passing Rate']]\n",
    "\n",
    "\n",
    "school_types_summary.dtypes\n",
    "\n"
   ]
  },
  {
   "cell_type": "code",
   "execution_count": 322,
   "metadata": {},
   "outputs": [
    {
     "ename": "ValueError",
     "evalue": "Unable to parse string \"avgerage_reading_score\" at position 0",
     "output_type": "error",
     "traceback": [
      "\u001b[1;31m---------------------------------------------------------------------------\u001b[0m",
      "\u001b[1;31mValueError\u001b[0m                                Traceback (most recent call last)",
      "\u001b[1;32mpandas/_libs/src\\inference.pyx\u001b[0m in \u001b[0;36mpandas._libs.lib.maybe_convert_numeric\u001b[1;34m()\u001b[0m\n",
      "\u001b[1;31mValueError\u001b[0m: Unable to parse string \"avgerage_reading_score\"",
      "\nDuring handling of the above exception, another exception occurred:\n",
      "\u001b[1;31mValueError\u001b[0m                                Traceback (most recent call last)",
      "\u001b[1;32m<ipython-input-322-b3a2c2cf17ea>\u001b[0m in \u001b[0;36m<module>\u001b[1;34m()\u001b[0m\n\u001b[0;32m      7\u001b[0m \u001b[1;31m#school_types_summary['Total Students'] = school_types_summary['Total Students'].astype(float)\u001b[0m\u001b[1;33m\u001b[0m\u001b[1;33m\u001b[0m\u001b[0m\n\u001b[0;32m      8\u001b[0m \u001b[1;31m#school_types_summary.students_per_school = school_types_summary.students_per_school.astype('float')\u001b[0m\u001b[1;33m\u001b[0m\u001b[1;33m\u001b[0m\u001b[0m\n\u001b[1;32m----> 9\u001b[1;33m \u001b[0mschool_types_summary\u001b[0m\u001b[1;33m[\u001b[0m\u001b[0mstudents_per_school\u001b[0m\u001b[1;33m]\u001b[0m \u001b[1;33m=\u001b[0m \u001b[0mpd\u001b[0m\u001b[1;33m.\u001b[0m\u001b[0mto_numeric\u001b[0m\u001b[1;33m(\u001b[0m\u001b[1;34m\"avgerage_reading_score\"\u001b[0m\u001b[1;33m)\u001b[0m\u001b[1;33m\u001b[0m\u001b[0m\n\u001b[0m",
      "\u001b[1;32m~\\Anaconda3\\lib\\site-packages\\pandas\\core\\tools\\numeric.py\u001b[0m in \u001b[0;36mto_numeric\u001b[1;34m(arg, errors, downcast)\u001b[0m\n\u001b[0;32m    131\u001b[0m             \u001b[0mcoerce_numeric\u001b[0m \u001b[1;33m=\u001b[0m \u001b[1;32mFalse\u001b[0m \u001b[1;32mif\u001b[0m \u001b[0merrors\u001b[0m \u001b[1;32min\u001b[0m \u001b[1;33m(\u001b[0m\u001b[1;34m'ignore'\u001b[0m\u001b[1;33m,\u001b[0m \u001b[1;34m'raise'\u001b[0m\u001b[1;33m)\u001b[0m \u001b[1;32melse\u001b[0m \u001b[1;32mTrue\u001b[0m\u001b[1;33m\u001b[0m\u001b[0m\n\u001b[0;32m    132\u001b[0m             values = lib.maybe_convert_numeric(values, set(),\n\u001b[1;32m--> 133\u001b[1;33m                                                coerce_numeric=coerce_numeric)\n\u001b[0m\u001b[0;32m    134\u001b[0m \u001b[1;33m\u001b[0m\u001b[0m\n\u001b[0;32m    135\u001b[0m     \u001b[1;32mexcept\u001b[0m \u001b[0mException\u001b[0m\u001b[1;33m:\u001b[0m\u001b[1;33m\u001b[0m\u001b[0m\n",
      "\u001b[1;32mpandas/_libs/src\\inference.pyx\u001b[0m in \u001b[0;36mpandas._libs.lib.maybe_convert_numeric\u001b[1;34m()\u001b[0m\n",
      "\u001b[1;31mValueError\u001b[0m: Unable to parse string \"avgerage_reading_score\" at position 0"
     ]
    }
   ],
   "source": [
    "#formatting\n",
    "#FIX\n",
    "#school_types_summary.students_per_school= pd.to_numeric(school_types_summary['students_per_school'], errors='coerce')\n",
    "#school_types_summary.convert_objects(convert_numeric=True).dtypes\n",
    "#school_types_summary.style.format({\"students_per_school\": lambda x: \"{:.2f}\".format(abs(x))})\n",
    "#school_types_summary['Total Students'] = school_types_summary['Total Students'].replace('?', \" \")\n",
    "#school_types_summary['Total Students'] = school_types_summary['Total Students'].astype(float)\n",
    "#school_types_summary.students_per_school = school_types_summary.students_per_school.astype('float')\n",
    "#school_types_summary[students_per_school] = pd.to_numeric(\"avgerage_reading_score\")\n"
   ]
  },
  {
   "cell_type": "code",
   "execution_count": 296,
   "metadata": {},
   "outputs": [
    {
     "ename": "SyntaxError",
     "evalue": "invalid syntax (<ipython-input-296-822e4832b79f>, line 1)",
     "output_type": "error",
     "traceback": [
      "\u001b[1;36m  File \u001b[1;32m\"<ipython-input-296-822e4832b79f>\"\u001b[1;36m, line \u001b[1;32m1\u001b[0m\n\u001b[1;33m    school_types_summary.style.format=({ \"Total Students\": \"{:,},Total School Budget\": \"${:,.2f}\",\u001b[0m\n\u001b[1;37m                                                                                     ^\u001b[0m\n\u001b[1;31mSyntaxError\u001b[0m\u001b[1;31m:\u001b[0m invalid syntax\n"
     ]
    }
   ],
   "source": [
    "school_types_summary.style.format=({ \"Total Students\": \"{:,},Total School Budget\": \"${:,.2f}\", \n",
    "                          \"Per Student Budget\": \"${:.0f}\",\n",
    "                          \"Average Math Score\": \"{:.1f}\", \n",
    "                          \"Average Reading Score\": \"{:.1f}\", \n",
    "                          \"% Passing Math\": \"{:.1%}\", \n",
    "                          \"% Passing Reading\": \"{:.1%}\", \n",
    "                          \"Overall Passing Rate\": \"{:.1%}\"})"
   ]
  },
  {
   "cell_type": "markdown",
   "metadata": {},
   "source": [
    "## Bottom Performing Schools (By Passing Rate)"
   ]
  },
  {
   "cell_type": "markdown",
   "metadata": {},
   "source": [
    "* Sort and display the five worst-performing schools"
   ]
  },
  {
   "cell_type": "code",
   "execution_count": 297,
   "metadata": {},
   "outputs": [
    {
     "ename": "TypeError",
     "evalue": "unsupported format string passed to Series.__format__",
     "output_type": "error",
     "traceback": [
      "\u001b[1;31m---------------------------------------------------------------------------\u001b[0m",
      "\u001b[1;31mTypeError\u001b[0m                                 Traceback (most recent call last)",
      "\u001b[1;32m~\\Anaconda3\\lib\\site-packages\\IPython\\core\\formatters.py\u001b[0m in \u001b[0;36m__call__\u001b[1;34m(self, obj)\u001b[0m\n\u001b[0;32m    343\u001b[0m             \u001b[0mmethod\u001b[0m \u001b[1;33m=\u001b[0m \u001b[0mget_real_method\u001b[0m\u001b[1;33m(\u001b[0m\u001b[0mobj\u001b[0m\u001b[1;33m,\u001b[0m \u001b[0mself\u001b[0m\u001b[1;33m.\u001b[0m\u001b[0mprint_method\u001b[0m\u001b[1;33m)\u001b[0m\u001b[1;33m\u001b[0m\u001b[0m\n\u001b[0;32m    344\u001b[0m             \u001b[1;32mif\u001b[0m \u001b[0mmethod\u001b[0m \u001b[1;32mis\u001b[0m \u001b[1;32mnot\u001b[0m \u001b[1;32mNone\u001b[0m\u001b[1;33m:\u001b[0m\u001b[1;33m\u001b[0m\u001b[0m\n\u001b[1;32m--> 345\u001b[1;33m                 \u001b[1;32mreturn\u001b[0m \u001b[0mmethod\u001b[0m\u001b[1;33m(\u001b[0m\u001b[1;33m)\u001b[0m\u001b[1;33m\u001b[0m\u001b[0m\n\u001b[0m\u001b[0;32m    346\u001b[0m             \u001b[1;32mreturn\u001b[0m \u001b[1;32mNone\u001b[0m\u001b[1;33m\u001b[0m\u001b[0m\n\u001b[0;32m    347\u001b[0m         \u001b[1;32melse\u001b[0m\u001b[1;33m:\u001b[0m\u001b[1;33m\u001b[0m\u001b[0m\n",
      "\u001b[1;32m~\\Anaconda3\\lib\\site-packages\\pandas\\io\\formats\\style.py\u001b[0m in \u001b[0;36m_repr_html_\u001b[1;34m(self)\u001b[0m\n\u001b[0;32m    149\u001b[0m     \u001b[1;32mdef\u001b[0m \u001b[0m_repr_html_\u001b[0m\u001b[1;33m(\u001b[0m\u001b[0mself\u001b[0m\u001b[1;33m)\u001b[0m\u001b[1;33m:\u001b[0m\u001b[1;33m\u001b[0m\u001b[0m\n\u001b[0;32m    150\u001b[0m         \u001b[1;34m\"\"\"Hooks into Jupyter notebook rich display system.\"\"\"\u001b[0m\u001b[1;33m\u001b[0m\u001b[0m\n\u001b[1;32m--> 151\u001b[1;33m         \u001b[1;32mreturn\u001b[0m \u001b[0mself\u001b[0m\u001b[1;33m.\u001b[0m\u001b[0mrender\u001b[0m\u001b[1;33m(\u001b[0m\u001b[1;33m)\u001b[0m\u001b[1;33m\u001b[0m\u001b[0m\n\u001b[0m\u001b[0;32m    152\u001b[0m \u001b[1;33m\u001b[0m\u001b[0m\n\u001b[0;32m    153\u001b[0m     @Appender(_shared_docs['to_excel'] % dict(\n",
      "\u001b[1;32m~\\Anaconda3\\lib\\site-packages\\pandas\\io\\formats\\style.py\u001b[0m in \u001b[0;36mrender\u001b[1;34m(self, **kwargs)\u001b[0m\n\u001b[0;32m    446\u001b[0m         \u001b[0mself\u001b[0m\u001b[1;33m.\u001b[0m\u001b[0m_compute\u001b[0m\u001b[1;33m(\u001b[0m\u001b[1;33m)\u001b[0m\u001b[1;33m\u001b[0m\u001b[0m\n\u001b[0;32m    447\u001b[0m         \u001b[1;31m# TODO: namespace all the pandas keys\u001b[0m\u001b[1;33m\u001b[0m\u001b[1;33m\u001b[0m\u001b[0m\n\u001b[1;32m--> 448\u001b[1;33m         \u001b[0md\u001b[0m \u001b[1;33m=\u001b[0m \u001b[0mself\u001b[0m\u001b[1;33m.\u001b[0m\u001b[0m_translate\u001b[0m\u001b[1;33m(\u001b[0m\u001b[1;33m)\u001b[0m\u001b[1;33m\u001b[0m\u001b[0m\n\u001b[0m\u001b[0;32m    449\u001b[0m         \u001b[1;31m# filter out empty styles, every cell will have a class\u001b[0m\u001b[1;33m\u001b[0m\u001b[1;33m\u001b[0m\u001b[0m\n\u001b[0;32m    450\u001b[0m         \u001b[1;31m# but the list of props may just be [['', '']].\u001b[0m\u001b[1;33m\u001b[0m\u001b[1;33m\u001b[0m\u001b[0m\n",
      "\u001b[1;32m~\\Anaconda3\\lib\\site-packages\\pandas\\io\\formats\\style.py\u001b[0m in \u001b[0;36m_translate\u001b[1;34m(self)\u001b[0m\n\u001b[0;32m    311\u001b[0m                     \u001b[1;34m\"class\"\u001b[0m\u001b[1;33m:\u001b[0m \u001b[1;34m\" \"\u001b[0m\u001b[1;33m.\u001b[0m\u001b[0mjoin\u001b[0m\u001b[1;33m(\u001b[0m\u001b[0mcs\u001b[0m\u001b[1;33m)\u001b[0m\u001b[1;33m,\u001b[0m\u001b[1;33m\u001b[0m\u001b[0m\n\u001b[0;32m    312\u001b[0m                     \u001b[1;34m\"id\"\u001b[0m\u001b[1;33m:\u001b[0m \u001b[1;34m\"_\"\u001b[0m\u001b[1;33m.\u001b[0m\u001b[0mjoin\u001b[0m\u001b[1;33m(\u001b[0m\u001b[0mcs\u001b[0m\u001b[1;33m[\u001b[0m\u001b[1;36m1\u001b[0m\u001b[1;33m:\u001b[0m\u001b[1;33m]\u001b[0m\u001b[1;33m)\u001b[0m\u001b[1;33m,\u001b[0m\u001b[1;33m\u001b[0m\u001b[0m\n\u001b[1;32m--> 313\u001b[1;33m                     \u001b[1;34m\"display_value\"\u001b[0m\u001b[1;33m:\u001b[0m \u001b[0mformatter\u001b[0m\u001b[1;33m(\u001b[0m\u001b[0mvalue\u001b[0m\u001b[1;33m)\u001b[0m\u001b[1;33m,\u001b[0m\u001b[1;33m\u001b[0m\u001b[0m\n\u001b[0m\u001b[0;32m    314\u001b[0m                     \u001b[1;34m\"is_visible\"\u001b[0m\u001b[1;33m:\u001b[0m \u001b[1;33m(\u001b[0m\u001b[0mc\u001b[0m \u001b[1;32mnot\u001b[0m \u001b[1;32min\u001b[0m \u001b[0mhidden_columns\u001b[0m\u001b[1;33m)\u001b[0m\u001b[1;33m\u001b[0m\u001b[0m\n\u001b[0;32m    315\u001b[0m                 })\n",
      "\u001b[1;32m~\\Anaconda3\\lib\\site-packages\\pandas\\io\\formats\\style.py\u001b[0m in \u001b[0;36m<lambda>\u001b[1;34m(x)\u001b[0m\n\u001b[0;32m   1259\u001b[0m \u001b[1;32mdef\u001b[0m \u001b[0m_maybe_wrap_formatter\u001b[0m\u001b[1;33m(\u001b[0m\u001b[0mformatter\u001b[0m\u001b[1;33m)\u001b[0m\u001b[1;33m:\u001b[0m\u001b[1;33m\u001b[0m\u001b[0m\n\u001b[0;32m   1260\u001b[0m     \u001b[1;32mif\u001b[0m \u001b[0mis_string_like\u001b[0m\u001b[1;33m(\u001b[0m\u001b[0mformatter\u001b[0m\u001b[1;33m)\u001b[0m\u001b[1;33m:\u001b[0m\u001b[1;33m\u001b[0m\u001b[0m\n\u001b[1;32m-> 1261\u001b[1;33m         \u001b[1;32mreturn\u001b[0m \u001b[1;32mlambda\u001b[0m \u001b[0mx\u001b[0m\u001b[1;33m:\u001b[0m \u001b[0mformatter\u001b[0m\u001b[1;33m.\u001b[0m\u001b[0mformat\u001b[0m\u001b[1;33m(\u001b[0m\u001b[0mx\u001b[0m\u001b[1;33m)\u001b[0m\u001b[1;33m\u001b[0m\u001b[0m\n\u001b[0m\u001b[0;32m   1262\u001b[0m     \u001b[1;32melif\u001b[0m \u001b[0mcallable\u001b[0m\u001b[1;33m(\u001b[0m\u001b[0mformatter\u001b[0m\u001b[1;33m)\u001b[0m\u001b[1;33m:\u001b[0m\u001b[1;33m\u001b[0m\u001b[0m\n\u001b[0;32m   1263\u001b[0m         \u001b[1;32mreturn\u001b[0m \u001b[0mformatter\u001b[0m\u001b[1;33m\u001b[0m\u001b[0m\n",
      "\u001b[1;31mTypeError\u001b[0m: unsupported format string passed to Series.__format__"
     ]
    },
    {
     "data": {
      "text/plain": [
       "<pandas.io.formats.style.Styler at 0x1d3d9bfb320>"
      ]
     },
     "execution_count": 297,
     "metadata": {},
     "output_type": "execute_result"
    }
   ],
   "source": [
    "top_5 = school_types_summary.sort_values(\"Overall Passing Rate\", ascending = False)\n",
    "top_5.head().style.format({'Total Students': '{:,}',\n",
    "                           \"Total School Budget\": \"${:,}\", \n",
    "                           \"Per Student Budget\": \"${:.0f}\", \n",
    "                           \"% Passing Math\": \"{:.1%}\", \n",
    "                           \"% Passing Reading\": \"{:.1%}\", \n",
    "                           \"Overall Passing Rate\": \"{:.1%}\"})"
   ]
  },
  {
   "cell_type": "markdown",
   "metadata": {
    "collapsed": true
   },
   "source": [
    "## Math Scores by Grade"
   ]
  },
  {
   "cell_type": "markdown",
   "metadata": {},
   "source": [
    "* Create a table that lists the average Reading Score for students of each grade level (9th, 10th, 11th, 12th) at each school.\n",
    "\n",
    "  * Create a pandas series for each grade. Hint: use a conditional statement.\n",
    "  \n",
    "  * Group each series by school\n",
    "  \n",
    "  * Combine the series into a dataframe\n",
    "  \n",
    "  * Optional: give the displayed data cleaner formatting"
   ]
  },
  {
   "cell_type": "code",
   "execution_count": 300,
   "metadata": {},
   "outputs": [
    {
     "data": {
      "text/html": [
       "<style  type=\"text/css\" >\n",
       "</style>  \n",
       "<table id=\"T_bffcfb86_01d4_11e9_b450_d46d6db62f0a\" > \n",
       "<thead>    <tr> \n",
       "        <th class=\"blank level0\" ></th> \n",
       "        <th class=\"col_heading level0 col0\" >9th</th> \n",
       "        <th class=\"col_heading level0 col1\" >10th</th> \n",
       "        <th class=\"col_heading level0 col2\" >11th</th> \n",
       "        <th class=\"col_heading level0 col3\" >12th</th> \n",
       "    </tr>    <tr> \n",
       "        <th class=\"index_name level0\" >School</th> \n",
       "        <th class=\"blank\" ></th> \n",
       "        <th class=\"blank\" ></th> \n",
       "        <th class=\"blank\" ></th> \n",
       "        <th class=\"blank\" ></th> \n",
       "    </tr></thead> \n",
       "<tbody>    <tr> \n",
       "        <th id=\"T_bffcfb86_01d4_11e9_b450_d46d6db62f0alevel0_row0\" class=\"row_heading level0 row0\" >Bailey High School</th> \n",
       "        <td id=\"T_bffcfb86_01d4_11e9_b450_d46d6db62f0arow0_col0\" class=\"data row0 col0\" >77.1</td> \n",
       "        <td id=\"T_bffcfb86_01d4_11e9_b450_d46d6db62f0arow0_col1\" class=\"data row0 col1\" >77.0</td> \n",
       "        <td id=\"T_bffcfb86_01d4_11e9_b450_d46d6db62f0arow0_col2\" class=\"data row0 col2\" >77.5</td> \n",
       "        <td id=\"T_bffcfb86_01d4_11e9_b450_d46d6db62f0arow0_col3\" class=\"data row0 col3\" >76.5</td> \n",
       "    </tr>    <tr> \n",
       "        <th id=\"T_bffcfb86_01d4_11e9_b450_d46d6db62f0alevel0_row1\" class=\"row_heading level0 row1\" >Cabrera High School</th> \n",
       "        <td id=\"T_bffcfb86_01d4_11e9_b450_d46d6db62f0arow1_col0\" class=\"data row1 col0\" >83.1</td> \n",
       "        <td id=\"T_bffcfb86_01d4_11e9_b450_d46d6db62f0arow1_col1\" class=\"data row1 col1\" >83.2</td> \n",
       "        <td id=\"T_bffcfb86_01d4_11e9_b450_d46d6db62f0arow1_col2\" class=\"data row1 col2\" >82.8</td> \n",
       "        <td id=\"T_bffcfb86_01d4_11e9_b450_d46d6db62f0arow1_col3\" class=\"data row1 col3\" >83.3</td> \n",
       "    </tr>    <tr> \n",
       "        <th id=\"T_bffcfb86_01d4_11e9_b450_d46d6db62f0alevel0_row2\" class=\"row_heading level0 row2\" >Figueroa High School</th> \n",
       "        <td id=\"T_bffcfb86_01d4_11e9_b450_d46d6db62f0arow2_col0\" class=\"data row2 col0\" >76.4</td> \n",
       "        <td id=\"T_bffcfb86_01d4_11e9_b450_d46d6db62f0arow2_col1\" class=\"data row2 col1\" >76.5</td> \n",
       "        <td id=\"T_bffcfb86_01d4_11e9_b450_d46d6db62f0arow2_col2\" class=\"data row2 col2\" >76.9</td> \n",
       "        <td id=\"T_bffcfb86_01d4_11e9_b450_d46d6db62f0arow2_col3\" class=\"data row2 col3\" >77.2</td> \n",
       "    </tr>    <tr> \n",
       "        <th id=\"T_bffcfb86_01d4_11e9_b450_d46d6db62f0alevel0_row3\" class=\"row_heading level0 row3\" >Ford High School</th> \n",
       "        <td id=\"T_bffcfb86_01d4_11e9_b450_d46d6db62f0arow3_col0\" class=\"data row3 col0\" >77.4</td> \n",
       "        <td id=\"T_bffcfb86_01d4_11e9_b450_d46d6db62f0arow3_col1\" class=\"data row3 col1\" >77.7</td> \n",
       "        <td id=\"T_bffcfb86_01d4_11e9_b450_d46d6db62f0arow3_col2\" class=\"data row3 col2\" >76.9</td> \n",
       "        <td id=\"T_bffcfb86_01d4_11e9_b450_d46d6db62f0arow3_col3\" class=\"data row3 col3\" >76.2</td> \n",
       "    </tr>    <tr> \n",
       "        <th id=\"T_bffcfb86_01d4_11e9_b450_d46d6db62f0alevel0_row4\" class=\"row_heading level0 row4\" >Griffin High School</th> \n",
       "        <td id=\"T_bffcfb86_01d4_11e9_b450_d46d6db62f0arow4_col0\" class=\"data row4 col0\" >82.0</td> \n",
       "        <td id=\"T_bffcfb86_01d4_11e9_b450_d46d6db62f0arow4_col1\" class=\"data row4 col1\" >84.2</td> \n",
       "        <td id=\"T_bffcfb86_01d4_11e9_b450_d46d6db62f0arow4_col2\" class=\"data row4 col2\" >83.8</td> \n",
       "        <td id=\"T_bffcfb86_01d4_11e9_b450_d46d6db62f0arow4_col3\" class=\"data row4 col3\" >83.4</td> \n",
       "    </tr>    <tr> \n",
       "        <th id=\"T_bffcfb86_01d4_11e9_b450_d46d6db62f0alevel0_row5\" class=\"row_heading level0 row5\" >Hernandez High School</th> \n",
       "        <td id=\"T_bffcfb86_01d4_11e9_b450_d46d6db62f0arow5_col0\" class=\"data row5 col0\" >77.4</td> \n",
       "        <td id=\"T_bffcfb86_01d4_11e9_b450_d46d6db62f0arow5_col1\" class=\"data row5 col1\" >77.3</td> \n",
       "        <td id=\"T_bffcfb86_01d4_11e9_b450_d46d6db62f0arow5_col2\" class=\"data row5 col2\" >77.1</td> \n",
       "        <td id=\"T_bffcfb86_01d4_11e9_b450_d46d6db62f0arow5_col3\" class=\"data row5 col3\" >77.2</td> \n",
       "    </tr>    <tr> \n",
       "        <th id=\"T_bffcfb86_01d4_11e9_b450_d46d6db62f0alevel0_row6\" class=\"row_heading level0 row6\" >Holden High School</th> \n",
       "        <td id=\"T_bffcfb86_01d4_11e9_b450_d46d6db62f0arow6_col0\" class=\"data row6 col0\" >83.8</td> \n",
       "        <td id=\"T_bffcfb86_01d4_11e9_b450_d46d6db62f0arow6_col1\" class=\"data row6 col1\" >83.4</td> \n",
       "        <td id=\"T_bffcfb86_01d4_11e9_b450_d46d6db62f0arow6_col2\" class=\"data row6 col2\" >85.0</td> \n",
       "        <td id=\"T_bffcfb86_01d4_11e9_b450_d46d6db62f0arow6_col3\" class=\"data row6 col3\" >82.9</td> \n",
       "    </tr>    <tr> \n",
       "        <th id=\"T_bffcfb86_01d4_11e9_b450_d46d6db62f0alevel0_row7\" class=\"row_heading level0 row7\" >Huang High School</th> \n",
       "        <td id=\"T_bffcfb86_01d4_11e9_b450_d46d6db62f0arow7_col0\" class=\"data row7 col0\" >77.0</td> \n",
       "        <td id=\"T_bffcfb86_01d4_11e9_b450_d46d6db62f0arow7_col1\" class=\"data row7 col1\" >75.9</td> \n",
       "        <td id=\"T_bffcfb86_01d4_11e9_b450_d46d6db62f0arow7_col2\" class=\"data row7 col2\" >76.4</td> \n",
       "        <td id=\"T_bffcfb86_01d4_11e9_b450_d46d6db62f0arow7_col3\" class=\"data row7 col3\" >77.2</td> \n",
       "    </tr>    <tr> \n",
       "        <th id=\"T_bffcfb86_01d4_11e9_b450_d46d6db62f0alevel0_row8\" class=\"row_heading level0 row8\" >Johnson High School</th> \n",
       "        <td id=\"T_bffcfb86_01d4_11e9_b450_d46d6db62f0arow8_col0\" class=\"data row8 col0\" >77.2</td> \n",
       "        <td id=\"T_bffcfb86_01d4_11e9_b450_d46d6db62f0arow8_col1\" class=\"data row8 col1\" >76.7</td> \n",
       "        <td id=\"T_bffcfb86_01d4_11e9_b450_d46d6db62f0arow8_col2\" class=\"data row8 col2\" >77.5</td> \n",
       "        <td id=\"T_bffcfb86_01d4_11e9_b450_d46d6db62f0arow8_col3\" class=\"data row8 col3\" >76.9</td> \n",
       "    </tr>    <tr> \n",
       "        <th id=\"T_bffcfb86_01d4_11e9_b450_d46d6db62f0alevel0_row9\" class=\"row_heading level0 row9\" >Pena High School</th> \n",
       "        <td id=\"T_bffcfb86_01d4_11e9_b450_d46d6db62f0arow9_col0\" class=\"data row9 col0\" >83.6</td> \n",
       "        <td id=\"T_bffcfb86_01d4_11e9_b450_d46d6db62f0arow9_col1\" class=\"data row9 col1\" >83.4</td> \n",
       "        <td id=\"T_bffcfb86_01d4_11e9_b450_d46d6db62f0arow9_col2\" class=\"data row9 col2\" >84.3</td> \n",
       "        <td id=\"T_bffcfb86_01d4_11e9_b450_d46d6db62f0arow9_col3\" class=\"data row9 col3\" >84.1</td> \n",
       "    </tr>    <tr> \n",
       "        <th id=\"T_bffcfb86_01d4_11e9_b450_d46d6db62f0alevel0_row10\" class=\"row_heading level0 row10\" >Rodriguez High School</th> \n",
       "        <td id=\"T_bffcfb86_01d4_11e9_b450_d46d6db62f0arow10_col0\" class=\"data row10 col0\" >76.9</td> \n",
       "        <td id=\"T_bffcfb86_01d4_11e9_b450_d46d6db62f0arow10_col1\" class=\"data row10 col1\" >76.6</td> \n",
       "        <td id=\"T_bffcfb86_01d4_11e9_b450_d46d6db62f0arow10_col2\" class=\"data row10 col2\" >76.4</td> \n",
       "        <td id=\"T_bffcfb86_01d4_11e9_b450_d46d6db62f0arow10_col3\" class=\"data row10 col3\" >77.7</td> \n",
       "    </tr>    <tr> \n",
       "        <th id=\"T_bffcfb86_01d4_11e9_b450_d46d6db62f0alevel0_row11\" class=\"row_heading level0 row11\" >Shelton High School</th> \n",
       "        <td id=\"T_bffcfb86_01d4_11e9_b450_d46d6db62f0arow11_col0\" class=\"data row11 col0\" >83.4</td> \n",
       "        <td id=\"T_bffcfb86_01d4_11e9_b450_d46d6db62f0arow11_col1\" class=\"data row11 col1\" >82.9</td> \n",
       "        <td id=\"T_bffcfb86_01d4_11e9_b450_d46d6db62f0arow11_col2\" class=\"data row11 col2\" >83.4</td> \n",
       "        <td id=\"T_bffcfb86_01d4_11e9_b450_d46d6db62f0arow11_col3\" class=\"data row11 col3\" >83.8</td> \n",
       "    </tr>    <tr> \n",
       "        <th id=\"T_bffcfb86_01d4_11e9_b450_d46d6db62f0alevel0_row12\" class=\"row_heading level0 row12\" >Thomas High School</th> \n",
       "        <td id=\"T_bffcfb86_01d4_11e9_b450_d46d6db62f0arow12_col0\" class=\"data row12 col0\" >83.6</td> \n",
       "        <td id=\"T_bffcfb86_01d4_11e9_b450_d46d6db62f0arow12_col1\" class=\"data row12 col1\" >83.1</td> \n",
       "        <td id=\"T_bffcfb86_01d4_11e9_b450_d46d6db62f0arow12_col2\" class=\"data row12 col2\" >83.5</td> \n",
       "        <td id=\"T_bffcfb86_01d4_11e9_b450_d46d6db62f0arow12_col3\" class=\"data row12 col3\" >83.5</td> \n",
       "    </tr>    <tr> \n",
       "        <th id=\"T_bffcfb86_01d4_11e9_b450_d46d6db62f0alevel0_row13\" class=\"row_heading level0 row13\" >Wilson High School</th> \n",
       "        <td id=\"T_bffcfb86_01d4_11e9_b450_d46d6db62f0arow13_col0\" class=\"data row13 col0\" >83.1</td> \n",
       "        <td id=\"T_bffcfb86_01d4_11e9_b450_d46d6db62f0arow13_col1\" class=\"data row13 col1\" >83.7</td> \n",
       "        <td id=\"T_bffcfb86_01d4_11e9_b450_d46d6db62f0arow13_col2\" class=\"data row13 col2\" >83.2</td> \n",
       "        <td id=\"T_bffcfb86_01d4_11e9_b450_d46d6db62f0arow13_col3\" class=\"data row13 col3\" >83.0</td> \n",
       "    </tr>    <tr> \n",
       "        <th id=\"T_bffcfb86_01d4_11e9_b450_d46d6db62f0alevel0_row14\" class=\"row_heading level0 row14\" >Wright High School</th> \n",
       "        <td id=\"T_bffcfb86_01d4_11e9_b450_d46d6db62f0arow14_col0\" class=\"data row14 col0\" >83.3</td> \n",
       "        <td id=\"T_bffcfb86_01d4_11e9_b450_d46d6db62f0arow14_col1\" class=\"data row14 col1\" >84.0</td> \n",
       "        <td id=\"T_bffcfb86_01d4_11e9_b450_d46d6db62f0arow14_col2\" class=\"data row14 col2\" >83.8</td> \n",
       "        <td id=\"T_bffcfb86_01d4_11e9_b450_d46d6db62f0arow14_col3\" class=\"data row14 col3\" >83.6</td> \n",
       "    </tr></tbody> \n",
       "</table> "
      ],
      "text/plain": [
       "<pandas.io.formats.style.Styler at 0x1d3dbf6def0>"
      ]
     },
     "execution_count": 300,
     "metadata": {},
     "output_type": "execute_result"
    }
   ],
   "source": [
    "#creates grade level average math scores for each school \n",
    "ninth_math = school_data_complete_df.loc[school_data_complete_df['grade'] == '9th'].groupby('school_name')[\"math_score\"].mean()\n",
    "tenth_math = school_data_complete_df.loc[school_data_complete_df['grade'] == '10th'].groupby('school_name')[\"math_score\"].mean()\n",
    "eleventh_math = school_data_complete_df.loc[school_data_complete_df['grade'] == '11th'].groupby('school_name')[\"math_score\"].mean()\n",
    "twelfth_math = school_data_complete_df.loc[school_data_complete_df['grade'] == '12th'].groupby('school_name')[\"math_score\"].mean()\n",
    "\n",
    "math_scores = pd.DataFrame({\n",
    "        \"9th\": ninth_math,\n",
    "        \"10th\": tenth_math,\n",
    "        \"11th\": eleventh_math,\n",
    "        \"12th\": twelfth_math\n",
    "})\n",
    "math_scores = math_scores[['9th', '10th', '11th', '12th']]\n",
    "math_scores.index.name = \"School\"\n",
    "\n",
    "#show and format\n",
    "math_scores.style.format({'9th': '{:.1f}', \n",
    "                          \"10th\": '{:.1f}', \n",
    "                          \"11th\": \"{:.1f}\", \n",
    "                          \"12th\": \"{:.1f}\"})"
   ]
  },
  {
   "cell_type": "markdown",
   "metadata": {},
   "source": [
    "## Reading Score by Grade "
   ]
  },
  {
   "cell_type": "markdown",
   "metadata": {},
   "source": [
    "* Perform the same operations as above for reading scores"
   ]
  },
  {
   "cell_type": "code",
   "execution_count": 301,
   "metadata": {},
   "outputs": [
    {
     "data": {
      "text/html": [
       "<style  type=\"text/css\" >\n",
       "</style>  \n",
       "<table id=\"T_d9b92fb6_01d4_11e9_8975_d46d6db62f0a\" > \n",
       "<thead>    <tr> \n",
       "        <th class=\"blank level0\" ></th> \n",
       "        <th class=\"col_heading level0 col0\" >9th</th> \n",
       "        <th class=\"col_heading level0 col1\" >10th</th> \n",
       "        <th class=\"col_heading level0 col2\" >11th</th> \n",
       "        <th class=\"col_heading level0 col3\" >12th</th> \n",
       "    </tr>    <tr> \n",
       "        <th class=\"index_name level0\" >School</th> \n",
       "        <th class=\"blank\" ></th> \n",
       "        <th class=\"blank\" ></th> \n",
       "        <th class=\"blank\" ></th> \n",
       "        <th class=\"blank\" ></th> \n",
       "    </tr></thead> \n",
       "<tbody>    <tr> \n",
       "        <th id=\"T_d9b92fb6_01d4_11e9_8975_d46d6db62f0alevel0_row0\" class=\"row_heading level0 row0\" >Bailey High School</th> \n",
       "        <td id=\"T_d9b92fb6_01d4_11e9_8975_d46d6db62f0arow0_col0\" class=\"data row0 col0\" >81.3</td> \n",
       "        <td id=\"T_d9b92fb6_01d4_11e9_8975_d46d6db62f0arow0_col1\" class=\"data row0 col1\" >80.9</td> \n",
       "        <td id=\"T_d9b92fb6_01d4_11e9_8975_d46d6db62f0arow0_col2\" class=\"data row0 col2\" >80.9</td> \n",
       "        <td id=\"T_d9b92fb6_01d4_11e9_8975_d46d6db62f0arow0_col3\" class=\"data row0 col3\" >80.9</td> \n",
       "    </tr>    <tr> \n",
       "        <th id=\"T_d9b92fb6_01d4_11e9_8975_d46d6db62f0alevel0_row1\" class=\"row_heading level0 row1\" >Cabrera High School</th> \n",
       "        <td id=\"T_d9b92fb6_01d4_11e9_8975_d46d6db62f0arow1_col0\" class=\"data row1 col0\" >83.7</td> \n",
       "        <td id=\"T_d9b92fb6_01d4_11e9_8975_d46d6db62f0arow1_col1\" class=\"data row1 col1\" >84.3</td> \n",
       "        <td id=\"T_d9b92fb6_01d4_11e9_8975_d46d6db62f0arow1_col2\" class=\"data row1 col2\" >83.8</td> \n",
       "        <td id=\"T_d9b92fb6_01d4_11e9_8975_d46d6db62f0arow1_col3\" class=\"data row1 col3\" >84.3</td> \n",
       "    </tr>    <tr> \n",
       "        <th id=\"T_d9b92fb6_01d4_11e9_8975_d46d6db62f0alevel0_row2\" class=\"row_heading level0 row2\" >Figueroa High School</th> \n",
       "        <td id=\"T_d9b92fb6_01d4_11e9_8975_d46d6db62f0arow2_col0\" class=\"data row2 col0\" >81.2</td> \n",
       "        <td id=\"T_d9b92fb6_01d4_11e9_8975_d46d6db62f0arow2_col1\" class=\"data row2 col1\" >81.4</td> \n",
       "        <td id=\"T_d9b92fb6_01d4_11e9_8975_d46d6db62f0arow2_col2\" class=\"data row2 col2\" >80.6</td> \n",
       "        <td id=\"T_d9b92fb6_01d4_11e9_8975_d46d6db62f0arow2_col3\" class=\"data row2 col3\" >81.4</td> \n",
       "    </tr>    <tr> \n",
       "        <th id=\"T_d9b92fb6_01d4_11e9_8975_d46d6db62f0alevel0_row3\" class=\"row_heading level0 row3\" >Ford High School</th> \n",
       "        <td id=\"T_d9b92fb6_01d4_11e9_8975_d46d6db62f0arow3_col0\" class=\"data row3 col0\" >80.6</td> \n",
       "        <td id=\"T_d9b92fb6_01d4_11e9_8975_d46d6db62f0arow3_col1\" class=\"data row3 col1\" >81.3</td> \n",
       "        <td id=\"T_d9b92fb6_01d4_11e9_8975_d46d6db62f0arow3_col2\" class=\"data row3 col2\" >80.4</td> \n",
       "        <td id=\"T_d9b92fb6_01d4_11e9_8975_d46d6db62f0arow3_col3\" class=\"data row3 col3\" >80.7</td> \n",
       "    </tr>    <tr> \n",
       "        <th id=\"T_d9b92fb6_01d4_11e9_8975_d46d6db62f0alevel0_row4\" class=\"row_heading level0 row4\" >Griffin High School</th> \n",
       "        <td id=\"T_d9b92fb6_01d4_11e9_8975_d46d6db62f0arow4_col0\" class=\"data row4 col0\" >83.4</td> \n",
       "        <td id=\"T_d9b92fb6_01d4_11e9_8975_d46d6db62f0arow4_col1\" class=\"data row4 col1\" >83.7</td> \n",
       "        <td id=\"T_d9b92fb6_01d4_11e9_8975_d46d6db62f0arow4_col2\" class=\"data row4 col2\" >84.3</td> \n",
       "        <td id=\"T_d9b92fb6_01d4_11e9_8975_d46d6db62f0arow4_col3\" class=\"data row4 col3\" >84.0</td> \n",
       "    </tr>    <tr> \n",
       "        <th id=\"T_d9b92fb6_01d4_11e9_8975_d46d6db62f0alevel0_row5\" class=\"row_heading level0 row5\" >Hernandez High School</th> \n",
       "        <td id=\"T_d9b92fb6_01d4_11e9_8975_d46d6db62f0arow5_col0\" class=\"data row5 col0\" >80.9</td> \n",
       "        <td id=\"T_d9b92fb6_01d4_11e9_8975_d46d6db62f0arow5_col1\" class=\"data row5 col1\" >80.7</td> \n",
       "        <td id=\"T_d9b92fb6_01d4_11e9_8975_d46d6db62f0arow5_col2\" class=\"data row5 col2\" >81.4</td> \n",
       "        <td id=\"T_d9b92fb6_01d4_11e9_8975_d46d6db62f0arow5_col3\" class=\"data row5 col3\" >80.9</td> \n",
       "    </tr>    <tr> \n",
       "        <th id=\"T_d9b92fb6_01d4_11e9_8975_d46d6db62f0alevel0_row6\" class=\"row_heading level0 row6\" >Holden High School</th> \n",
       "        <td id=\"T_d9b92fb6_01d4_11e9_8975_d46d6db62f0arow6_col0\" class=\"data row6 col0\" >83.7</td> \n",
       "        <td id=\"T_d9b92fb6_01d4_11e9_8975_d46d6db62f0arow6_col1\" class=\"data row6 col1\" >83.3</td> \n",
       "        <td id=\"T_d9b92fb6_01d4_11e9_8975_d46d6db62f0arow6_col2\" class=\"data row6 col2\" >83.8</td> \n",
       "        <td id=\"T_d9b92fb6_01d4_11e9_8975_d46d6db62f0arow6_col3\" class=\"data row6 col3\" >84.7</td> \n",
       "    </tr>    <tr> \n",
       "        <th id=\"T_d9b92fb6_01d4_11e9_8975_d46d6db62f0alevel0_row7\" class=\"row_heading level0 row7\" >Huang High School</th> \n",
       "        <td id=\"T_d9b92fb6_01d4_11e9_8975_d46d6db62f0arow7_col0\" class=\"data row7 col0\" >81.3</td> \n",
       "        <td id=\"T_d9b92fb6_01d4_11e9_8975_d46d6db62f0arow7_col1\" class=\"data row7 col1\" >81.5</td> \n",
       "        <td id=\"T_d9b92fb6_01d4_11e9_8975_d46d6db62f0arow7_col2\" class=\"data row7 col2\" >81.4</td> \n",
       "        <td id=\"T_d9b92fb6_01d4_11e9_8975_d46d6db62f0arow7_col3\" class=\"data row7 col3\" >80.3</td> \n",
       "    </tr>    <tr> \n",
       "        <th id=\"T_d9b92fb6_01d4_11e9_8975_d46d6db62f0alevel0_row8\" class=\"row_heading level0 row8\" >Johnson High School</th> \n",
       "        <td id=\"T_d9b92fb6_01d4_11e9_8975_d46d6db62f0arow8_col0\" class=\"data row8 col0\" >81.3</td> \n",
       "        <td id=\"T_d9b92fb6_01d4_11e9_8975_d46d6db62f0arow8_col1\" class=\"data row8 col1\" >80.8</td> \n",
       "        <td id=\"T_d9b92fb6_01d4_11e9_8975_d46d6db62f0arow8_col2\" class=\"data row8 col2\" >80.6</td> \n",
       "        <td id=\"T_d9b92fb6_01d4_11e9_8975_d46d6db62f0arow8_col3\" class=\"data row8 col3\" >81.2</td> \n",
       "    </tr>    <tr> \n",
       "        <th id=\"T_d9b92fb6_01d4_11e9_8975_d46d6db62f0alevel0_row9\" class=\"row_heading level0 row9\" >Pena High School</th> \n",
       "        <td id=\"T_d9b92fb6_01d4_11e9_8975_d46d6db62f0arow9_col0\" class=\"data row9 col0\" >83.8</td> \n",
       "        <td id=\"T_d9b92fb6_01d4_11e9_8975_d46d6db62f0arow9_col1\" class=\"data row9 col1\" >83.6</td> \n",
       "        <td id=\"T_d9b92fb6_01d4_11e9_8975_d46d6db62f0arow9_col2\" class=\"data row9 col2\" >84.3</td> \n",
       "        <td id=\"T_d9b92fb6_01d4_11e9_8975_d46d6db62f0arow9_col3\" class=\"data row9 col3\" >84.6</td> \n",
       "    </tr>    <tr> \n",
       "        <th id=\"T_d9b92fb6_01d4_11e9_8975_d46d6db62f0alevel0_row10\" class=\"row_heading level0 row10\" >Rodriguez High School</th> \n",
       "        <td id=\"T_d9b92fb6_01d4_11e9_8975_d46d6db62f0arow10_col0\" class=\"data row10 col0\" >81.0</td> \n",
       "        <td id=\"T_d9b92fb6_01d4_11e9_8975_d46d6db62f0arow10_col1\" class=\"data row10 col1\" >80.6</td> \n",
       "        <td id=\"T_d9b92fb6_01d4_11e9_8975_d46d6db62f0arow10_col2\" class=\"data row10 col2\" >80.9</td> \n",
       "        <td id=\"T_d9b92fb6_01d4_11e9_8975_d46d6db62f0arow10_col3\" class=\"data row10 col3\" >80.4</td> \n",
       "    </tr>    <tr> \n",
       "        <th id=\"T_d9b92fb6_01d4_11e9_8975_d46d6db62f0alevel0_row11\" class=\"row_heading level0 row11\" >Shelton High School</th> \n",
       "        <td id=\"T_d9b92fb6_01d4_11e9_8975_d46d6db62f0arow11_col0\" class=\"data row11 col0\" >84.1</td> \n",
       "        <td id=\"T_d9b92fb6_01d4_11e9_8975_d46d6db62f0arow11_col1\" class=\"data row11 col1\" >83.4</td> \n",
       "        <td id=\"T_d9b92fb6_01d4_11e9_8975_d46d6db62f0arow11_col2\" class=\"data row11 col2\" >84.4</td> \n",
       "        <td id=\"T_d9b92fb6_01d4_11e9_8975_d46d6db62f0arow11_col3\" class=\"data row11 col3\" >82.8</td> \n",
       "    </tr>    <tr> \n",
       "        <th id=\"T_d9b92fb6_01d4_11e9_8975_d46d6db62f0alevel0_row12\" class=\"row_heading level0 row12\" >Thomas High School</th> \n",
       "        <td id=\"T_d9b92fb6_01d4_11e9_8975_d46d6db62f0arow12_col0\" class=\"data row12 col0\" >83.7</td> \n",
       "        <td id=\"T_d9b92fb6_01d4_11e9_8975_d46d6db62f0arow12_col1\" class=\"data row12 col1\" >84.3</td> \n",
       "        <td id=\"T_d9b92fb6_01d4_11e9_8975_d46d6db62f0arow12_col2\" class=\"data row12 col2\" >83.6</td> \n",
       "        <td id=\"T_d9b92fb6_01d4_11e9_8975_d46d6db62f0arow12_col3\" class=\"data row12 col3\" >83.8</td> \n",
       "    </tr>    <tr> \n",
       "        <th id=\"T_d9b92fb6_01d4_11e9_8975_d46d6db62f0alevel0_row13\" class=\"row_heading level0 row13\" >Wilson High School</th> \n",
       "        <td id=\"T_d9b92fb6_01d4_11e9_8975_d46d6db62f0arow13_col0\" class=\"data row13 col0\" >83.9</td> \n",
       "        <td id=\"T_d9b92fb6_01d4_11e9_8975_d46d6db62f0arow13_col1\" class=\"data row13 col1\" >84.0</td> \n",
       "        <td id=\"T_d9b92fb6_01d4_11e9_8975_d46d6db62f0arow13_col2\" class=\"data row13 col2\" >83.8</td> \n",
       "        <td id=\"T_d9b92fb6_01d4_11e9_8975_d46d6db62f0arow13_col3\" class=\"data row13 col3\" >84.3</td> \n",
       "    </tr>    <tr> \n",
       "        <th id=\"T_d9b92fb6_01d4_11e9_8975_d46d6db62f0alevel0_row14\" class=\"row_heading level0 row14\" >Wright High School</th> \n",
       "        <td id=\"T_d9b92fb6_01d4_11e9_8975_d46d6db62f0arow14_col0\" class=\"data row14 col0\" >83.8</td> \n",
       "        <td id=\"T_d9b92fb6_01d4_11e9_8975_d46d6db62f0arow14_col1\" class=\"data row14 col1\" >83.8</td> \n",
       "        <td id=\"T_d9b92fb6_01d4_11e9_8975_d46d6db62f0arow14_col2\" class=\"data row14 col2\" >84.2</td> \n",
       "        <td id=\"T_d9b92fb6_01d4_11e9_8975_d46d6db62f0arow14_col3\" class=\"data row14 col3\" >84.1</td> \n",
       "    </tr></tbody> \n",
       "</table> "
      ],
      "text/plain": [
       "<pandas.io.formats.style.Styler at 0x1d3dbed7a90>"
      ]
     },
     "execution_count": 301,
     "metadata": {},
     "output_type": "execute_result"
    }
   ],
   "source": [
    "#creates grade level average reading scores for each school\n",
    "ninth_reading = school_data_complete_df.loc[school_data_complete_df['grade'] == '9th'].groupby('school_name')[\"reading_score\"].mean()\n",
    "tenth_reading = school_data_complete_df.loc[school_data_complete_df['grade'] == '10th'].groupby('school_name')[\"reading_score\"].mean()\n",
    "eleventh_reading = school_data_complete_df.loc[school_data_complete_df['grade'] == '11th'].groupby('school_name')[\"reading_score\"].mean()\n",
    "twelfth_reading = school_data_complete_df.loc[school_data_complete_df['grade'] == '12th'].groupby('school_name')[\"reading_score\"].mean()\n",
    "\n",
    "#merges the reading score averages by school and grade together\n",
    "reading_scores = pd.DataFrame({\n",
    "        \"9th\": ninth_reading,\n",
    "        \"10th\": tenth_reading,\n",
    "        \"11th\": eleventh_reading,\n",
    "        \"12th\": twelfth_reading\n",
    "})\n",
    "reading_scores = reading_scores[['9th', '10th', '11th', '12th']]\n",
    "reading_scores.index.name = \"School\"\n",
    "\n",
    "#format\n",
    "reading_scores.style.format({'9th': '{:.1f}', \n",
    "                             \"10th\": '{:.1f}', \n",
    "                             \"11th\": \"{:.1f}\", \n",
    "                             \"12th\": \"{:.1f}\"})"
   ]
  },
  {
   "cell_type": "markdown",
   "metadata": {},
   "source": [
    "## Scores by School Spending"
   ]
  },
  {
   "cell_type": "markdown",
   "metadata": {},
   "source": [
    "* Create a table that breaks down school performances based on average Spending Ranges (Per Student). Use 4 reasonable bins to group school spending. Include in the table each of the following:\n",
    "  * Average Math Score\n",
    "  * Average Reading Score\n",
    "  * % Passing Math\n",
    "  * % Passing Reading\n",
    "  * Overall Passing Rate (Average of the above two)"
   ]
  },
  {
   "cell_type": "code",
   "execution_count": 17,
   "metadata": {},
   "outputs": [],
   "source": [
    "# Sample bins. Feel free to create your own bins.\n",
    "spending_bins = [0, 585, 615, 645, 675]\n",
    "group_names = [\"<$585\", \"$585-615\", \"$615-645\", \"$645-675\"]"
   ]
  },
  {
   "cell_type": "code",
   "execution_count": 18,
   "metadata": {},
   "outputs": [
    {
     "data": {
      "text/html": [
       "<div>\n",
       "<style scoped>\n",
       "    .dataframe tbody tr th:only-of-type {\n",
       "        vertical-align: middle;\n",
       "    }\n",
       "\n",
       "    .dataframe tbody tr th {\n",
       "        vertical-align: top;\n",
       "    }\n",
       "\n",
       "    .dataframe thead th {\n",
       "        text-align: right;\n",
       "    }\n",
       "</style>\n",
       "<table border=\"1\" class=\"dataframe\">\n",
       "  <thead>\n",
       "    <tr style=\"text-align: right;\">\n",
       "      <th></th>\n",
       "      <th>Average Math Score</th>\n",
       "      <th>Average Reading Score</th>\n",
       "      <th>% Passing Math</th>\n",
       "      <th>% Passing Reading</th>\n",
       "      <th>% Overall Passing Rate</th>\n",
       "    </tr>\n",
       "    <tr>\n",
       "      <th>Spending Ranges (Per Student)</th>\n",
       "      <th></th>\n",
       "      <th></th>\n",
       "      <th></th>\n",
       "      <th></th>\n",
       "      <th></th>\n",
       "    </tr>\n",
       "  </thead>\n",
       "  <tbody>\n",
       "    <tr>\n",
       "      <th>&lt;$585</th>\n",
       "      <td>83.455399</td>\n",
       "      <td>83.933814</td>\n",
       "      <td>93.460096</td>\n",
       "      <td>96.610877</td>\n",
       "      <td>95.035486</td>\n",
       "    </tr>\n",
       "    <tr>\n",
       "      <th>$585-615</th>\n",
       "      <td>83.599686</td>\n",
       "      <td>83.885211</td>\n",
       "      <td>94.230858</td>\n",
       "      <td>95.900287</td>\n",
       "      <td>95.065572</td>\n",
       "    </tr>\n",
       "    <tr>\n",
       "      <th>$615-645</th>\n",
       "      <td>79.079225</td>\n",
       "      <td>81.891436</td>\n",
       "      <td>75.668212</td>\n",
       "      <td>86.106569</td>\n",
       "      <td>80.887391</td>\n",
       "    </tr>\n",
       "    <tr>\n",
       "      <th>$645-675</th>\n",
       "      <td>76.997210</td>\n",
       "      <td>81.027843</td>\n",
       "      <td>66.164813</td>\n",
       "      <td>81.133951</td>\n",
       "      <td>73.649382</td>\n",
       "    </tr>\n",
       "  </tbody>\n",
       "</table>\n",
       "</div>"
      ],
      "text/plain": [
       "                               Average Math Score  Average Reading Score  \\\n",
       "Spending Ranges (Per Student)                                              \n",
       "<$585                                   83.455399              83.933814   \n",
       "$585-615                                83.599686              83.885211   \n",
       "$615-645                                79.079225              81.891436   \n",
       "$645-675                                76.997210              81.027843   \n",
       "\n",
       "                               % Passing Math  % Passing Reading  \\\n",
       "Spending Ranges (Per Student)                                      \n",
       "<$585                               93.460096          96.610877   \n",
       "$585-615                            94.230858          95.900287   \n",
       "$615-645                            75.668212          86.106569   \n",
       "$645-675                            66.164813          81.133951   \n",
       "\n",
       "                               % Overall Passing Rate  \n",
       "Spending Ranges (Per Student)                          \n",
       "<$585                                       95.035486  \n",
       "$585-615                                    95.065572  \n",
       "$615-645                                    80.887391  \n",
       "$645-675                                    73.649382  "
      ]
     },
     "execution_count": 18,
     "metadata": {},
     "output_type": "execute_result"
    }
   ],
   "source": [
    "# create spending bins\n",
    "bins = [0, 584.999, 614.999, 644.999, 999999]\n",
    "group_name = ['< $585', \"$585 - 614\", \"$615 - 644\", \"> $644\"]\n",
    "merged_df['spending_bins'] = pd.cut(merged_df['budget']/merged_df['size'], bins, labels = group_name)\n",
    "\n",
    "#group by spending\n",
    "by_spending = merged_df.groupby('spending_bins')\n",
    "\n",
    "#calculations\n",
    "avg_math = by_spending['math_score'].mean()\n",
    "avg_read = by_spending['reading_score'].mean()\n",
    "pass_math = merged_df[merged_df['math_score'] >= 70].groupby('spending_bins')['Student ID'].count()/by_spending['Student ID'].count()\n",
    "pass_read = merged_df[merged_df['reading_score'] >= 70].groupby('spending_bins')['Student ID'].count()/by_spending['Student ID'].count()\n",
    "overall = merged_df[(merged_df['reading_score'] >= 70) & (merged_df['math_score'] >= 70)].groupby('spending_bins')['Student ID'].count()/by_spending['Student ID'].count()\n",
    "\n",
    "            \n",
    "# df build            \n",
    "scores_by_spend = pd.DataFrame({\n",
    "    \"Average Math Score\": avg_math,\n",
    "    \"Average Reading Score\": avg_read,\n",
    "    '% Passing Math': pass_math,\n",
    "    '% Passing Reading': pass_read,\n",
    "    \"Overall Passing Rate\": overall\n",
    "            \n",
    "})\n",
    "            \n",
    "#reorder columns\n",
    "scores_by_spend = scores_by_spend[[\n",
    "    \"Average Math Score\",\n",
    "    \"Average Reading Score\",\n",
    "    '% Passing Math',\n",
    "    '% Passing Reading',\n",
    "    \"Overall Passing Rate\"\n",
    "]]\n",
    "\n",
    "scores_by_spend.index.name = \"Per Student Budget\"\n",
    "scores_by_spend = scores_by_spend.reindex(group_name)\n",
    "\n",
    "#formating\n",
    "scores_by_spend.style.format({'Average Math Score': '{:.1f}', \n",
    "                              'Average Reading Score': '{:.1f}', \n",
    "                              '% Passing Math': '{:.1%}', \n",
    "                              '% Passing Reading':'{:.1%}', \n",
    "                              'Overall Passing Rate': '{:.1%}'})"
   ]
  },
  {
   "cell_type": "markdown",
   "metadata": {},
   "source": [
    "## Scores by School Size"
   ]
  },
  {
   "cell_type": "markdown",
   "metadata": {},
   "source": [
    "* Perform the same operations as above, based on school size."
   ]
  },
  {
   "cell_type": "code",
   "execution_count": null,
   "metadata": {},
   "outputs": [],
   "source": [
    "# Sample bins. Feel free to create your own bins.\n",
    "size_bins = [0, 1000, 2000, 5000]\n",
    "group_names = [\"Small (<1000)\", \"Medium (1000-2000)\", \"Large (2000-5000)\"]"
   ]
  },
  {
   "cell_type": "code",
   "execution_count": 19,
   "metadata": {
    "scrolled": true
   },
   "outputs": [
    {
     "data": {
      "text/html": [
       "<div>\n",
       "<style scoped>\n",
       "    .dataframe tbody tr th:only-of-type {\n",
       "        vertical-align: middle;\n",
       "    }\n",
       "\n",
       "    .dataframe tbody tr th {\n",
       "        vertical-align: top;\n",
       "    }\n",
       "\n",
       "    .dataframe thead th {\n",
       "        text-align: right;\n",
       "    }\n",
       "</style>\n",
       "<table border=\"1\" class=\"dataframe\">\n",
       "  <thead>\n",
       "    <tr style=\"text-align: right;\">\n",
       "      <th></th>\n",
       "      <th>Average Math Score</th>\n",
       "      <th>Average Reading Score</th>\n",
       "      <th>% Passing Math</th>\n",
       "      <th>% Passing Reading</th>\n",
       "      <th>% Overall Passing Rate</th>\n",
       "    </tr>\n",
       "    <tr>\n",
       "      <th>School Size</th>\n",
       "      <th></th>\n",
       "      <th></th>\n",
       "      <th></th>\n",
       "      <th></th>\n",
       "      <th></th>\n",
       "    </tr>\n",
       "  </thead>\n",
       "  <tbody>\n",
       "    <tr>\n",
       "      <th>Small (&lt;1000)</th>\n",
       "      <td>83.821598</td>\n",
       "      <td>83.929843</td>\n",
       "      <td>93.550225</td>\n",
       "      <td>96.099437</td>\n",
       "      <td>94.824831</td>\n",
       "    </tr>\n",
       "    <tr>\n",
       "      <th>Medium (1000-2000)</th>\n",
       "      <td>83.374684</td>\n",
       "      <td>83.864438</td>\n",
       "      <td>93.599695</td>\n",
       "      <td>96.790680</td>\n",
       "      <td>95.195187</td>\n",
       "    </tr>\n",
       "    <tr>\n",
       "      <th>Large (2000-5000)</th>\n",
       "      <td>77.746417</td>\n",
       "      <td>81.344493</td>\n",
       "      <td>69.963361</td>\n",
       "      <td>82.766634</td>\n",
       "      <td>76.364998</td>\n",
       "    </tr>\n",
       "  </tbody>\n",
       "</table>\n",
       "</div>"
      ],
      "text/plain": [
       "                    Average Math Score  Average Reading Score  % Passing Math  \\\n",
       "School Size                                                                     \n",
       "Small (<1000)                83.821598              83.929843       93.550225   \n",
       "Medium (1000-2000)           83.374684              83.864438       93.599695   \n",
       "Large (2000-5000)            77.746417              81.344493       69.963361   \n",
       "\n",
       "                    % Passing Reading  % Overall Passing Rate  \n",
       "School Size                                                    \n",
       "Small (<1000)               96.099437               94.824831  \n",
       "Medium (1000-2000)          96.790680               95.195187  \n",
       "Large (2000-5000)           82.766634               76.364998  "
      ]
     },
     "execution_count": 19,
     "metadata": {},
     "output_type": "execute_result"
    }
   ],
   "source": [
    "# create size bins\n",
    "bins = [0, 999, 1999, 99999999999]\n",
    "group_name = [\"Small (<1000)\", \"Medium (1000-2000)\" , \"Large (>2000)\"]\n",
    "merged_df['size_bins'] = pd.cut(merged_df['size'], bins, labels = group_name)\n",
    "\n",
    "#group by spending\n",
    "by_size = merged_df.groupby('size_bins')\n",
    "\n",
    "#calculations \n",
    "avg_math = by_size['math_score'].mean()\n",
    "avg_read = by_size['math_score'].mean()\n",
    "pass_math = merged_df[merged_df['math_score'] >= 70].groupby('size_bins')['Student ID'].count()/by_size['Student ID'].count()\n",
    "pass_read = merged_df[merged_df['reading_score'] >= 70].groupby('size_bins')['Student ID'].count()/by_size['Student ID'].count()\n",
    "overall = merged_df[(merged_df['reading_score'] >= 70) & (merged_df['math_score'] >= 70)].groupby('size_bins')['Student ID'].count()/by_size['Student ID'].count()\n",
    "\n",
    "            \n",
    "# df build            \n",
    "scores_by_size = pd.DataFrame({\n",
    "    \"Average Math Score\": avg_math,\n",
    "    \"Average Reading Score\": avg_read,\n",
    "    '% Passing Math': pass_math,\n",
    "    '% Passing Reading': pass_read,\n",
    "    \"Overall Passing Rate\": overall\n",
    "            \n",
    "})\n",
    "            \n",
    "#reorder columns\n",
    "scores_by_size = scores_by_size[[\n",
    "    \"Average Math Score\",\n",
    "    \"Average Reading Score\",\n",
    "    '% Passing Math',\n",
    "    '% Passing Reading',\n",
    "    \"Overall Passing Rate\"\n",
    "]]\n",
    "\n",
    "scores_by_size.index.name = \"Total Students\"\n",
    "scores_by_size = scores_by_size.reindex(group_name)\n",
    "\n",
    "#formating\n",
    "scores_by_size.style.format({'Average Math Score': '{:.1f}', \n",
    "                              'Average Reading Score': '{:.1f}', \n",
    "                              '% Passing Math': '{:.1%}', \n",
    "                              '% Passing Reading':'{:.1%}', \n",
    "                              'Overall Passing Rate': '{:.1%}'})"
   ]
  },
  {
   "cell_type": "markdown",
   "metadata": {},
   "source": [
    "## Scores by School Type"
   ]
  },
  {
   "cell_type": "markdown",
   "metadata": {},
   "source": [
    "* Perform the same operations as above, based on school type."
   ]
  },
  {
   "cell_type": "code",
   "execution_count": 20,
   "metadata": {},
   "outputs": [
    {
     "data": {
      "text/html": [
       "<div>\n",
       "<style scoped>\n",
       "    .dataframe tbody tr th:only-of-type {\n",
       "        vertical-align: middle;\n",
       "    }\n",
       "\n",
       "    .dataframe tbody tr th {\n",
       "        vertical-align: top;\n",
       "    }\n",
       "\n",
       "    .dataframe thead th {\n",
       "        text-align: right;\n",
       "    }\n",
       "</style>\n",
       "<table border=\"1\" class=\"dataframe\">\n",
       "  <thead>\n",
       "    <tr style=\"text-align: right;\">\n",
       "      <th></th>\n",
       "      <th>Average Math Score</th>\n",
       "      <th>Average Reading Score</th>\n",
       "      <th>% Passing Math</th>\n",
       "      <th>% Passing Reading</th>\n",
       "      <th>% Overall Passing Rate</th>\n",
       "    </tr>\n",
       "    <tr>\n",
       "      <th>School Type</th>\n",
       "      <th></th>\n",
       "      <th></th>\n",
       "      <th></th>\n",
       "      <th></th>\n",
       "      <th></th>\n",
       "    </tr>\n",
       "  </thead>\n",
       "  <tbody>\n",
       "    <tr>\n",
       "      <th>Charter</th>\n",
       "      <td>83.473852</td>\n",
       "      <td>83.896421</td>\n",
       "      <td>93.620830</td>\n",
       "      <td>96.586489</td>\n",
       "      <td>95.103660</td>\n",
       "    </tr>\n",
       "    <tr>\n",
       "      <th>District</th>\n",
       "      <td>76.956733</td>\n",
       "      <td>80.966636</td>\n",
       "      <td>66.548453</td>\n",
       "      <td>80.799062</td>\n",
       "      <td>73.673757</td>\n",
       "    </tr>\n",
       "  </tbody>\n",
       "</table>\n",
       "</div>"
      ],
      "text/plain": [
       "             Average Math Score  Average Reading Score  % Passing Math  \\\n",
       "School Type                                                              \n",
       "Charter               83.473852              83.896421       93.620830   \n",
       "District              76.956733              80.966636       66.548453   \n",
       "\n",
       "             % Passing Reading  % Overall Passing Rate  \n",
       "School Type                                             \n",
       "Charter              96.586489               95.103660  \n",
       "District             80.799062               73.673757  "
      ]
     },
     "execution_count": 20,
     "metadata": {},
     "output_type": "execute_result"
    }
   ],
   "source": [
    "# group by type of school\n",
    "by_type = merged_df.groupby(\"type\")\n",
    "\n",
    "#calculations \n",
    "avg_math = by_type['math_score'].mean()\n",
    "avg_read = by_type['math_score'].mean()\n",
    "pass_math = merged_df[merged_df['math_score'] >= 70].groupby('type')['Student ID'].count()/by_type['Student ID'].count()\n",
    "pass_read = merged_df[merged_df['reading_score'] >= 70].groupby('type')['Student ID'].count()/by_type['Student ID'].count()\n",
    "overall = merged_df[(merged_df['reading_score'] >= 70) & (merged_df['math_score'] >= 70)].groupby('type')['Student ID'].count()/by_type['Student ID'].count()\n",
    "\n",
    "# df build            \n",
    "scores_by_type = pd.DataFrame({\n",
    "    \"Average Math Score\": avg_math,\n",
    "    \"Average Reading Score\": avg_read,\n",
    "    '% Passing Math': pass_math,\n",
    "    '% Passing Reading': pass_read,\n",
    "    \"Overall Passing Rate\": overall})\n",
    "    \n",
    "#reorder columns\n",
    "scores_by_type = scores_by_type[[\n",
    "    \"Average Math Score\",\n",
    "    \"Average Reading Score\",\n",
    "    '% Passing Math',\n",
    "    '% Passing Reading',\n",
    "    \"Overall Passing Rate\"\n",
    "]]\n",
    "scores_by_type.index.name = \"Type of School\"\n",
    "\n",
    "\n",
    "#formating\n",
    "scores_by_type.style.format({'Average Math Score': '{:.1f}', \n",
    "                              'Average Reading Score': '{:.1f}', \n",
    "                              '% Passing Math': '{:.1%}', \n",
    "                              '% Passing Reading':'{:.1%}', \n",
    "                              'Overall Passing Rate': '{:.1%}'})"
   ]
  },
  {
   "cell_type": "code",
   "execution_count": null,
   "metadata": {},
   "outputs": [],
   "source": []
  }
 ],
 "metadata": {
  "anaconda-cloud": {},
  "kernel_info": {
   "name": "python3"
  },
  "kernelspec": {
   "display_name": "Python 3",
   "language": "python",
   "name": "python3"
  },
  "language_info": {
   "codemirror_mode": {
    "name": "ipython",
    "version": 3
   },
   "file_extension": ".py",
   "mimetype": "text/x-python",
   "name": "python",
   "nbconvert_exporter": "python",
   "pygments_lexer": "ipython3",
   "version": "3.7.0"
  },
  "nteract": {
   "version": "0.8.4"
  }
 },
 "nbformat": 4,
 "nbformat_minor": 1
}
