{
 "cells": [
  {
   "cell_type": "markdown",
   "metadata": {},
   "source": [
    "# PyCity Schools Analysis\n",
    "\n",
    "* As a whole, schools with higher budgets, did not yield better test results. By contrast, schools with higher spending per student actually (\\$645-675) underperformed compared to schools with smaller budgets (<\\$585 per student).\n",
    "\n",
    "* As a whole, smaller and medium sized schools dramatically out-performed large sized schools on passing math performances (89-91% passing vs 67%).\n",
    "\n",
    "* As a whole, charter schools out-performed the public district schools across all metrics. However, more analysis will be required to glean if the effect is due to school practices or the fact that charter schools tend to serve smaller student populations per school. \n",
    "---"
   ]
  },
  {
   "cell_type": "markdown",
   "metadata": {},
   "source": [
    "### Note\n",
    "* Instructions have been included for each segment. You do not have to follow them exactly, but they are included to help you think through the steps."
   ]
  },
  {
   "cell_type": "code",
   "execution_count": 1,
   "metadata": {},
   "outputs": [
    {
     "data": {
      "text/html": [
       "<div>\n",
       "<style scoped>\n",
       "    .dataframe tbody tr th:only-of-type {\n",
       "        vertical-align: middle;\n",
       "    }\n",
       "\n",
       "    .dataframe tbody tr th {\n",
       "        vertical-align: top;\n",
       "    }\n",
       "\n",
       "    .dataframe thead th {\n",
       "        text-align: right;\n",
       "    }\n",
       "</style>\n",
       "<table border=\"1\" class=\"dataframe\">\n",
       "  <thead>\n",
       "    <tr style=\"text-align: right;\">\n",
       "      <th></th>\n",
       "      <th>Student ID</th>\n",
       "      <th>student_name</th>\n",
       "      <th>gender</th>\n",
       "      <th>grade</th>\n",
       "      <th>school_name</th>\n",
       "      <th>reading_score</th>\n",
       "      <th>math_score</th>\n",
       "      <th>School ID</th>\n",
       "      <th>type</th>\n",
       "      <th>size</th>\n",
       "      <th>budget</th>\n",
       "    </tr>\n",
       "  </thead>\n",
       "  <tbody>\n",
       "    <tr>\n",
       "      <th>0</th>\n",
       "      <td>0</td>\n",
       "      <td>Paul Bradley</td>\n",
       "      <td>M</td>\n",
       "      <td>9th</td>\n",
       "      <td>Huang High School</td>\n",
       "      <td>66</td>\n",
       "      <td>79</td>\n",
       "      <td>0</td>\n",
       "      <td>District</td>\n",
       "      <td>2917</td>\n",
       "      <td>1910635</td>\n",
       "    </tr>\n",
       "    <tr>\n",
       "      <th>1</th>\n",
       "      <td>1</td>\n",
       "      <td>Victor Smith</td>\n",
       "      <td>M</td>\n",
       "      <td>12th</td>\n",
       "      <td>Huang High School</td>\n",
       "      <td>94</td>\n",
       "      <td>61</td>\n",
       "      <td>0</td>\n",
       "      <td>District</td>\n",
       "      <td>2917</td>\n",
       "      <td>1910635</td>\n",
       "    </tr>\n",
       "    <tr>\n",
       "      <th>2</th>\n",
       "      <td>2</td>\n",
       "      <td>Kevin Rodriguez</td>\n",
       "      <td>M</td>\n",
       "      <td>12th</td>\n",
       "      <td>Huang High School</td>\n",
       "      <td>90</td>\n",
       "      <td>60</td>\n",
       "      <td>0</td>\n",
       "      <td>District</td>\n",
       "      <td>2917</td>\n",
       "      <td>1910635</td>\n",
       "    </tr>\n",
       "    <tr>\n",
       "      <th>3</th>\n",
       "      <td>3</td>\n",
       "      <td>Dr. Richard Scott</td>\n",
       "      <td>M</td>\n",
       "      <td>12th</td>\n",
       "      <td>Huang High School</td>\n",
       "      <td>67</td>\n",
       "      <td>58</td>\n",
       "      <td>0</td>\n",
       "      <td>District</td>\n",
       "      <td>2917</td>\n",
       "      <td>1910635</td>\n",
       "    </tr>\n",
       "    <tr>\n",
       "      <th>4</th>\n",
       "      <td>4</td>\n",
       "      <td>Bonnie Ray</td>\n",
       "      <td>F</td>\n",
       "      <td>9th</td>\n",
       "      <td>Huang High School</td>\n",
       "      <td>97</td>\n",
       "      <td>84</td>\n",
       "      <td>0</td>\n",
       "      <td>District</td>\n",
       "      <td>2917</td>\n",
       "      <td>1910635</td>\n",
       "    </tr>\n",
       "  </tbody>\n",
       "</table>\n",
       "</div>"
      ],
      "text/plain": [
       "   Student ID       student_name gender grade        school_name  \\\n",
       "0           0       Paul Bradley      M   9th  Huang High School   \n",
       "1           1       Victor Smith      M  12th  Huang High School   \n",
       "2           2    Kevin Rodriguez      M  12th  Huang High School   \n",
       "3           3  Dr. Richard Scott      M  12th  Huang High School   \n",
       "4           4         Bonnie Ray      F   9th  Huang High School   \n",
       "\n",
       "   reading_score  math_score  School ID      type  size   budget  \n",
       "0             66          79          0  District  2917  1910635  \n",
       "1             94          61          0  District  2917  1910635  \n",
       "2             90          60          0  District  2917  1910635  \n",
       "3             67          58          0  District  2917  1910635  \n",
       "4             97          84          0  District  2917  1910635  "
      ]
     },
     "execution_count": 1,
     "metadata": {},
     "output_type": "execute_result"
    }
   ],
   "source": [
    "# Dependencies and Setup\n",
    "import pandas as pd\n",
    "import numpy as np\n",
    "import os\n",
    "\n",
    "\n",
    "# File to Load (Remember to Change These)\n",
    "school_data_to_load = \"Resources/schools_complete.csv\"\n",
    "student_data_to_load = \"Resources/students_complete.csv\"\n",
    "\n",
    "# Read School and Student Data File and store into Pandas Data Frames\n",
    "school_data = pd.read_csv(school_data_to_load)\n",
    "student_data = pd.read_csv(student_data_to_load)\n",
    "\n",
    "# Combine the data into a single dataset\n",
    "school_data_complete_df = pd.merge(student_data, school_data, how=\"left\", on=[\"school_name\", \"school_name\"])\n",
    "school_data_complete_df.head()"
   ]
  },
  {
   "cell_type": "markdown",
   "metadata": {},
   "source": [
    "## District Summary\n",
    "\n",
    "* Calculate the total number of schools\n",
    "\n",
    "* Calculate the total number of students\n",
    "\n",
    "* Calculate the total budget\n",
    "\n",
    "* Calculate the average math score \n",
    "\n",
    "* Calculate the average reading score\n",
    "\n",
    "* Calculate the overall passing rate (overall average score), i.e. (avg. math score + avg. reading score)/2\n",
    "\n",
    "* Calculate the percentage of students with a passing math score (70 or greater)\n",
    "\n",
    "* Calculate the percentage of students with a passing reading score (70 or greater)\n",
    "\n",
    "* Create a dataframe to hold the above results\n",
    "\n",
    "* Optional: give the displayed data cleaner formatting"
   ]
  },
  {
   "cell_type": "code",
   "execution_count": 2,
   "metadata": {},
   "outputs": [
    {
     "data": {
      "text/plain": [
       "Index(['Student ID', 'student_name', 'gender', 'grade', 'school_name',\n",
       "       'reading_score', 'math_score', 'School ID', 'type', 'size', 'budget'],\n",
       "      dtype='object')"
      ]
     },
     "execution_count": 2,
     "metadata": {},
     "output_type": "execute_result"
    }
   ],
   "source": [
    "#look into binning\n",
    "#Check all the column names\n",
    "school_data_complete_df.columns"
   ]
  },
  {
   "cell_type": "code",
   "execution_count": 3,
   "metadata": {},
   "outputs": [
    {
     "data": {
      "text/plain": [
       "15"
      ]
     },
     "execution_count": 3,
     "metadata": {},
     "output_type": "execute_result"
    }
   ],
   "source": [
    "#totoal schools\n",
    "total_schools = school_data_complete_df['school_name'].unique()\n",
    "school_count = len(total_schools)\n",
    "school_count"
   ]
  },
  {
   "cell_type": "code",
   "execution_count": 4,
   "metadata": {},
   "outputs": [
    {
     "data": {
      "text/plain": [
       "39170"
      ]
     },
     "execution_count": 4,
     "metadata": {},
     "output_type": "execute_result"
    }
   ],
   "source": [
    "#total students\n",
    "total_students = school_data_complete_df['Student ID'].count()\n",
    "total_students"
   ]
  },
  {
   "cell_type": "code",
   "execution_count": 5,
   "metadata": {},
   "outputs": [
    {
     "data": {
      "text/plain": [
       "24649428"
      ]
     },
     "execution_count": 5,
     "metadata": {},
     "output_type": "execute_result"
    }
   ],
   "source": [
    "#I can't fingure why my budget isn't the same as exmaple!\n",
    "total_budget = school_data['budget'].sum()\n",
    "total_budget"
   ]
  },
  {
   "cell_type": "code",
   "execution_count": 6,
   "metadata": {},
   "outputs": [],
   "source": [
    "#Passing:\n",
    "avgerage_reading_score = school_data_complete_df['reading_score'].mean()\n",
    "pass_reading_count = school_data_complete_df[(school_data_complete_df[\"reading_score\"] >= 70)].count()[\"student_name\"]\n",
    "pass_reading_percent = pass_reading_count / total_students * 100\n",
    "\n"
   ]
  },
  {
   "cell_type": "code",
   "execution_count": 7,
   "metadata": {},
   "outputs": [],
   "source": [
    "\n",
    "avgerage_math_score = school_data_complete_df['math_score'].mean()\n",
    "pass_math_count = school_data_complete_df[(school_data_complete_df[\"math_score\"] >= 70)].count()[\"student_name\"]\n",
    "pass_math_percent = pass_math_count / total_students * 100\n",
    "\n",
    "\n",
    "#avgerage_math_score\n",
    "#pass_math_count\n",
    "#pass_reading_percent\n",
    "#pass_math_percent"
   ]
  },
  {
   "cell_type": "code",
   "execution_count": 8,
   "metadata": {},
   "outputs": [],
   "source": [
    "#Overall pass, i made pass grade 65\n",
    "general_pass = (pass_math_percent+pass_reading_percent)/2\n",
    "#general_pass"
   ]
  },
  {
   "cell_type": "code",
   "execution_count": 9,
   "metadata": {},
   "outputs": [
    {
     "data": {
      "text/html": [
       "<div>\n",
       "<style scoped>\n",
       "    .dataframe tbody tr th:only-of-type {\n",
       "        vertical-align: middle;\n",
       "    }\n",
       "\n",
       "    .dataframe tbody tr th {\n",
       "        vertical-align: top;\n",
       "    }\n",
       "\n",
       "    .dataframe thead th {\n",
       "        text-align: right;\n",
       "    }\n",
       "</style>\n",
       "<table border=\"1\" class=\"dataframe\">\n",
       "  <thead>\n",
       "    <tr style=\"text-align: right;\">\n",
       "      <th></th>\n",
       "      <th>Total Schools</th>\n",
       "      <th>Total Students</th>\n",
       "      <th>Total Budget</th>\n",
       "      <th>Average Reading Score</th>\n",
       "      <th>Average Math Score</th>\n",
       "      <th>% Passing Reading</th>\n",
       "      <th>% Passing Math</th>\n",
       "      <th>Overall Passing Rate</th>\n",
       "    </tr>\n",
       "  </thead>\n",
       "  <tbody>\n",
       "    <tr>\n",
       "      <th>0</th>\n",
       "      <td>15</td>\n",
       "      <td>39170</td>\n",
       "      <td>24649428</td>\n",
       "      <td>81.87784</td>\n",
       "      <td>78.985371</td>\n",
       "      <td>85.805463</td>\n",
       "      <td>74.980853</td>\n",
       "      <td>80.393158</td>\n",
       "    </tr>\n",
       "  </tbody>\n",
       "</table>\n",
       "</div>"
      ],
      "text/plain": [
       "   Total Schools  Total Students  Total Budget  Average Reading Score  \\\n",
       "0             15           39170      24649428               81.87784   \n",
       "\n",
       "   Average Math Score  % Passing Reading  % Passing Math  Overall Passing Rate  \n",
       "0           78.985371          85.805463       74.980853             80.393158  "
      ]
     },
     "execution_count": 9,
     "metadata": {},
     "output_type": "execute_result"
    }
   ],
   "source": [
    "Schools_Analysis_summary = pd.DataFrame({\n",
    "    \"Total Schools\":[school_count],\n",
    "    \"Total Students\": [total_students],\n",
    "    \"Total Budget\": [total_budget],\n",
    "    \"Average Reading Score\": [avgerage_reading_score],\n",
    "    \"Average Math Score\": [avgerage_math_score],\n",
    "    \"% Passing Reading\":[pass_reading_percent],\n",
    "    \"% Passing Math\": [pass_math_percent],\n",
    "    \"Overall Passing Rate\": [general_pass]\n",
    "\n",
    "})\n",
    "\n",
    "\n",
    "\n",
    "Schools_Analysis_summary.head()"
   ]
  },
  {
   "cell_type": "code",
   "execution_count": 10,
   "metadata": {},
   "outputs": [
    {
     "data": {
      "text/plain": [
       "Total Schools              int64\n",
       "Total Students             int64\n",
       "Total Budget               int64\n",
       "Average Reading Score    float64\n",
       "Average Math Score       float64\n",
       "% Passing Reading        float64\n",
       "% Passing Math           float64\n",
       "Overall Passing Rate     float64\n",
       "dtype: object"
      ]
     },
     "execution_count": 10,
     "metadata": {},
     "output_type": "execute_result"
    }
   ],
   "source": [
    "Schools_Analysis_summary.dtypes"
   ]
  },
  {
   "cell_type": "markdown",
   "metadata": {},
   "source": [
    "## School Summary"
   ]
  },
  {
   "cell_type": "markdown",
   "metadata": {},
   "source": [
    "* Create an overview table that summarizes key metrics about each school, including:\n",
    "  * School Name\n",
    "  * School Type\n",
    "  * Total Students\n",
    "  * Total School Budget\n",
    "  * Per Student Budget\n",
    "  * Average Math Score\n",
    "  * Average Reading Score\n",
    "  * % Passing Math\n",
    "  * % Passing Reading\n",
    "  * Overall Passing Rate (Average of the above two)\n",
    "  \n",
    "* Create a dataframe to hold the above results"
   ]
  },
  {
   "cell_type": "markdown",
   "metadata": {},
   "source": [
    "## Top Performing Schools (By Passing Rate)"
   ]
  },
  {
   "cell_type": "markdown",
   "metadata": {},
   "source": [
    "* Sort and display the top five schools in overall passing rate"
   ]
  },
  {
   "cell_type": "code",
   "execution_count": 11,
   "metadata": {},
   "outputs": [
    {
     "data": {
      "text/plain": [
       "Bailey High School       4976\n",
       "Johnson High School      4761\n",
       "Hernandez High School    4635\n",
       "Rodriguez High School    3999\n",
       "Figueroa High School     2949\n",
       "Huang High School        2917\n",
       "Ford High School         2739\n",
       "Wilson High School       2283\n",
       "Cabrera High School      1858\n",
       "Wright High School       1800\n",
       "Shelton High School      1761\n",
       "Thomas High School       1635\n",
       "Griffin High School      1468\n",
       "Pena High School          962\n",
       "Holden High School        427\n",
       "Name: school_name, dtype: int64"
      ]
     },
     "execution_count": 11,
     "metadata": {},
     "output_type": "execute_result"
    }
   ],
   "source": [
    "#school types\n",
    "school_types = school_data.set_index('school_name')['type']\n",
    "\n",
    "# total students by school\n",
    "students_per_school = school_data_complete_df['school_name'].value_counts()\n",
    "#school_types.head()\n",
    "students_per_school"
   ]
  },
  {
   "cell_type": "code",
   "execution_count": 12,
   "metadata": {},
   "outputs": [
    {
     "data": {
      "text/plain": [
       "Bailey High School      628.0\n",
       "Cabrera High School     582.0\n",
       "Figueroa High School    639.0\n",
       "Ford High School        644.0\n",
       "Griffin High School     625.0\n",
       "dtype: float64"
      ]
     },
     "execution_count": 12,
     "metadata": {},
     "output_type": "execute_result"
    }
   ],
   "source": [
    "school_budget = school_data_complete_df.groupby(['school_name']).mean()['budget']\n",
    "student_budget = school_budget/students_per_school\n",
    "#school_count\n",
    "student_budget.head()"
   ]
  },
  {
   "cell_type": "code",
   "execution_count": 13,
   "metadata": {},
   "outputs": [],
   "source": [
    "#avg scores by school\n",
    "average_math_by_school = school_data_complete_df['math_score'].mean()\n",
    "average_reading_by_school = school_data_complete_df['reading_score'].mean()\n"
   ]
  },
  {
   "cell_type": "code",
   "execution_count": 14,
   "metadata": {},
   "outputs": [],
   "source": [
    "# % passing scores\n",
    "pass_math_by_school = school_data_complete_df[school_data_complete_df['math_score'] >= 65].groupby('school_name')['Student ID'].count()/students_per_school *100\n",
    "pass_reading_by_school = school_data_complete_df[school_data_complete_df['reading_score'] >= 65].groupby('school_name')['Student ID'].count()/students_per_school *100\n",
    "general_by_school = school_data_complete_df[(school_data_complete_df['reading_score'] >= 65) & (school_data_complete_df['math_score'] >= 65)].groupby('school_name')['Student ID'].count()/students_per_school *100\n",
    "\n",
    "#pass_math_by_school\n",
    "#pass_reading_by_school\n",
    "#general_by_school"
   ]
  },
  {
   "cell_type": "code",
   "execution_count": 15,
   "metadata": {},
   "outputs": [
    {
     "data": {
      "text/html": [
       "<div>\n",
       "<style scoped>\n",
       "    .dataframe tbody tr th:only-of-type {\n",
       "        vertical-align: middle;\n",
       "    }\n",
       "\n",
       "    .dataframe tbody tr th {\n",
       "        vertical-align: top;\n",
       "    }\n",
       "\n",
       "    .dataframe thead th {\n",
       "        text-align: right;\n",
       "    }\n",
       "</style>\n",
       "<table border=\"1\" class=\"dataframe\">\n",
       "  <thead>\n",
       "    <tr style=\"text-align: right;\">\n",
       "      <th></th>\n",
       "      <th>School Type</th>\n",
       "      <th>Total Students</th>\n",
       "      <th>Total School Budget</th>\n",
       "      <th>Per Student Budget</th>\n",
       "      <th>Average Math Score</th>\n",
       "      <th>Average Reading Score</th>\n",
       "      <th>% Passing Math</th>\n",
       "      <th>% Passing Reading</th>\n",
       "      <th>%Overall Passing Rate</th>\n",
       "    </tr>\n",
       "  </thead>\n",
       "  <tbody>\n",
       "    <tr>\n",
       "      <th>Bailey High School</th>\n",
       "      <td>District</td>\n",
       "      <td>$4,976.00</td>\n",
       "      <td>$3,124,928.00</td>\n",
       "      <td>628.0</td>\n",
       "      <td>78.985371</td>\n",
       "      <td>81.87784</td>\n",
       "      <td>77.913987</td>\n",
       "      <td>94.553859</td>\n",
       "      <td>73.754019</td>\n",
       "    </tr>\n",
       "    <tr>\n",
       "      <th>Cabrera High School</th>\n",
       "      <td>Charter</td>\n",
       "      <td>$1,858.00</td>\n",
       "      <td>$1,081,356.00</td>\n",
       "      <td>582.0</td>\n",
       "      <td>78.985371</td>\n",
       "      <td>81.87784</td>\n",
       "      <td>100.000000</td>\n",
       "      <td>100.000000</td>\n",
       "      <td>100.000000</td>\n",
       "    </tr>\n",
       "    <tr>\n",
       "      <th>Figueroa High School</th>\n",
       "      <td>District</td>\n",
       "      <td>$2,949.00</td>\n",
       "      <td>$1,884,411.00</td>\n",
       "      <td>639.0</td>\n",
       "      <td>78.985371</td>\n",
       "      <td>81.87784</td>\n",
       "      <td>77.178705</td>\n",
       "      <td>94.540522</td>\n",
       "      <td>72.838250</td>\n",
       "    </tr>\n",
       "    <tr>\n",
       "      <th>Ford High School</th>\n",
       "      <td>District</td>\n",
       "      <td>$2,739.00</td>\n",
       "      <td>$1,763,916.00</td>\n",
       "      <td>644.0</td>\n",
       "      <td>78.985371</td>\n",
       "      <td>81.87784</td>\n",
       "      <td>78.203724</td>\n",
       "      <td>93.866375</td>\n",
       "      <td>73.566995</td>\n",
       "    </tr>\n",
       "    <tr>\n",
       "      <th>Griffin High School</th>\n",
       "      <td>Charter</td>\n",
       "      <td>$1,468.00</td>\n",
       "      <td>$917,500.00</td>\n",
       "      <td>625.0</td>\n",
       "      <td>78.985371</td>\n",
       "      <td>81.87784</td>\n",
       "      <td>100.000000</td>\n",
       "      <td>100.000000</td>\n",
       "      <td>100.000000</td>\n",
       "    </tr>\n",
       "  </tbody>\n",
       "</table>\n",
       "</div>"
      ],
      "text/plain": [
       "                     School Type Total Students Total School Budget  \\\n",
       "Bailey High School      District      $4,976.00       $3,124,928.00   \n",
       "Cabrera High School      Charter      $1,858.00       $1,081,356.00   \n",
       "Figueroa High School    District      $2,949.00       $1,884,411.00   \n",
       "Ford High School        District      $2,739.00       $1,763,916.00   \n",
       "Griffin High School      Charter      $1,468.00         $917,500.00   \n",
       "\n",
       "                      Per Student Budget  Average Math Score  \\\n",
       "Bailey High School                 628.0           78.985371   \n",
       "Cabrera High School                582.0           78.985371   \n",
       "Figueroa High School               639.0           78.985371   \n",
       "Ford High School                   644.0           78.985371   \n",
       "Griffin High School                625.0           78.985371   \n",
       "\n",
       "                      Average Reading Score  % Passing Math  \\\n",
       "Bailey High School                 81.87784       77.913987   \n",
       "Cabrera High School                81.87784      100.000000   \n",
       "Figueroa High School               81.87784       77.178705   \n",
       "Ford High School                   81.87784       78.203724   \n",
       "Griffin High School                81.87784      100.000000   \n",
       "\n",
       "                      % Passing Reading  %Overall Passing Rate  \n",
       "Bailey High School            94.553859              73.754019  \n",
       "Cabrera High School          100.000000             100.000000  \n",
       "Figueroa High School          94.540522              72.838250  \n",
       "Ford High School              93.866375              73.566995  \n",
       "Griffin High School          100.000000             100.000000  "
      ]
     },
     "execution_count": 15,
     "metadata": {},
     "output_type": "execute_result"
    }
   ],
   "source": [
    "\n",
    "school_general_summary = pd.DataFrame({\n",
    "    \"School Type\":school_types,\n",
    "    \"Total Students\":students_per_school,\n",
    "    \"Total School Budget\":school_budget,\n",
    "    \"Per Student Budget\":student_budget,\n",
    "    \"Average Math Score\":average_math_by_school,\n",
    "    \"Average Reading Score\":average_reading_by_school,\n",
    "    '% Passing Math':pass_math_by_school,\n",
    "    '% Passing Reading':pass_reading_by_school,\n",
    "    \"%Overall Passing Rate\":general_by_school})\n",
    "\n",
    "\n",
    "#school_general_summary = school_general_summary.loc[~school_general_summary.index.duplicated(keep='first')]\n",
    "#school_general_summary.set_index([pd.Index([]),'School Type'])\n",
    "#df.reset_index(drop=True)\n",
    "#school_general_summary.head()\n",
    "#data = pd.concat([data_train,data_test], ignore_index=True)\n",
    "\n",
    "\n",
    "school_general_summary = school_general_summary[[\"School Type\",\n",
    "                                                 \"Total Students\",\n",
    "                                                 \"Total School Budget\",\n",
    "                                                 \"Per Student Budget\",\n",
    "                                                 \"Average Math Score\",\n",
    "                                                 \"Average Reading Score\",\n",
    "                                                 \"% Passing Math\",\n",
    "                                                 \"% Passing Reading\",\n",
    "                                                 \"%Overall Passing Rate\"]]\n",
    "\n",
    "school_general_summary[\"Total Students\"] = school_general_summary[\"Total Students\"].map(\"${:,.2f}\".format)\n",
    "school_general_summary[\"Total School Budget\"] = school_general_summary[\"Total School Budget\"].map(\"${:,.2f}\".format)\n",
    "\n",
    "school_general_summary.head()"
   ]
  },
  {
   "cell_type": "markdown",
   "metadata": {},
   "source": [
    "## Top Performing Schools (By Passing Rate)"
   ]
  },
  {
   "cell_type": "code",
   "execution_count": 16,
   "metadata": {},
   "outputs": [
    {
     "data": {
      "text/html": [
       "<div>\n",
       "<style scoped>\n",
       "    .dataframe tbody tr th:only-of-type {\n",
       "        vertical-align: middle;\n",
       "    }\n",
       "\n",
       "    .dataframe tbody tr th {\n",
       "        vertical-align: top;\n",
       "    }\n",
       "\n",
       "    .dataframe thead th {\n",
       "        text-align: right;\n",
       "    }\n",
       "</style>\n",
       "<table border=\"1\" class=\"dataframe\">\n",
       "  <thead>\n",
       "    <tr style=\"text-align: right;\">\n",
       "      <th></th>\n",
       "      <th>School Type</th>\n",
       "      <th>Total Students</th>\n",
       "      <th>Total School Budget</th>\n",
       "      <th>Per Student Budget</th>\n",
       "      <th>Average Math Score</th>\n",
       "      <th>Average Reading Score</th>\n",
       "      <th>% Passing Math</th>\n",
       "      <th>% Passing Reading</th>\n",
       "      <th>%Overall Passing Rate</th>\n",
       "    </tr>\n",
       "  </thead>\n",
       "  <tbody>\n",
       "    <tr>\n",
       "      <th>Cabrera High School</th>\n",
       "      <td>Charter</td>\n",
       "      <td>$1,858.00</td>\n",
       "      <td>$1,081,356.00</td>\n",
       "      <td>582.0</td>\n",
       "      <td>78.985371</td>\n",
       "      <td>81.87784</td>\n",
       "      <td>100.0</td>\n",
       "      <td>100.0</td>\n",
       "      <td>100.0</td>\n",
       "    </tr>\n",
       "    <tr>\n",
       "      <th>Griffin High School</th>\n",
       "      <td>Charter</td>\n",
       "      <td>$1,468.00</td>\n",
       "      <td>$917,500.00</td>\n",
       "      <td>625.0</td>\n",
       "      <td>78.985371</td>\n",
       "      <td>81.87784</td>\n",
       "      <td>100.0</td>\n",
       "      <td>100.0</td>\n",
       "      <td>100.0</td>\n",
       "    </tr>\n",
       "    <tr>\n",
       "      <th>Holden High School</th>\n",
       "      <td>Charter</td>\n",
       "      <td>$427.00</td>\n",
       "      <td>$248,087.00</td>\n",
       "      <td>581.0</td>\n",
       "      <td>78.985371</td>\n",
       "      <td>81.87784</td>\n",
       "      <td>100.0</td>\n",
       "      <td>100.0</td>\n",
       "      <td>100.0</td>\n",
       "    </tr>\n",
       "    <tr>\n",
       "      <th>Pena High School</th>\n",
       "      <td>Charter</td>\n",
       "      <td>$962.00</td>\n",
       "      <td>$585,858.00</td>\n",
       "      <td>609.0</td>\n",
       "      <td>78.985371</td>\n",
       "      <td>81.87784</td>\n",
       "      <td>100.0</td>\n",
       "      <td>100.0</td>\n",
       "      <td>100.0</td>\n",
       "    </tr>\n",
       "    <tr>\n",
       "      <th>Shelton High School</th>\n",
       "      <td>Charter</td>\n",
       "      <td>$1,761.00</td>\n",
       "      <td>$1,056,600.00</td>\n",
       "      <td>600.0</td>\n",
       "      <td>78.985371</td>\n",
       "      <td>81.87784</td>\n",
       "      <td>100.0</td>\n",
       "      <td>100.0</td>\n",
       "      <td>100.0</td>\n",
       "    </tr>\n",
       "  </tbody>\n",
       "</table>\n",
       "</div>"
      ],
      "text/plain": [
       "                    School Type Total Students Total School Budget  \\\n",
       "Cabrera High School     Charter      $1,858.00       $1,081,356.00   \n",
       "Griffin High School     Charter      $1,468.00         $917,500.00   \n",
       "Holden High School      Charter        $427.00         $248,087.00   \n",
       "Pena High School        Charter        $962.00         $585,858.00   \n",
       "Shelton High School     Charter      $1,761.00       $1,056,600.00   \n",
       "\n",
       "                     Per Student Budget  Average Math Score  \\\n",
       "Cabrera High School               582.0           78.985371   \n",
       "Griffin High School               625.0           78.985371   \n",
       "Holden High School                581.0           78.985371   \n",
       "Pena High School                  609.0           78.985371   \n",
       "Shelton High School               600.0           78.985371   \n",
       "\n",
       "                     Average Reading Score  % Passing Math  % Passing Reading  \\\n",
       "Cabrera High School               81.87784           100.0              100.0   \n",
       "Griffin High School               81.87784           100.0              100.0   \n",
       "Holden High School                81.87784           100.0              100.0   \n",
       "Pena High School                  81.87784           100.0              100.0   \n",
       "Shelton High School               81.87784           100.0              100.0   \n",
       "\n",
       "                     %Overall Passing Rate  \n",
       "Cabrera High School                  100.0  \n",
       "Griffin High School                  100.0  \n",
       "Holden High School                   100.0  \n",
       "Pena High School                     100.0  \n",
       "Shelton High School                  100.0  "
      ]
     },
     "execution_count": 16,
     "metadata": {},
     "output_type": "execute_result"
    }
   ],
   "source": [
    "# Top five schools\n",
    "top_performing_schools = school_general_summary.sort_values([\"%Overall Passing Rate\"], ascending=False)\n",
    "top_performing_schools.head()"
   ]
  },
  {
   "cell_type": "markdown",
   "metadata": {},
   "source": [
    "## Bottom Performing Schools (By Passing Rate)"
   ]
  },
  {
   "cell_type": "markdown",
   "metadata": {},
   "source": [
    "* Sort and display the five worst-performing schools"
   ]
  },
  {
   "cell_type": "code",
   "execution_count": 17,
   "metadata": {},
   "outputs": [
    {
     "data": {
      "text/html": [
       "<div>\n",
       "<style scoped>\n",
       "    .dataframe tbody tr th:only-of-type {\n",
       "        vertical-align: middle;\n",
       "    }\n",
       "\n",
       "    .dataframe tbody tr th {\n",
       "        vertical-align: top;\n",
       "    }\n",
       "\n",
       "    .dataframe thead th {\n",
       "        text-align: right;\n",
       "    }\n",
       "</style>\n",
       "<table border=\"1\" class=\"dataframe\">\n",
       "  <thead>\n",
       "    <tr style=\"text-align: right;\">\n",
       "      <th></th>\n",
       "      <th>School Type</th>\n",
       "      <th>Total Students</th>\n",
       "      <th>Total School Budget</th>\n",
       "      <th>Per Student Budget</th>\n",
       "      <th>Average Math Score</th>\n",
       "      <th>Average Reading Score</th>\n",
       "      <th>% Passing Math</th>\n",
       "      <th>% Passing Reading</th>\n",
       "      <th>%Overall Passing Rate</th>\n",
       "    </tr>\n",
       "  </thead>\n",
       "  <tbody>\n",
       "    <tr>\n",
       "      <th>Figueroa High School</th>\n",
       "      <td>District</td>\n",
       "      <td>$2,949.00</td>\n",
       "      <td>$1,884,411.00</td>\n",
       "      <td>639.0</td>\n",
       "      <td>78.985371</td>\n",
       "      <td>81.87784</td>\n",
       "      <td>77.178705</td>\n",
       "      <td>94.540522</td>\n",
       "      <td>72.838250</td>\n",
       "    </tr>\n",
       "    <tr>\n",
       "      <th>Huang High School</th>\n",
       "      <td>District</td>\n",
       "      <td>$2,917.00</td>\n",
       "      <td>$1,910,635.00</td>\n",
       "      <td>655.0</td>\n",
       "      <td>78.985371</td>\n",
       "      <td>81.87784</td>\n",
       "      <td>77.716832</td>\n",
       "      <td>94.480631</td>\n",
       "      <td>73.260199</td>\n",
       "    </tr>\n",
       "    <tr>\n",
       "      <th>Hernandez High School</th>\n",
       "      <td>District</td>\n",
       "      <td>$4,635.00</td>\n",
       "      <td>$3,022,020.00</td>\n",
       "      <td>652.0</td>\n",
       "      <td>78.985371</td>\n",
       "      <td>81.87784</td>\n",
       "      <td>77.734628</td>\n",
       "      <td>94.606257</td>\n",
       "      <td>73.549083</td>\n",
       "    </tr>\n",
       "    <tr>\n",
       "      <th>Ford High School</th>\n",
       "      <td>District</td>\n",
       "      <td>$2,739.00</td>\n",
       "      <td>$1,763,916.00</td>\n",
       "      <td>644.0</td>\n",
       "      <td>78.985371</td>\n",
       "      <td>81.87784</td>\n",
       "      <td>78.203724</td>\n",
       "      <td>93.866375</td>\n",
       "      <td>73.566995</td>\n",
       "    </tr>\n",
       "    <tr>\n",
       "      <th>Rodriguez High School</th>\n",
       "      <td>District</td>\n",
       "      <td>$3,999.00</td>\n",
       "      <td>$2,547,363.00</td>\n",
       "      <td>637.0</td>\n",
       "      <td>78.985371</td>\n",
       "      <td>81.87784</td>\n",
       "      <td>77.944486</td>\n",
       "      <td>94.623656</td>\n",
       "      <td>73.618405</td>\n",
       "    </tr>\n",
       "  </tbody>\n",
       "</table>\n",
       "</div>"
      ],
      "text/plain": [
       "                      School Type Total Students Total School Budget  \\\n",
       "Figueroa High School     District      $2,949.00       $1,884,411.00   \n",
       "Huang High School        District      $2,917.00       $1,910,635.00   \n",
       "Hernandez High School    District      $4,635.00       $3,022,020.00   \n",
       "Ford High School         District      $2,739.00       $1,763,916.00   \n",
       "Rodriguez High School    District      $3,999.00       $2,547,363.00   \n",
       "\n",
       "                       Per Student Budget  Average Math Score  \\\n",
       "Figueroa High School                639.0           78.985371   \n",
       "Huang High School                   655.0           78.985371   \n",
       "Hernandez High School               652.0           78.985371   \n",
       "Ford High School                    644.0           78.985371   \n",
       "Rodriguez High School               637.0           78.985371   \n",
       "\n",
       "                       Average Reading Score  % Passing Math  \\\n",
       "Figueroa High School                81.87784       77.178705   \n",
       "Huang High School                   81.87784       77.716832   \n",
       "Hernandez High School               81.87784       77.734628   \n",
       "Ford High School                    81.87784       78.203724   \n",
       "Rodriguez High School               81.87784       77.944486   \n",
       "\n",
       "                       % Passing Reading  %Overall Passing Rate  \n",
       "Figueroa High School           94.540522              72.838250  \n",
       "Huang High School              94.480631              73.260199  \n",
       "Hernandez High School          94.606257              73.549083  \n",
       "Ford High School               93.866375              73.566995  \n",
       "Rodriguez High School          94.623656              73.618405  "
      ]
     },
     "execution_count": 17,
     "metadata": {},
     "output_type": "execute_result"
    }
   ],
   "source": [
    "# Bottom five schools\n",
    "bottom_schools = school_general_summary.sort_values([\"%Overall Passing Rate\"], ascending=True)\n",
    "bottom_schools.head()"
   ]
  },
  {
   "cell_type": "markdown",
   "metadata": {
    "collapsed": true
   },
   "source": [
    "## Math Scores by Grade"
   ]
  },
  {
   "cell_type": "markdown",
   "metadata": {},
   "source": [
    "* Create a table that lists the average Reading Score for students of each grade level (9th, 10th, 11th, 12th) at each school.\n",
    "\n",
    "  * Create a pandas series for each grade. Hint: use a conditional statement.\n",
    "  \n",
    "  * Group each series by school\n",
    "  \n",
    "  * Combine the series into a dataframe\n",
    "  \n",
    "  * Optional: give the displayed data cleaner formatting"
   ]
  },
  {
   "cell_type": "code",
   "execution_count": 18,
   "metadata": {},
   "outputs": [
    {
     "data": {
      "text/html": [
       "<style  type=\"text/css\" >\n",
       "</style>  \n",
       "<table id=\"T_50dcdb74_22b4_11e9_8ae0_d46d6db62f0a\" > \n",
       "<thead>    <tr> \n",
       "        <th class=\"blank level0\" ></th> \n",
       "        <th class=\"col_heading level0 col0\" >9th</th> \n",
       "        <th class=\"col_heading level0 col1\" >10th</th> \n",
       "        <th class=\"col_heading level0 col2\" >11th</th> \n",
       "        <th class=\"col_heading level0 col3\" >12th</th> \n",
       "    </tr>    <tr> \n",
       "        <th class=\"index_name level0\" >School</th> \n",
       "        <th class=\"blank\" ></th> \n",
       "        <th class=\"blank\" ></th> \n",
       "        <th class=\"blank\" ></th> \n",
       "        <th class=\"blank\" ></th> \n",
       "    </tr></thead> \n",
       "<tbody>    <tr> \n",
       "        <th id=\"T_50dcdb74_22b4_11e9_8ae0_d46d6db62f0alevel0_row0\" class=\"row_heading level0 row0\" >Bailey High School</th> \n",
       "        <td id=\"T_50dcdb74_22b4_11e9_8ae0_d46d6db62f0arow0_col0\" class=\"data row0 col0\" >77.1</td> \n",
       "        <td id=\"T_50dcdb74_22b4_11e9_8ae0_d46d6db62f0arow0_col1\" class=\"data row0 col1\" >77.0</td> \n",
       "        <td id=\"T_50dcdb74_22b4_11e9_8ae0_d46d6db62f0arow0_col2\" class=\"data row0 col2\" >77.5</td> \n",
       "        <td id=\"T_50dcdb74_22b4_11e9_8ae0_d46d6db62f0arow0_col3\" class=\"data row0 col3\" >76.5</td> \n",
       "    </tr>    <tr> \n",
       "        <th id=\"T_50dcdb74_22b4_11e9_8ae0_d46d6db62f0alevel0_row1\" class=\"row_heading level0 row1\" >Cabrera High School</th> \n",
       "        <td id=\"T_50dcdb74_22b4_11e9_8ae0_d46d6db62f0arow1_col0\" class=\"data row1 col0\" >83.1</td> \n",
       "        <td id=\"T_50dcdb74_22b4_11e9_8ae0_d46d6db62f0arow1_col1\" class=\"data row1 col1\" >83.2</td> \n",
       "        <td id=\"T_50dcdb74_22b4_11e9_8ae0_d46d6db62f0arow1_col2\" class=\"data row1 col2\" >82.8</td> \n",
       "        <td id=\"T_50dcdb74_22b4_11e9_8ae0_d46d6db62f0arow1_col3\" class=\"data row1 col3\" >83.3</td> \n",
       "    </tr>    <tr> \n",
       "        <th id=\"T_50dcdb74_22b4_11e9_8ae0_d46d6db62f0alevel0_row2\" class=\"row_heading level0 row2\" >Figueroa High School</th> \n",
       "        <td id=\"T_50dcdb74_22b4_11e9_8ae0_d46d6db62f0arow2_col0\" class=\"data row2 col0\" >76.4</td> \n",
       "        <td id=\"T_50dcdb74_22b4_11e9_8ae0_d46d6db62f0arow2_col1\" class=\"data row2 col1\" >76.5</td> \n",
       "        <td id=\"T_50dcdb74_22b4_11e9_8ae0_d46d6db62f0arow2_col2\" class=\"data row2 col2\" >76.9</td> \n",
       "        <td id=\"T_50dcdb74_22b4_11e9_8ae0_d46d6db62f0arow2_col3\" class=\"data row2 col3\" >77.2</td> \n",
       "    </tr>    <tr> \n",
       "        <th id=\"T_50dcdb74_22b4_11e9_8ae0_d46d6db62f0alevel0_row3\" class=\"row_heading level0 row3\" >Ford High School</th> \n",
       "        <td id=\"T_50dcdb74_22b4_11e9_8ae0_d46d6db62f0arow3_col0\" class=\"data row3 col0\" >77.4</td> \n",
       "        <td id=\"T_50dcdb74_22b4_11e9_8ae0_d46d6db62f0arow3_col1\" class=\"data row3 col1\" >77.7</td> \n",
       "        <td id=\"T_50dcdb74_22b4_11e9_8ae0_d46d6db62f0arow3_col2\" class=\"data row3 col2\" >76.9</td> \n",
       "        <td id=\"T_50dcdb74_22b4_11e9_8ae0_d46d6db62f0arow3_col3\" class=\"data row3 col3\" >76.2</td> \n",
       "    </tr>    <tr> \n",
       "        <th id=\"T_50dcdb74_22b4_11e9_8ae0_d46d6db62f0alevel0_row4\" class=\"row_heading level0 row4\" >Griffin High School</th> \n",
       "        <td id=\"T_50dcdb74_22b4_11e9_8ae0_d46d6db62f0arow4_col0\" class=\"data row4 col0\" >82.0</td> \n",
       "        <td id=\"T_50dcdb74_22b4_11e9_8ae0_d46d6db62f0arow4_col1\" class=\"data row4 col1\" >84.2</td> \n",
       "        <td id=\"T_50dcdb74_22b4_11e9_8ae0_d46d6db62f0arow4_col2\" class=\"data row4 col2\" >83.8</td> \n",
       "        <td id=\"T_50dcdb74_22b4_11e9_8ae0_d46d6db62f0arow4_col3\" class=\"data row4 col3\" >83.4</td> \n",
       "    </tr>    <tr> \n",
       "        <th id=\"T_50dcdb74_22b4_11e9_8ae0_d46d6db62f0alevel0_row5\" class=\"row_heading level0 row5\" >Hernandez High School</th> \n",
       "        <td id=\"T_50dcdb74_22b4_11e9_8ae0_d46d6db62f0arow5_col0\" class=\"data row5 col0\" >77.4</td> \n",
       "        <td id=\"T_50dcdb74_22b4_11e9_8ae0_d46d6db62f0arow5_col1\" class=\"data row5 col1\" >77.3</td> \n",
       "        <td id=\"T_50dcdb74_22b4_11e9_8ae0_d46d6db62f0arow5_col2\" class=\"data row5 col2\" >77.1</td> \n",
       "        <td id=\"T_50dcdb74_22b4_11e9_8ae0_d46d6db62f0arow5_col3\" class=\"data row5 col3\" >77.2</td> \n",
       "    </tr>    <tr> \n",
       "        <th id=\"T_50dcdb74_22b4_11e9_8ae0_d46d6db62f0alevel0_row6\" class=\"row_heading level0 row6\" >Holden High School</th> \n",
       "        <td id=\"T_50dcdb74_22b4_11e9_8ae0_d46d6db62f0arow6_col0\" class=\"data row6 col0\" >83.8</td> \n",
       "        <td id=\"T_50dcdb74_22b4_11e9_8ae0_d46d6db62f0arow6_col1\" class=\"data row6 col1\" >83.4</td> \n",
       "        <td id=\"T_50dcdb74_22b4_11e9_8ae0_d46d6db62f0arow6_col2\" class=\"data row6 col2\" >85.0</td> \n",
       "        <td id=\"T_50dcdb74_22b4_11e9_8ae0_d46d6db62f0arow6_col3\" class=\"data row6 col3\" >82.9</td> \n",
       "    </tr>    <tr> \n",
       "        <th id=\"T_50dcdb74_22b4_11e9_8ae0_d46d6db62f0alevel0_row7\" class=\"row_heading level0 row7\" >Huang High School</th> \n",
       "        <td id=\"T_50dcdb74_22b4_11e9_8ae0_d46d6db62f0arow7_col0\" class=\"data row7 col0\" >77.0</td> \n",
       "        <td id=\"T_50dcdb74_22b4_11e9_8ae0_d46d6db62f0arow7_col1\" class=\"data row7 col1\" >75.9</td> \n",
       "        <td id=\"T_50dcdb74_22b4_11e9_8ae0_d46d6db62f0arow7_col2\" class=\"data row7 col2\" >76.4</td> \n",
       "        <td id=\"T_50dcdb74_22b4_11e9_8ae0_d46d6db62f0arow7_col3\" class=\"data row7 col3\" >77.2</td> \n",
       "    </tr>    <tr> \n",
       "        <th id=\"T_50dcdb74_22b4_11e9_8ae0_d46d6db62f0alevel0_row8\" class=\"row_heading level0 row8\" >Johnson High School</th> \n",
       "        <td id=\"T_50dcdb74_22b4_11e9_8ae0_d46d6db62f0arow8_col0\" class=\"data row8 col0\" >77.2</td> \n",
       "        <td id=\"T_50dcdb74_22b4_11e9_8ae0_d46d6db62f0arow8_col1\" class=\"data row8 col1\" >76.7</td> \n",
       "        <td id=\"T_50dcdb74_22b4_11e9_8ae0_d46d6db62f0arow8_col2\" class=\"data row8 col2\" >77.5</td> \n",
       "        <td id=\"T_50dcdb74_22b4_11e9_8ae0_d46d6db62f0arow8_col3\" class=\"data row8 col3\" >76.9</td> \n",
       "    </tr>    <tr> \n",
       "        <th id=\"T_50dcdb74_22b4_11e9_8ae0_d46d6db62f0alevel0_row9\" class=\"row_heading level0 row9\" >Pena High School</th> \n",
       "        <td id=\"T_50dcdb74_22b4_11e9_8ae0_d46d6db62f0arow9_col0\" class=\"data row9 col0\" >83.6</td> \n",
       "        <td id=\"T_50dcdb74_22b4_11e9_8ae0_d46d6db62f0arow9_col1\" class=\"data row9 col1\" >83.4</td> \n",
       "        <td id=\"T_50dcdb74_22b4_11e9_8ae0_d46d6db62f0arow9_col2\" class=\"data row9 col2\" >84.3</td> \n",
       "        <td id=\"T_50dcdb74_22b4_11e9_8ae0_d46d6db62f0arow9_col3\" class=\"data row9 col3\" >84.1</td> \n",
       "    </tr>    <tr> \n",
       "        <th id=\"T_50dcdb74_22b4_11e9_8ae0_d46d6db62f0alevel0_row10\" class=\"row_heading level0 row10\" >Rodriguez High School</th> \n",
       "        <td id=\"T_50dcdb74_22b4_11e9_8ae0_d46d6db62f0arow10_col0\" class=\"data row10 col0\" >76.9</td> \n",
       "        <td id=\"T_50dcdb74_22b4_11e9_8ae0_d46d6db62f0arow10_col1\" class=\"data row10 col1\" >76.6</td> \n",
       "        <td id=\"T_50dcdb74_22b4_11e9_8ae0_d46d6db62f0arow10_col2\" class=\"data row10 col2\" >76.4</td> \n",
       "        <td id=\"T_50dcdb74_22b4_11e9_8ae0_d46d6db62f0arow10_col3\" class=\"data row10 col3\" >77.7</td> \n",
       "    </tr>    <tr> \n",
       "        <th id=\"T_50dcdb74_22b4_11e9_8ae0_d46d6db62f0alevel0_row11\" class=\"row_heading level0 row11\" >Shelton High School</th> \n",
       "        <td id=\"T_50dcdb74_22b4_11e9_8ae0_d46d6db62f0arow11_col0\" class=\"data row11 col0\" >83.4</td> \n",
       "        <td id=\"T_50dcdb74_22b4_11e9_8ae0_d46d6db62f0arow11_col1\" class=\"data row11 col1\" >82.9</td> \n",
       "        <td id=\"T_50dcdb74_22b4_11e9_8ae0_d46d6db62f0arow11_col2\" class=\"data row11 col2\" >83.4</td> \n",
       "        <td id=\"T_50dcdb74_22b4_11e9_8ae0_d46d6db62f0arow11_col3\" class=\"data row11 col3\" >83.8</td> \n",
       "    </tr>    <tr> \n",
       "        <th id=\"T_50dcdb74_22b4_11e9_8ae0_d46d6db62f0alevel0_row12\" class=\"row_heading level0 row12\" >Thomas High School</th> \n",
       "        <td id=\"T_50dcdb74_22b4_11e9_8ae0_d46d6db62f0arow12_col0\" class=\"data row12 col0\" >83.6</td> \n",
       "        <td id=\"T_50dcdb74_22b4_11e9_8ae0_d46d6db62f0arow12_col1\" class=\"data row12 col1\" >83.1</td> \n",
       "        <td id=\"T_50dcdb74_22b4_11e9_8ae0_d46d6db62f0arow12_col2\" class=\"data row12 col2\" >83.5</td> \n",
       "        <td id=\"T_50dcdb74_22b4_11e9_8ae0_d46d6db62f0arow12_col3\" class=\"data row12 col3\" >83.5</td> \n",
       "    </tr>    <tr> \n",
       "        <th id=\"T_50dcdb74_22b4_11e9_8ae0_d46d6db62f0alevel0_row13\" class=\"row_heading level0 row13\" >Wilson High School</th> \n",
       "        <td id=\"T_50dcdb74_22b4_11e9_8ae0_d46d6db62f0arow13_col0\" class=\"data row13 col0\" >83.1</td> \n",
       "        <td id=\"T_50dcdb74_22b4_11e9_8ae0_d46d6db62f0arow13_col1\" class=\"data row13 col1\" >83.7</td> \n",
       "        <td id=\"T_50dcdb74_22b4_11e9_8ae0_d46d6db62f0arow13_col2\" class=\"data row13 col2\" >83.2</td> \n",
       "        <td id=\"T_50dcdb74_22b4_11e9_8ae0_d46d6db62f0arow13_col3\" class=\"data row13 col3\" >83.0</td> \n",
       "    </tr>    <tr> \n",
       "        <th id=\"T_50dcdb74_22b4_11e9_8ae0_d46d6db62f0alevel0_row14\" class=\"row_heading level0 row14\" >Wright High School</th> \n",
       "        <td id=\"T_50dcdb74_22b4_11e9_8ae0_d46d6db62f0arow14_col0\" class=\"data row14 col0\" >83.3</td> \n",
       "        <td id=\"T_50dcdb74_22b4_11e9_8ae0_d46d6db62f0arow14_col1\" class=\"data row14 col1\" >84.0</td> \n",
       "        <td id=\"T_50dcdb74_22b4_11e9_8ae0_d46d6db62f0arow14_col2\" class=\"data row14 col2\" >83.8</td> \n",
       "        <td id=\"T_50dcdb74_22b4_11e9_8ae0_d46d6db62f0arow14_col3\" class=\"data row14 col3\" >83.6</td> \n",
       "    </tr></tbody> \n",
       "</table> "
      ],
      "text/plain": [
       "<pandas.io.formats.style.Styler at 0x268030b8278>"
      ]
     },
     "execution_count": 18,
     "metadata": {},
     "output_type": "execute_result"
    }
   ],
   "source": [
    "#creates grade level average math scores for each school \n",
    "ninth_math = school_data_complete_df.loc[school_data_complete_df['grade'] == '9th'].groupby('school_name')[\"math_score\"].mean()\n",
    "tenth_math = school_data_complete_df.loc[school_data_complete_df['grade'] == '10th'].groupby('school_name')[\"math_score\"].mean()\n",
    "eleventh_math = school_data_complete_df.loc[school_data_complete_df['grade'] == '11th'].groupby('school_name')[\"math_score\"].mean()\n",
    "twelfth_math = school_data_complete_df.loc[school_data_complete_df['grade'] == '12th'].groupby('school_name')[\"math_score\"].mean()\n",
    "\n",
    "math_scores = pd.DataFrame({\n",
    "        \"9th\": ninth_math,\n",
    "        \"10th\": tenth_math,\n",
    "        \"11th\": eleventh_math,\n",
    "        \"12th\": twelfth_math\n",
    "})\n",
    "math_scores = math_scores[['9th', '10th', '11th', '12th']]\n",
    "math_scores.index.name = \"School\"\n",
    "\n",
    "#show and format\n",
    "math_scores.style.format({'9th': '{:.1f}', \n",
    "                          \"10th\": '{:.1f}', \n",
    "                          \"11th\": \"{:.1f}\", \n",
    "                          \"12th\": \"{:.1f}\"})"
   ]
  },
  {
   "cell_type": "markdown",
   "metadata": {},
   "source": [
    "## Reading Score by Grade "
   ]
  },
  {
   "cell_type": "markdown",
   "metadata": {},
   "source": [
    "* Perform the same operations as above for reading scores"
   ]
  },
  {
   "cell_type": "code",
   "execution_count": 19,
   "metadata": {},
   "outputs": [
    {
     "data": {
      "text/html": [
       "<style  type=\"text/css\" >\n",
       "</style>  \n",
       "<table id=\"T_51001a9e_22b4_11e9_9aa4_d46d6db62f0a\" > \n",
       "<thead>    <tr> \n",
       "        <th class=\"blank level0\" ></th> \n",
       "        <th class=\"col_heading level0 col0\" >9th</th> \n",
       "        <th class=\"col_heading level0 col1\" >10th</th> \n",
       "        <th class=\"col_heading level0 col2\" >11th</th> \n",
       "        <th class=\"col_heading level0 col3\" >12th</th> \n",
       "    </tr>    <tr> \n",
       "        <th class=\"index_name level0\" >School</th> \n",
       "        <th class=\"blank\" ></th> \n",
       "        <th class=\"blank\" ></th> \n",
       "        <th class=\"blank\" ></th> \n",
       "        <th class=\"blank\" ></th> \n",
       "    </tr></thead> \n",
       "<tbody>    <tr> \n",
       "        <th id=\"T_51001a9e_22b4_11e9_9aa4_d46d6db62f0alevel0_row0\" class=\"row_heading level0 row0\" >Bailey High School</th> \n",
       "        <td id=\"T_51001a9e_22b4_11e9_9aa4_d46d6db62f0arow0_col0\" class=\"data row0 col0\" >81.3</td> \n",
       "        <td id=\"T_51001a9e_22b4_11e9_9aa4_d46d6db62f0arow0_col1\" class=\"data row0 col1\" >80.9</td> \n",
       "        <td id=\"T_51001a9e_22b4_11e9_9aa4_d46d6db62f0arow0_col2\" class=\"data row0 col2\" >80.9</td> \n",
       "        <td id=\"T_51001a9e_22b4_11e9_9aa4_d46d6db62f0arow0_col3\" class=\"data row0 col3\" >80.9</td> \n",
       "    </tr>    <tr> \n",
       "        <th id=\"T_51001a9e_22b4_11e9_9aa4_d46d6db62f0alevel0_row1\" class=\"row_heading level0 row1\" >Cabrera High School</th> \n",
       "        <td id=\"T_51001a9e_22b4_11e9_9aa4_d46d6db62f0arow1_col0\" class=\"data row1 col0\" >83.7</td> \n",
       "        <td id=\"T_51001a9e_22b4_11e9_9aa4_d46d6db62f0arow1_col1\" class=\"data row1 col1\" >84.3</td> \n",
       "        <td id=\"T_51001a9e_22b4_11e9_9aa4_d46d6db62f0arow1_col2\" class=\"data row1 col2\" >83.8</td> \n",
       "        <td id=\"T_51001a9e_22b4_11e9_9aa4_d46d6db62f0arow1_col3\" class=\"data row1 col3\" >84.3</td> \n",
       "    </tr>    <tr> \n",
       "        <th id=\"T_51001a9e_22b4_11e9_9aa4_d46d6db62f0alevel0_row2\" class=\"row_heading level0 row2\" >Figueroa High School</th> \n",
       "        <td id=\"T_51001a9e_22b4_11e9_9aa4_d46d6db62f0arow2_col0\" class=\"data row2 col0\" >81.2</td> \n",
       "        <td id=\"T_51001a9e_22b4_11e9_9aa4_d46d6db62f0arow2_col1\" class=\"data row2 col1\" >81.4</td> \n",
       "        <td id=\"T_51001a9e_22b4_11e9_9aa4_d46d6db62f0arow2_col2\" class=\"data row2 col2\" >80.6</td> \n",
       "        <td id=\"T_51001a9e_22b4_11e9_9aa4_d46d6db62f0arow2_col3\" class=\"data row2 col3\" >81.4</td> \n",
       "    </tr>    <tr> \n",
       "        <th id=\"T_51001a9e_22b4_11e9_9aa4_d46d6db62f0alevel0_row3\" class=\"row_heading level0 row3\" >Ford High School</th> \n",
       "        <td id=\"T_51001a9e_22b4_11e9_9aa4_d46d6db62f0arow3_col0\" class=\"data row3 col0\" >80.6</td> \n",
       "        <td id=\"T_51001a9e_22b4_11e9_9aa4_d46d6db62f0arow3_col1\" class=\"data row3 col1\" >81.3</td> \n",
       "        <td id=\"T_51001a9e_22b4_11e9_9aa4_d46d6db62f0arow3_col2\" class=\"data row3 col2\" >80.4</td> \n",
       "        <td id=\"T_51001a9e_22b4_11e9_9aa4_d46d6db62f0arow3_col3\" class=\"data row3 col3\" >80.7</td> \n",
       "    </tr>    <tr> \n",
       "        <th id=\"T_51001a9e_22b4_11e9_9aa4_d46d6db62f0alevel0_row4\" class=\"row_heading level0 row4\" >Griffin High School</th> \n",
       "        <td id=\"T_51001a9e_22b4_11e9_9aa4_d46d6db62f0arow4_col0\" class=\"data row4 col0\" >83.4</td> \n",
       "        <td id=\"T_51001a9e_22b4_11e9_9aa4_d46d6db62f0arow4_col1\" class=\"data row4 col1\" >83.7</td> \n",
       "        <td id=\"T_51001a9e_22b4_11e9_9aa4_d46d6db62f0arow4_col2\" class=\"data row4 col2\" >84.3</td> \n",
       "        <td id=\"T_51001a9e_22b4_11e9_9aa4_d46d6db62f0arow4_col3\" class=\"data row4 col3\" >84.0</td> \n",
       "    </tr>    <tr> \n",
       "        <th id=\"T_51001a9e_22b4_11e9_9aa4_d46d6db62f0alevel0_row5\" class=\"row_heading level0 row5\" >Hernandez High School</th> \n",
       "        <td id=\"T_51001a9e_22b4_11e9_9aa4_d46d6db62f0arow5_col0\" class=\"data row5 col0\" >80.9</td> \n",
       "        <td id=\"T_51001a9e_22b4_11e9_9aa4_d46d6db62f0arow5_col1\" class=\"data row5 col1\" >80.7</td> \n",
       "        <td id=\"T_51001a9e_22b4_11e9_9aa4_d46d6db62f0arow5_col2\" class=\"data row5 col2\" >81.4</td> \n",
       "        <td id=\"T_51001a9e_22b4_11e9_9aa4_d46d6db62f0arow5_col3\" class=\"data row5 col3\" >80.9</td> \n",
       "    </tr>    <tr> \n",
       "        <th id=\"T_51001a9e_22b4_11e9_9aa4_d46d6db62f0alevel0_row6\" class=\"row_heading level0 row6\" >Holden High School</th> \n",
       "        <td id=\"T_51001a9e_22b4_11e9_9aa4_d46d6db62f0arow6_col0\" class=\"data row6 col0\" >83.7</td> \n",
       "        <td id=\"T_51001a9e_22b4_11e9_9aa4_d46d6db62f0arow6_col1\" class=\"data row6 col1\" >83.3</td> \n",
       "        <td id=\"T_51001a9e_22b4_11e9_9aa4_d46d6db62f0arow6_col2\" class=\"data row6 col2\" >83.8</td> \n",
       "        <td id=\"T_51001a9e_22b4_11e9_9aa4_d46d6db62f0arow6_col3\" class=\"data row6 col3\" >84.7</td> \n",
       "    </tr>    <tr> \n",
       "        <th id=\"T_51001a9e_22b4_11e9_9aa4_d46d6db62f0alevel0_row7\" class=\"row_heading level0 row7\" >Huang High School</th> \n",
       "        <td id=\"T_51001a9e_22b4_11e9_9aa4_d46d6db62f0arow7_col0\" class=\"data row7 col0\" >81.3</td> \n",
       "        <td id=\"T_51001a9e_22b4_11e9_9aa4_d46d6db62f0arow7_col1\" class=\"data row7 col1\" >81.5</td> \n",
       "        <td id=\"T_51001a9e_22b4_11e9_9aa4_d46d6db62f0arow7_col2\" class=\"data row7 col2\" >81.4</td> \n",
       "        <td id=\"T_51001a9e_22b4_11e9_9aa4_d46d6db62f0arow7_col3\" class=\"data row7 col3\" >80.3</td> \n",
       "    </tr>    <tr> \n",
       "        <th id=\"T_51001a9e_22b4_11e9_9aa4_d46d6db62f0alevel0_row8\" class=\"row_heading level0 row8\" >Johnson High School</th> \n",
       "        <td id=\"T_51001a9e_22b4_11e9_9aa4_d46d6db62f0arow8_col0\" class=\"data row8 col0\" >81.3</td> \n",
       "        <td id=\"T_51001a9e_22b4_11e9_9aa4_d46d6db62f0arow8_col1\" class=\"data row8 col1\" >80.8</td> \n",
       "        <td id=\"T_51001a9e_22b4_11e9_9aa4_d46d6db62f0arow8_col2\" class=\"data row8 col2\" >80.6</td> \n",
       "        <td id=\"T_51001a9e_22b4_11e9_9aa4_d46d6db62f0arow8_col3\" class=\"data row8 col3\" >81.2</td> \n",
       "    </tr>    <tr> \n",
       "        <th id=\"T_51001a9e_22b4_11e9_9aa4_d46d6db62f0alevel0_row9\" class=\"row_heading level0 row9\" >Pena High School</th> \n",
       "        <td id=\"T_51001a9e_22b4_11e9_9aa4_d46d6db62f0arow9_col0\" class=\"data row9 col0\" >83.8</td> \n",
       "        <td id=\"T_51001a9e_22b4_11e9_9aa4_d46d6db62f0arow9_col1\" class=\"data row9 col1\" >83.6</td> \n",
       "        <td id=\"T_51001a9e_22b4_11e9_9aa4_d46d6db62f0arow9_col2\" class=\"data row9 col2\" >84.3</td> \n",
       "        <td id=\"T_51001a9e_22b4_11e9_9aa4_d46d6db62f0arow9_col3\" class=\"data row9 col3\" >84.6</td> \n",
       "    </tr>    <tr> \n",
       "        <th id=\"T_51001a9e_22b4_11e9_9aa4_d46d6db62f0alevel0_row10\" class=\"row_heading level0 row10\" >Rodriguez High School</th> \n",
       "        <td id=\"T_51001a9e_22b4_11e9_9aa4_d46d6db62f0arow10_col0\" class=\"data row10 col0\" >81.0</td> \n",
       "        <td id=\"T_51001a9e_22b4_11e9_9aa4_d46d6db62f0arow10_col1\" class=\"data row10 col1\" >80.6</td> \n",
       "        <td id=\"T_51001a9e_22b4_11e9_9aa4_d46d6db62f0arow10_col2\" class=\"data row10 col2\" >80.9</td> \n",
       "        <td id=\"T_51001a9e_22b4_11e9_9aa4_d46d6db62f0arow10_col3\" class=\"data row10 col3\" >80.4</td> \n",
       "    </tr>    <tr> \n",
       "        <th id=\"T_51001a9e_22b4_11e9_9aa4_d46d6db62f0alevel0_row11\" class=\"row_heading level0 row11\" >Shelton High School</th> \n",
       "        <td id=\"T_51001a9e_22b4_11e9_9aa4_d46d6db62f0arow11_col0\" class=\"data row11 col0\" >84.1</td> \n",
       "        <td id=\"T_51001a9e_22b4_11e9_9aa4_d46d6db62f0arow11_col1\" class=\"data row11 col1\" >83.4</td> \n",
       "        <td id=\"T_51001a9e_22b4_11e9_9aa4_d46d6db62f0arow11_col2\" class=\"data row11 col2\" >84.4</td> \n",
       "        <td id=\"T_51001a9e_22b4_11e9_9aa4_d46d6db62f0arow11_col3\" class=\"data row11 col3\" >82.8</td> \n",
       "    </tr>    <tr> \n",
       "        <th id=\"T_51001a9e_22b4_11e9_9aa4_d46d6db62f0alevel0_row12\" class=\"row_heading level0 row12\" >Thomas High School</th> \n",
       "        <td id=\"T_51001a9e_22b4_11e9_9aa4_d46d6db62f0arow12_col0\" class=\"data row12 col0\" >83.7</td> \n",
       "        <td id=\"T_51001a9e_22b4_11e9_9aa4_d46d6db62f0arow12_col1\" class=\"data row12 col1\" >84.3</td> \n",
       "        <td id=\"T_51001a9e_22b4_11e9_9aa4_d46d6db62f0arow12_col2\" class=\"data row12 col2\" >83.6</td> \n",
       "        <td id=\"T_51001a9e_22b4_11e9_9aa4_d46d6db62f0arow12_col3\" class=\"data row12 col3\" >83.8</td> \n",
       "    </tr>    <tr> \n",
       "        <th id=\"T_51001a9e_22b4_11e9_9aa4_d46d6db62f0alevel0_row13\" class=\"row_heading level0 row13\" >Wilson High School</th> \n",
       "        <td id=\"T_51001a9e_22b4_11e9_9aa4_d46d6db62f0arow13_col0\" class=\"data row13 col0\" >83.9</td> \n",
       "        <td id=\"T_51001a9e_22b4_11e9_9aa4_d46d6db62f0arow13_col1\" class=\"data row13 col1\" >84.0</td> \n",
       "        <td id=\"T_51001a9e_22b4_11e9_9aa4_d46d6db62f0arow13_col2\" class=\"data row13 col2\" >83.8</td> \n",
       "        <td id=\"T_51001a9e_22b4_11e9_9aa4_d46d6db62f0arow13_col3\" class=\"data row13 col3\" >84.3</td> \n",
       "    </tr>    <tr> \n",
       "        <th id=\"T_51001a9e_22b4_11e9_9aa4_d46d6db62f0alevel0_row14\" class=\"row_heading level0 row14\" >Wright High School</th> \n",
       "        <td id=\"T_51001a9e_22b4_11e9_9aa4_d46d6db62f0arow14_col0\" class=\"data row14 col0\" >83.8</td> \n",
       "        <td id=\"T_51001a9e_22b4_11e9_9aa4_d46d6db62f0arow14_col1\" class=\"data row14 col1\" >83.8</td> \n",
       "        <td id=\"T_51001a9e_22b4_11e9_9aa4_d46d6db62f0arow14_col2\" class=\"data row14 col2\" >84.2</td> \n",
       "        <td id=\"T_51001a9e_22b4_11e9_9aa4_d46d6db62f0arow14_col3\" class=\"data row14 col3\" >84.1</td> \n",
       "    </tr></tbody> \n",
       "</table> "
      ],
      "text/plain": [
       "<pandas.io.formats.style.Styler at 0x26800e7b6d8>"
      ]
     },
     "execution_count": 19,
     "metadata": {},
     "output_type": "execute_result"
    }
   ],
   "source": [
    "#creates grade level average reading scores for each school\n",
    "ninth_reading = school_data_complete_df.loc[school_data_complete_df['grade'] == '9th'].groupby('school_name')[\"reading_score\"].mean()\n",
    "tenth_reading = school_data_complete_df.loc[school_data_complete_df['grade'] == '10th'].groupby('school_name')[\"reading_score\"].mean()\n",
    "eleventh_reading = school_data_complete_df.loc[school_data_complete_df['grade'] == '11th'].groupby('school_name')[\"reading_score\"].mean()\n",
    "twelfth_reading = school_data_complete_df.loc[school_data_complete_df['grade'] == '12th'].groupby('school_name')[\"reading_score\"].mean()\n",
    "\n",
    "#merges the reading score averages by school and grade together\n",
    "reading_scores = pd.DataFrame({\n",
    "        \"9th\": ninth_reading,\n",
    "        \"10th\": tenth_reading,\n",
    "        \"11th\": eleventh_reading,\n",
    "        \"12th\": twelfth_reading\n",
    "})\n",
    "reading_scores = reading_scores[['9th', '10th', '11th', '12th']]\n",
    "reading_scores.index.name = \"School\"\n",
    "\n",
    "#format\n",
    "reading_scores.style.format({'9th': '{:.1f}', \n",
    "                             \"10th\": '{:.1f}', \n",
    "                             \"11th\": \"{:.1f}\", \n",
    "                             \"12th\": \"{:.1f}\"})"
   ]
  },
  {
   "cell_type": "markdown",
   "metadata": {},
   "source": [
    "## Scores by School Spending"
   ]
  },
  {
   "cell_type": "markdown",
   "metadata": {},
   "source": [
    "* Create a table that breaks down school performances based on average Spending Ranges (Per Student). Use 4 reasonable bins to group school spending. Include in the table each of the following:\n",
    "  * Average Math Score\n",
    "  * Average Reading Score\n",
    "  * % Passing Math\n",
    "  * % Passing Reading\n",
    "  * Overall Passing Rate (Average of the above two)"
   ]
  },
  {
   "cell_type": "code",
   "execution_count": 20,
   "metadata": {},
   "outputs": [],
   "source": [
    "spending_bins = [0, 585, 615, 645, 675]\n",
    "group_names = [\"<$585\", \"$585-615\", \"$615-645\", \"$645-675\"]\n",
    "#catagorize \n",
    "school_general_summary[\"spending ranges per student\"] = pd.cut(student_budget, spending_bins, labels = group_names)\n",
    "#school_general_summary.head"
   ]
  },
  {
   "cell_type": "code",
   "execution_count": 21,
   "metadata": {},
   "outputs": [
    {
     "data": {
      "text/plain": [
       "spending ranges per student\n",
       "<$585       78.985371\n",
       "$585-615    78.985371\n",
       "$615-645    78.985371\n",
       "$645-675    78.985371\n",
       "Name: Average Math Score, dtype: float64"
      ]
     },
     "execution_count": 21,
     "metadata": {},
     "output_type": "execute_result"
    }
   ],
   "source": [
    "#I can figure out why i get the below result! as well as the results in the next cell\n",
    "avg_spending_math_scores = school_general_summary.groupby([\"spending ranges per student\"]).mean()[\"Average Math Score\"]\n",
    "avg_spending_math_scores"
   ]
  },
  {
   "cell_type": "code",
   "execution_count": 22,
   "metadata": {
    "scrolled": true
   },
   "outputs": [
    {
     "data": {
      "text/html": [
       "<div>\n",
       "<style scoped>\n",
       "    .dataframe tbody tr th:only-of-type {\n",
       "        vertical-align: middle;\n",
       "    }\n",
       "\n",
       "    .dataframe tbody tr th {\n",
       "        vertical-align: top;\n",
       "    }\n",
       "\n",
       "    .dataframe thead th {\n",
       "        text-align: right;\n",
       "    }\n",
       "</style>\n",
       "<table border=\"1\" class=\"dataframe\">\n",
       "  <thead>\n",
       "    <tr style=\"text-align: right;\">\n",
       "      <th></th>\n",
       "      <th>Average Math Score</th>\n",
       "      <th>Average Reading Score</th>\n",
       "      <th>% Passing Math</th>\n",
       "      <th>% Passing Reading</th>\n",
       "      <th>Overall Passing Rate</th>\n",
       "    </tr>\n",
       "    <tr>\n",
       "      <th>spending ranges per student</th>\n",
       "      <th></th>\n",
       "      <th></th>\n",
       "      <th></th>\n",
       "      <th></th>\n",
       "      <th></th>\n",
       "    </tr>\n",
       "  </thead>\n",
       "  <tbody>\n",
       "    <tr>\n",
       "      <th>&lt;$585</th>\n",
       "      <td>78.985371</td>\n",
       "      <td>81.87784</td>\n",
       "      <td>100.000000</td>\n",
       "      <td>100.000000</td>\n",
       "      <td>100.000000</td>\n",
       "    </tr>\n",
       "    <tr>\n",
       "      <th>$585-615</th>\n",
       "      <td>78.985371</td>\n",
       "      <td>81.87784</td>\n",
       "      <td>100.000000</td>\n",
       "      <td>100.000000</td>\n",
       "      <td>100.000000</td>\n",
       "    </tr>\n",
       "    <tr>\n",
       "      <th>$615-645</th>\n",
       "      <td>78.985371</td>\n",
       "      <td>81.87784</td>\n",
       "      <td>85.206817</td>\n",
       "      <td>96.264069</td>\n",
       "      <td>90.735443</td>\n",
       "    </tr>\n",
       "    <tr>\n",
       "      <th>$645-675</th>\n",
       "      <td>78.985371</td>\n",
       "      <td>81.87784</td>\n",
       "      <td>77.806091</td>\n",
       "      <td>94.520946</td>\n",
       "      <td>86.163519</td>\n",
       "    </tr>\n",
       "  </tbody>\n",
       "</table>\n",
       "</div>"
      ],
      "text/plain": [
       "                             Average Math Score  Average Reading Score  \\\n",
       "spending ranges per student                                              \n",
       "<$585                                 78.985371               81.87784   \n",
       "$585-615                              78.985371               81.87784   \n",
       "$615-645                              78.985371               81.87784   \n",
       "$645-675                              78.985371               81.87784   \n",
       "\n",
       "                             % Passing Math  % Passing Reading  \\\n",
       "spending ranges per student                                      \n",
       "<$585                            100.000000         100.000000   \n",
       "$585-615                         100.000000         100.000000   \n",
       "$615-645                          85.206817          96.264069   \n",
       "$645-675                          77.806091          94.520946   \n",
       "\n",
       "                             Overall Passing Rate  \n",
       "spending ranges per student                        \n",
       "<$585                                  100.000000  \n",
       "$585-615                               100.000000  \n",
       "$615-645                                90.735443  \n",
       "$645-675                                86.163519  "
      ]
     },
     "execution_count": 22,
     "metadata": {},
     "output_type": "execute_result"
    }
   ],
   "source": [
    "#calculations\n",
    "\n",
    "avg_spending_math_scores = school_general_summary.groupby([\"spending ranges per student\"]).mean()[\"Average Math Score\"]\n",
    "avg_spending_reading_scores = school_general_summary.groupby([\"spending ranges per student\"]).mean()[\"Average Reading Score\"]\n",
    "avg_spending_passing_math = school_general_summary.groupby([\"spending ranges per student\"]).mean()[\"% Passing Math\"]\n",
    "avg_spending_passing_reading = school_general_summary.groupby([\"spending ranges per student\"]).mean()[\"% Passing Reading\"]\n",
    "overall_passing_rate = (avg_spending_passing_math + avg_spending_passing_reading) / 2\n",
    "\n",
    "            \n",
    "# df           \n",
    "all_scores_by_spending = pd.DataFrame({\n",
    "    \"Average Math Score\": avg_spending_math_scores,\n",
    "    \"Average Reading Score\": avg_spending_reading_scores,\n",
    "    '% Passing Math':avg_spending_passing_math,\n",
    "    '% Passing Reading': avg_spending_passing_reading,\n",
    "    \"Overall Passing Rate\": overall_passing_rate\n",
    "            \n",
    "})\n",
    "            \n",
    "#reorder columns\n",
    "all_scores_by_spending = all_scores_by_spending[[\n",
    "    \"Average Math Score\",\n",
    "    \"Average Reading Score\",\n",
    "    '% Passing Math',\n",
    "    '% Passing Reading',\n",
    "    \"Overall Passing Rate\"\n",
    "]]\n",
    "\n",
    "#all_scores_by_spending.index.name = \"Per Student Budget\"\n",
    "#all_scores_by_spending = all_scores_by_spending.reindex(group_name)\n",
    "\n",
    "#formating\n",
    "all_scores_by_spending.style.format({'Average Math Score': '{:.1f}', \n",
    "                              'Average Reading Score': '{:.1f}', \n",
    "                              '% Passing Math': '{:.1%}', \n",
    "                              '% Passing Reading':'{:.1%}', \n",
    "                              'Overall Passing Rate': '{:.1%}'})\n",
    "all_scores_by_spending"
   ]
  },
  {
   "cell_type": "markdown",
   "metadata": {},
   "source": [
    "## Scores by School Size"
   ]
  },
  {
   "cell_type": "markdown",
   "metadata": {},
   "source": [
    "* Perform the same operations as above, based on school size.\n",
    "From here on down I had problems with binning which effect the rest of my results"
   ]
  },
  {
   "cell_type": "code",
   "execution_count": 35,
   "metadata": {},
   "outputs": [
    {
     "ename": "ValueError",
     "evalue": "Input array must be 1 dimensional",
     "output_type": "error",
     "traceback": [
      "\u001b[1;31m---------------------------------------------------------------------------\u001b[0m",
      "\u001b[1;31mValueError\u001b[0m                                Traceback (most recent call last)",
      "\u001b[1;32m<ipython-input-35-ca2c8f5011e1>\u001b[0m in \u001b[0;36m<module>\u001b[1;34m()\u001b[0m\n\u001b[0;32m      3\u001b[0m \u001b[0mbins\u001b[0m \u001b[1;33m=\u001b[0m \u001b[1;33m[\u001b[0m\u001b[1;36m0\u001b[0m\u001b[1;33m,\u001b[0m \u001b[1;36m1000\u001b[0m\u001b[1;33m,\u001b[0m \u001b[1;36m2000\u001b[0m\u001b[1;33m,\u001b[0m \u001b[1;36m5000\u001b[0m\u001b[1;33m]\u001b[0m\u001b[1;33m\u001b[0m\u001b[0m\n\u001b[0;32m      4\u001b[0m \u001b[0mgroup_name\u001b[0m \u001b[1;33m=\u001b[0m \u001b[1;33m[\u001b[0m\u001b[1;34m\"Small (0-1000)\"\u001b[0m\u001b[1;33m,\u001b[0m \u001b[1;34m\"Medium (1000-2000)\"\u001b[0m \u001b[1;33m,\u001b[0m \u001b[1;34m\"Large (2000-5000)\"\u001b[0m\u001b[1;33m]\u001b[0m\u001b[1;33m\u001b[0m\u001b[0m\n\u001b[1;32m----> 5\u001b[1;33m \u001b[0mschool_general_summary\u001b[0m\u001b[1;33m[\u001b[0m\u001b[1;34m'School Size'\u001b[0m\u001b[1;33m]\u001b[0m \u001b[1;33m=\u001b[0m \u001b[0mpd\u001b[0m\u001b[1;33m.\u001b[0m\u001b[0mcut\u001b[0m\u001b[1;33m(\u001b[0m\u001b[1;34m\"Total Students\"\u001b[0m\u001b[1;33m,\u001b[0m \u001b[0mbins\u001b[0m\u001b[1;33m,\u001b[0m \u001b[0mlabels\u001b[0m \u001b[1;33m=\u001b[0m \u001b[0mgroup_name\u001b[0m\u001b[1;33m)\u001b[0m\u001b[1;33m\u001b[0m\u001b[0m\n\u001b[0m",
      "\u001b[1;32m~\\Anaconda3\\lib\\site-packages\\pandas\\core\\reshape\\tile.py\u001b[0m in \u001b[0;36mcut\u001b[1;34m(x, bins, right, labels, retbins, precision, include_lowest, duplicates)\u001b[0m\n\u001b[0;32m    189\u001b[0m \u001b[1;33m\u001b[0m\u001b[0m\n\u001b[0;32m    190\u001b[0m     \u001b[1;31m# for handling the cut for datetime and timedelta objects\u001b[0m\u001b[1;33m\u001b[0m\u001b[1;33m\u001b[0m\u001b[0m\n\u001b[1;32m--> 191\u001b[1;33m     \u001b[0mx_is_series\u001b[0m\u001b[1;33m,\u001b[0m \u001b[0mseries_index\u001b[0m\u001b[1;33m,\u001b[0m \u001b[0mname\u001b[0m\u001b[1;33m,\u001b[0m \u001b[0mx\u001b[0m \u001b[1;33m=\u001b[0m \u001b[0m_preprocess_for_cut\u001b[0m\u001b[1;33m(\u001b[0m\u001b[0mx\u001b[0m\u001b[1;33m)\u001b[0m\u001b[1;33m\u001b[0m\u001b[0m\n\u001b[0m\u001b[0;32m    192\u001b[0m     \u001b[0mx\u001b[0m\u001b[1;33m,\u001b[0m \u001b[0mdtype\u001b[0m \u001b[1;33m=\u001b[0m \u001b[0m_coerce_to_type\u001b[0m\u001b[1;33m(\u001b[0m\u001b[0mx\u001b[0m\u001b[1;33m)\u001b[0m\u001b[1;33m\u001b[0m\u001b[0m\n\u001b[0;32m    193\u001b[0m \u001b[1;33m\u001b[0m\u001b[0m\n",
      "\u001b[1;32m~\\Anaconda3\\lib\\site-packages\\pandas\\core\\reshape\\tile.py\u001b[0m in \u001b[0;36m_preprocess_for_cut\u001b[1;34m(x)\u001b[0m\n\u001b[0;32m    483\u001b[0m         \u001b[0mx\u001b[0m \u001b[1;33m=\u001b[0m \u001b[0mnp\u001b[0m\u001b[1;33m.\u001b[0m\u001b[0masarray\u001b[0m\u001b[1;33m(\u001b[0m\u001b[0mx\u001b[0m\u001b[1;33m)\u001b[0m\u001b[1;33m\u001b[0m\u001b[0m\n\u001b[0;32m    484\u001b[0m     \u001b[1;32mif\u001b[0m \u001b[0mx\u001b[0m\u001b[1;33m.\u001b[0m\u001b[0mndim\u001b[0m \u001b[1;33m!=\u001b[0m \u001b[1;36m1\u001b[0m\u001b[1;33m:\u001b[0m\u001b[1;33m\u001b[0m\u001b[0m\n\u001b[1;32m--> 485\u001b[1;33m         \u001b[1;32mraise\u001b[0m \u001b[0mValueError\u001b[0m\u001b[1;33m(\u001b[0m\u001b[1;34m\"Input array must be 1 dimensional\"\u001b[0m\u001b[1;33m)\u001b[0m\u001b[1;33m\u001b[0m\u001b[0m\n\u001b[0m\u001b[0;32m    486\u001b[0m \u001b[1;33m\u001b[0m\u001b[0m\n\u001b[0;32m    487\u001b[0m     \u001b[1;32mreturn\u001b[0m \u001b[0mx_is_series\u001b[0m\u001b[1;33m,\u001b[0m \u001b[0mseries_index\u001b[0m\u001b[1;33m,\u001b[0m \u001b[0mname\u001b[0m\u001b[1;33m,\u001b[0m \u001b[0mx\u001b[0m\u001b[1;33m\u001b[0m\u001b[0m\n",
      "\u001b[1;31mValueError\u001b[0m: Input array must be 1 dimensional"
     ]
    }
   ],
   "source": [
    "# create size bins\n",
    "# I dont know what I'm doing wrong to get that error!\n",
    "bins = [0, 1000, 2000, 5000]\n",
    "group_name = [\"Small (0-1000)\", \"Medium (1000-2000)\" , \"Large (2000-5000)\"]\n",
    "school_general_summary['School Size'] = pd.cut(school_general_summary[\"Total Students\"], bins, labels = group_name)\n"
   ]
  },
  {
   "cell_type": "code",
   "execution_count": 31,
   "metadata": {
    "scrolled": true
   },
   "outputs": [
    {
     "ename": "KeyError",
     "evalue": "'School Size'",
     "output_type": "error",
     "traceback": [
      "\u001b[1;31m---------------------------------------------------------------------------\u001b[0m",
      "\u001b[1;31mKeyError\u001b[0m                                  Traceback (most recent call last)",
      "\u001b[1;32m<ipython-input-31-e0c9ba149ba9>\u001b[0m in \u001b[0;36m<module>\u001b[1;34m()\u001b[0m\n\u001b[0;32m      1\u001b[0m \u001b[1;33m\u001b[0m\u001b[0m\n\u001b[0;32m      2\u001b[0m \u001b[1;31m#calculations\u001b[0m\u001b[1;33m\u001b[0m\u001b[1;33m\u001b[0m\u001b[0m\n\u001b[1;32m----> 3\u001b[1;33m \u001b[0mavg_math\u001b[0m \u001b[1;33m=\u001b[0m \u001b[0mschool_general_summary\u001b[0m\u001b[1;33m.\u001b[0m\u001b[0mgroupby\u001b[0m\u001b[1;33m(\u001b[0m\u001b[1;33m[\u001b[0m\u001b[1;34m\"School Size\"\u001b[0m\u001b[1;33m]\u001b[0m\u001b[1;33m)\u001b[0m\u001b[1;33m.\u001b[0m\u001b[0mmean\u001b[0m\u001b[1;33m(\u001b[0m\u001b[1;33m)\u001b[0m\u001b[1;33m[\u001b[0m\u001b[1;34m'math_score'\u001b[0m\u001b[1;33m]\u001b[0m\u001b[1;33m\u001b[0m\u001b[0m\n\u001b[0m\u001b[0;32m      4\u001b[0m \u001b[0mavg_read\u001b[0m \u001b[1;33m=\u001b[0m \u001b[0mschool_general_summary\u001b[0m\u001b[1;33m.\u001b[0m\u001b[0mgroupby\u001b[0m\u001b[1;33m(\u001b[0m\u001b[1;33m[\u001b[0m\u001b[1;34m\"School Size\"\u001b[0m\u001b[1;33m]\u001b[0m\u001b[1;33m)\u001b[0m\u001b[1;33m.\u001b[0m\u001b[0mmean\u001b[0m\u001b[1;33m(\u001b[0m\u001b[1;33m)\u001b[0m\u001b[1;33m[\u001b[0m\u001b[1;34m'reading_score'\u001b[0m\u001b[1;33m]\u001b[0m\u001b[1;33m\u001b[0m\u001b[0m\n\u001b[0;32m      5\u001b[0m \u001b[0mpass_math\u001b[0m \u001b[1;33m=\u001b[0m\u001b[0mschool_general_summary\u001b[0m\u001b[1;33m.\u001b[0m\u001b[0mgroupby\u001b[0m\u001b[1;33m(\u001b[0m\u001b[1;33m[\u001b[0m\u001b[1;34m\"School Size\"\u001b[0m\u001b[1;33m]\u001b[0m\u001b[1;33m)\u001b[0m\u001b[1;33m.\u001b[0m\u001b[0mmean\u001b[0m\u001b[1;33m(\u001b[0m\u001b[1;33m)\u001b[0m\u001b[1;33m[\u001b[0m\u001b[1;34m\"% Passing Math\"\u001b[0m\u001b[1;33m]\u001b[0m\u001b[1;33m\u001b[0m\u001b[0m\n",
      "\u001b[1;32m~\\Anaconda3\\lib\\site-packages\\pandas\\core\\generic.py\u001b[0m in \u001b[0;36mgroupby\u001b[1;34m(self, by, axis, level, as_index, sort, group_keys, squeeze, observed, **kwargs)\u001b[0m\n\u001b[0;32m   6663\u001b[0m         return groupby(self, by=by, axis=axis, level=level, as_index=as_index,\n\u001b[0;32m   6664\u001b[0m                        \u001b[0msort\u001b[0m\u001b[1;33m=\u001b[0m\u001b[0msort\u001b[0m\u001b[1;33m,\u001b[0m \u001b[0mgroup_keys\u001b[0m\u001b[1;33m=\u001b[0m\u001b[0mgroup_keys\u001b[0m\u001b[1;33m,\u001b[0m \u001b[0msqueeze\u001b[0m\u001b[1;33m=\u001b[0m\u001b[0msqueeze\u001b[0m\u001b[1;33m,\u001b[0m\u001b[1;33m\u001b[0m\u001b[0m\n\u001b[1;32m-> 6665\u001b[1;33m                        observed=observed, **kwargs)\n\u001b[0m\u001b[0;32m   6666\u001b[0m \u001b[1;33m\u001b[0m\u001b[0m\n\u001b[0;32m   6667\u001b[0m     def asfreq(self, freq, method=None, how=None, normalize=False,\n",
      "\u001b[1;32m~\\Anaconda3\\lib\\site-packages\\pandas\\core\\groupby\\groupby.py\u001b[0m in \u001b[0;36mgroupby\u001b[1;34m(obj, by, **kwds)\u001b[0m\n\u001b[0;32m   2150\u001b[0m         \u001b[1;32mraise\u001b[0m \u001b[0mTypeError\u001b[0m\u001b[1;33m(\u001b[0m\u001b[1;34m'invalid type: %s'\u001b[0m \u001b[1;33m%\u001b[0m \u001b[0mtype\u001b[0m\u001b[1;33m(\u001b[0m\u001b[0mobj\u001b[0m\u001b[1;33m)\u001b[0m\u001b[1;33m)\u001b[0m\u001b[1;33m\u001b[0m\u001b[0m\n\u001b[0;32m   2151\u001b[0m \u001b[1;33m\u001b[0m\u001b[0m\n\u001b[1;32m-> 2152\u001b[1;33m     \u001b[1;32mreturn\u001b[0m \u001b[0mklass\u001b[0m\u001b[1;33m(\u001b[0m\u001b[0mobj\u001b[0m\u001b[1;33m,\u001b[0m \u001b[0mby\u001b[0m\u001b[1;33m,\u001b[0m \u001b[1;33m**\u001b[0m\u001b[0mkwds\u001b[0m\u001b[1;33m)\u001b[0m\u001b[1;33m\u001b[0m\u001b[0m\n\u001b[0m\u001b[0;32m   2153\u001b[0m \u001b[1;33m\u001b[0m\u001b[0m\n\u001b[0;32m   2154\u001b[0m \u001b[1;33m\u001b[0m\u001b[0m\n",
      "\u001b[1;32m~\\Anaconda3\\lib\\site-packages\\pandas\\core\\groupby\\groupby.py\u001b[0m in \u001b[0;36m__init__\u001b[1;34m(self, obj, keys, axis, level, grouper, exclusions, selection, as_index, sort, group_keys, squeeze, observed, **kwargs)\u001b[0m\n\u001b[0;32m    597\u001b[0m                                                     \u001b[0msort\u001b[0m\u001b[1;33m=\u001b[0m\u001b[0msort\u001b[0m\u001b[1;33m,\u001b[0m\u001b[1;33m\u001b[0m\u001b[0m\n\u001b[0;32m    598\u001b[0m                                                     \u001b[0mobserved\u001b[0m\u001b[1;33m=\u001b[0m\u001b[0mobserved\u001b[0m\u001b[1;33m,\u001b[0m\u001b[1;33m\u001b[0m\u001b[0m\n\u001b[1;32m--> 599\u001b[1;33m                                                     mutated=self.mutated)\n\u001b[0m\u001b[0;32m    600\u001b[0m \u001b[1;33m\u001b[0m\u001b[0m\n\u001b[0;32m    601\u001b[0m         \u001b[0mself\u001b[0m\u001b[1;33m.\u001b[0m\u001b[0mobj\u001b[0m \u001b[1;33m=\u001b[0m \u001b[0mobj\u001b[0m\u001b[1;33m\u001b[0m\u001b[0m\n",
      "\u001b[1;32m~\\Anaconda3\\lib\\site-packages\\pandas\\core\\groupby\\groupby.py\u001b[0m in \u001b[0;36m_get_grouper\u001b[1;34m(obj, key, axis, level, sort, observed, mutated, validate)\u001b[0m\n\u001b[0;32m   3289\u001b[0m                 \u001b[0min_axis\u001b[0m\u001b[1;33m,\u001b[0m \u001b[0mname\u001b[0m\u001b[1;33m,\u001b[0m \u001b[0mlevel\u001b[0m\u001b[1;33m,\u001b[0m \u001b[0mgpr\u001b[0m \u001b[1;33m=\u001b[0m \u001b[1;32mFalse\u001b[0m\u001b[1;33m,\u001b[0m \u001b[1;32mNone\u001b[0m\u001b[1;33m,\u001b[0m \u001b[0mgpr\u001b[0m\u001b[1;33m,\u001b[0m \u001b[1;32mNone\u001b[0m\u001b[1;33m\u001b[0m\u001b[0m\n\u001b[0;32m   3290\u001b[0m             \u001b[1;32melse\u001b[0m\u001b[1;33m:\u001b[0m\u001b[1;33m\u001b[0m\u001b[0m\n\u001b[1;32m-> 3291\u001b[1;33m                 \u001b[1;32mraise\u001b[0m \u001b[0mKeyError\u001b[0m\u001b[1;33m(\u001b[0m\u001b[0mgpr\u001b[0m\u001b[1;33m)\u001b[0m\u001b[1;33m\u001b[0m\u001b[0m\n\u001b[0m\u001b[0;32m   3292\u001b[0m         \u001b[1;32melif\u001b[0m \u001b[0misinstance\u001b[0m\u001b[1;33m(\u001b[0m\u001b[0mgpr\u001b[0m\u001b[1;33m,\u001b[0m \u001b[0mGrouper\u001b[0m\u001b[1;33m)\u001b[0m \u001b[1;32mand\u001b[0m \u001b[0mgpr\u001b[0m\u001b[1;33m.\u001b[0m\u001b[0mkey\u001b[0m \u001b[1;32mis\u001b[0m \u001b[1;32mnot\u001b[0m \u001b[1;32mNone\u001b[0m\u001b[1;33m:\u001b[0m\u001b[1;33m\u001b[0m\u001b[0m\n\u001b[0;32m   3293\u001b[0m             \u001b[1;31m# Add key to exclusions\u001b[0m\u001b[1;33m\u001b[0m\u001b[1;33m\u001b[0m\u001b[0m\n",
      "\u001b[1;31mKeyError\u001b[0m: 'School Size'"
     ]
    }
   ],
   "source": [
    "\n",
    "#calculations \n",
    "avg_math = school_general_summary.groupby([\"School Size\"]).mean()['math_score']\n",
    "avg_read = school_general_summary.groupby([\"School Size\"]).mean()['reading_score']\n",
    "pass_math =school_general_summary.groupby([\"School Size\"]).mean()[\"% Passing Math\"]\n",
    "pass_read = school_general_summary.groupby([\"School Size\"]).mean()[\"% Passing Reading\"]\n",
    "overall = (pass_read+pass_math)/2\n",
    "\n",
    "            \n",
    "# df build            \n",
    "scores_by_size = pd.DataFrame({\n",
    "    \"Average Math Score\": avg_math,\n",
    "    \"Average Reading Score\": avg_read,\n",
    "    '% Passing Math': pass_math,\n",
    "    '% Passing Reading': pass_read,\n",
    "    \"Overall Passing Rate\": overall\n",
    "            \n",
    "})\n",
    "            \n",
    "#reorder columns\n",
    "scores_by_size = scores_by_size[[\n",
    "    \"Average Math Score\",\n",
    "    \"Average Reading Score\",\n",
    "    '% Passing Math',\n",
    "    '% Passing Reading',\n",
    "    \"Overall Passing Rate\"\n",
    "]]\n",
    "\n",
    "#scores_by_size.index.name = \"Total Students\"\n",
    "#scores_by_size = scores_by_size.reindex(group_name)\n",
    "\n"
   ]
  },
  {
   "cell_type": "markdown",
   "metadata": {},
   "source": [
    "## Scores by School Type"
   ]
  },
  {
   "cell_type": "markdown",
   "metadata": {},
   "source": [
    "* Perform the same operations as above, based on school type."
   ]
  },
  {
   "cell_type": "code",
   "execution_count": 38,
   "metadata": {},
   "outputs": [
    {
     "ename": "TypeError",
     "evalue": "'<' not supported between instances of 'int' and 'str'",
     "output_type": "error",
     "traceback": [
      "\u001b[1;31m---------------------------------------------------------------------------\u001b[0m",
      "\u001b[1;31mTypeError\u001b[0m                                 Traceback (most recent call last)",
      "\u001b[1;32m<ipython-input-38-fea496acda77>\u001b[0m in \u001b[0;36m<module>\u001b[1;34m()\u001b[0m\n\u001b[0;32m      2\u001b[0m \u001b[0mgroup_names\u001b[0m \u001b[1;33m=\u001b[0m \u001b[1;33m[\u001b[0m\u001b[1;34m\"Small (<1000)\"\u001b[0m\u001b[1;33m,\u001b[0m \u001b[1;34m\"Medium (1000-2000)\"\u001b[0m\u001b[1;33m,\u001b[0m \u001b[1;34m\"Large (2000-5000)\"\u001b[0m\u001b[1;33m]\u001b[0m\u001b[1;33m\u001b[0m\u001b[0m\n\u001b[0;32m      3\u001b[0m \u001b[1;33m\u001b[0m\u001b[0m\n\u001b[1;32m----> 4\u001b[1;33m \u001b[0mschool_general_summary\u001b[0m\u001b[1;33m[\u001b[0m\u001b[1;34m\"School Size\"\u001b[0m\u001b[1;33m]\u001b[0m \u001b[1;33m=\u001b[0m \u001b[0mpd\u001b[0m\u001b[1;33m.\u001b[0m\u001b[0mcut\u001b[0m\u001b[1;33m(\u001b[0m\u001b[0mschool_general_summary\u001b[0m\u001b[1;33m[\u001b[0m\u001b[1;34m\"Total Students\"\u001b[0m\u001b[1;33m]\u001b[0m\u001b[1;33m,\u001b[0m \u001b[0mbins\u001b[0m\u001b[1;33m,\u001b[0m \u001b[0mlabels\u001b[0m\u001b[1;33m=\u001b[0m\u001b[0mgroup_names\u001b[0m\u001b[1;33m)\u001b[0m\u001b[1;33m\u001b[0m\u001b[0m\n\u001b[0m",
      "\u001b[1;32m~\\Anaconda3\\lib\\site-packages\\pandas\\core\\reshape\\tile.py\u001b[0m in \u001b[0;36mcut\u001b[1;34m(x, bins, right, labels, retbins, precision, include_lowest, duplicates)\u001b[0m\n\u001b[0;32m    232\u001b[0m                               \u001b[0minclude_lowest\u001b[0m\u001b[1;33m=\u001b[0m\u001b[0minclude_lowest\u001b[0m\u001b[1;33m,\u001b[0m\u001b[1;33m\u001b[0m\u001b[0m\n\u001b[0;32m    233\u001b[0m                               \u001b[0mdtype\u001b[0m\u001b[1;33m=\u001b[0m\u001b[0mdtype\u001b[0m\u001b[1;33m,\u001b[0m\u001b[1;33m\u001b[0m\u001b[0m\n\u001b[1;32m--> 234\u001b[1;33m                               duplicates=duplicates)\n\u001b[0m\u001b[0;32m    235\u001b[0m \u001b[1;33m\u001b[0m\u001b[0m\n\u001b[0;32m    236\u001b[0m     return _postprocess_for_cut(fac, bins, retbins, x_is_series,\n",
      "\u001b[1;32m~\\Anaconda3\\lib\\site-packages\\pandas\\core\\reshape\\tile.py\u001b[0m in \u001b[0;36m_bins_to_cuts\u001b[1;34m(x, bins, right, labels, precision, include_lowest, dtype, duplicates)\u001b[0m\n\u001b[0;32m    335\u001b[0m \u001b[1;33m\u001b[0m\u001b[0m\n\u001b[0;32m    336\u001b[0m     \u001b[0mside\u001b[0m \u001b[1;33m=\u001b[0m \u001b[1;34m'left'\u001b[0m \u001b[1;32mif\u001b[0m \u001b[0mright\u001b[0m \u001b[1;32melse\u001b[0m \u001b[1;34m'right'\u001b[0m\u001b[1;33m\u001b[0m\u001b[0m\n\u001b[1;32m--> 337\u001b[1;33m     \u001b[0mids\u001b[0m \u001b[1;33m=\u001b[0m \u001b[0m_ensure_int64\u001b[0m\u001b[1;33m(\u001b[0m\u001b[0mbins\u001b[0m\u001b[1;33m.\u001b[0m\u001b[0msearchsorted\u001b[0m\u001b[1;33m(\u001b[0m\u001b[0mx\u001b[0m\u001b[1;33m,\u001b[0m \u001b[0mside\u001b[0m\u001b[1;33m=\u001b[0m\u001b[0mside\u001b[0m\u001b[1;33m)\u001b[0m\u001b[1;33m)\u001b[0m\u001b[1;33m\u001b[0m\u001b[0m\n\u001b[0m\u001b[0;32m    338\u001b[0m \u001b[1;33m\u001b[0m\u001b[0m\n\u001b[0;32m    339\u001b[0m     \u001b[1;32mif\u001b[0m \u001b[0minclude_lowest\u001b[0m\u001b[1;33m:\u001b[0m\u001b[1;33m\u001b[0m\u001b[0m\n",
      "\u001b[1;31mTypeError\u001b[0m: '<' not supported between instances of 'int' and 'str'"
     ]
    }
   ],
   "source": [
    "bins = [0, 1000, 2000, 5000]\n",
    "group_names = [\"Small (<1000)\", \"Medium (1000-2000)\", \"Large (2000-5000)\"]\n",
    "\n",
    "school_general_summary[\"School Size\"] = pd.cut(school_general_summary[\"Total Students\"], bins, labels=group_names)\n"
   ]
  },
  {
   "cell_type": "code",
   "execution_count": 41,
   "metadata": {},
   "outputs": [
    {
     "ename": "KeyError",
     "evalue": "'Spending Ranges (Per Student)'",
     "output_type": "error",
     "traceback": [
      "\u001b[1;31m---------------------------------------------------------------------------\u001b[0m",
      "\u001b[1;31mKeyError\u001b[0m                                  Traceback (most recent call last)",
      "\u001b[1;32m<ipython-input-41-4cb9c726c6a7>\u001b[0m in \u001b[0;36m<module>\u001b[1;34m()\u001b[0m\n\u001b[0;32m      4\u001b[0m \u001b[1;31m#calculations\u001b[0m\u001b[1;33m\u001b[0m\u001b[1;33m\u001b[0m\u001b[0m\n\u001b[0;32m      5\u001b[0m \u001b[1;33m\u001b[0m\u001b[0m\n\u001b[1;32m----> 6\u001b[1;33m \u001b[0mavg_math\u001b[0m \u001b[1;33m=\u001b[0m \u001b[0mschool_general_summary\u001b[0m\u001b[1;33m.\u001b[0m\u001b[0mgroupby\u001b[0m\u001b[1;33m(\u001b[0m\u001b[1;33m[\u001b[0m\u001b[1;34m\"Spending Ranges (Per Student)\"\u001b[0m\u001b[1;33m]\u001b[0m\u001b[1;33m)\u001b[0m\u001b[1;33m.\u001b[0m\u001b[0mmean\u001b[0m\u001b[1;33m(\u001b[0m\u001b[1;33m)\u001b[0m\u001b[1;33m[\u001b[0m\u001b[1;34m\"Average Math Score\"\u001b[0m\u001b[1;33m]\u001b[0m\u001b[1;33m\u001b[0m\u001b[0m\n\u001b[0m\u001b[0;32m      7\u001b[0m \u001b[0mavg_read\u001b[0m \u001b[1;33m=\u001b[0m \u001b[0mschool_general_summary\u001b[0m\u001b[1;33m.\u001b[0m\u001b[0mgroupby\u001b[0m\u001b[1;33m(\u001b[0m\u001b[1;33m[\u001b[0m\u001b[1;34m\"Spending Ranges (Per Student)\"\u001b[0m\u001b[1;33m]\u001b[0m\u001b[1;33m)\u001b[0m\u001b[1;33m.\u001b[0m\u001b[0mmean\u001b[0m\u001b[1;33m(\u001b[0m\u001b[1;33m)\u001b[0m\u001b[1;33m[\u001b[0m\u001b[1;34m\"Average Reading Score\"\u001b[0m\u001b[1;33m]\u001b[0m\u001b[1;33m\u001b[0m\u001b[0m\n\u001b[0;32m      8\u001b[0m \u001b[0mpass_math\u001b[0m \u001b[1;33m=\u001b[0m \u001b[0mschool_general_summary\u001b[0m\u001b[1;33m.\u001b[0m\u001b[0mgroupby\u001b[0m\u001b[1;33m(\u001b[0m\u001b[1;33m[\u001b[0m\u001b[1;34m\"Spending Ranges (Per Student)\"\u001b[0m\u001b[1;33m]\u001b[0m\u001b[1;33m)\u001b[0m\u001b[1;33m.\u001b[0m\u001b[0mmean\u001b[0m\u001b[1;33m(\u001b[0m\u001b[1;33m)\u001b[0m\u001b[1;33m[\u001b[0m\u001b[1;34m\"% Passing Math\"\u001b[0m\u001b[1;33m]\u001b[0m\u001b[1;33m\u001b[0m\u001b[0m\n",
      "\u001b[1;32m~\\Anaconda3\\lib\\site-packages\\pandas\\core\\generic.py\u001b[0m in \u001b[0;36mgroupby\u001b[1;34m(self, by, axis, level, as_index, sort, group_keys, squeeze, observed, **kwargs)\u001b[0m\n\u001b[0;32m   6663\u001b[0m         return groupby(self, by=by, axis=axis, level=level, as_index=as_index,\n\u001b[0;32m   6664\u001b[0m                        \u001b[0msort\u001b[0m\u001b[1;33m=\u001b[0m\u001b[0msort\u001b[0m\u001b[1;33m,\u001b[0m \u001b[0mgroup_keys\u001b[0m\u001b[1;33m=\u001b[0m\u001b[0mgroup_keys\u001b[0m\u001b[1;33m,\u001b[0m \u001b[0msqueeze\u001b[0m\u001b[1;33m=\u001b[0m\u001b[0msqueeze\u001b[0m\u001b[1;33m,\u001b[0m\u001b[1;33m\u001b[0m\u001b[0m\n\u001b[1;32m-> 6665\u001b[1;33m                        observed=observed, **kwargs)\n\u001b[0m\u001b[0;32m   6666\u001b[0m \u001b[1;33m\u001b[0m\u001b[0m\n\u001b[0;32m   6667\u001b[0m     def asfreq(self, freq, method=None, how=None, normalize=False,\n",
      "\u001b[1;32m~\\Anaconda3\\lib\\site-packages\\pandas\\core\\groupby\\groupby.py\u001b[0m in \u001b[0;36mgroupby\u001b[1;34m(obj, by, **kwds)\u001b[0m\n\u001b[0;32m   2150\u001b[0m         \u001b[1;32mraise\u001b[0m \u001b[0mTypeError\u001b[0m\u001b[1;33m(\u001b[0m\u001b[1;34m'invalid type: %s'\u001b[0m \u001b[1;33m%\u001b[0m \u001b[0mtype\u001b[0m\u001b[1;33m(\u001b[0m\u001b[0mobj\u001b[0m\u001b[1;33m)\u001b[0m\u001b[1;33m)\u001b[0m\u001b[1;33m\u001b[0m\u001b[0m\n\u001b[0;32m   2151\u001b[0m \u001b[1;33m\u001b[0m\u001b[0m\n\u001b[1;32m-> 2152\u001b[1;33m     \u001b[1;32mreturn\u001b[0m \u001b[0mklass\u001b[0m\u001b[1;33m(\u001b[0m\u001b[0mobj\u001b[0m\u001b[1;33m,\u001b[0m \u001b[0mby\u001b[0m\u001b[1;33m,\u001b[0m \u001b[1;33m**\u001b[0m\u001b[0mkwds\u001b[0m\u001b[1;33m)\u001b[0m\u001b[1;33m\u001b[0m\u001b[0m\n\u001b[0m\u001b[0;32m   2153\u001b[0m \u001b[1;33m\u001b[0m\u001b[0m\n\u001b[0;32m   2154\u001b[0m \u001b[1;33m\u001b[0m\u001b[0m\n",
      "\u001b[1;32m~\\Anaconda3\\lib\\site-packages\\pandas\\core\\groupby\\groupby.py\u001b[0m in \u001b[0;36m__init__\u001b[1;34m(self, obj, keys, axis, level, grouper, exclusions, selection, as_index, sort, group_keys, squeeze, observed, **kwargs)\u001b[0m\n\u001b[0;32m    597\u001b[0m                                                     \u001b[0msort\u001b[0m\u001b[1;33m=\u001b[0m\u001b[0msort\u001b[0m\u001b[1;33m,\u001b[0m\u001b[1;33m\u001b[0m\u001b[0m\n\u001b[0;32m    598\u001b[0m                                                     \u001b[0mobserved\u001b[0m\u001b[1;33m=\u001b[0m\u001b[0mobserved\u001b[0m\u001b[1;33m,\u001b[0m\u001b[1;33m\u001b[0m\u001b[0m\n\u001b[1;32m--> 599\u001b[1;33m                                                     mutated=self.mutated)\n\u001b[0m\u001b[0;32m    600\u001b[0m \u001b[1;33m\u001b[0m\u001b[0m\n\u001b[0;32m    601\u001b[0m         \u001b[0mself\u001b[0m\u001b[1;33m.\u001b[0m\u001b[0mobj\u001b[0m \u001b[1;33m=\u001b[0m \u001b[0mobj\u001b[0m\u001b[1;33m\u001b[0m\u001b[0m\n",
      "\u001b[1;32m~\\Anaconda3\\lib\\site-packages\\pandas\\core\\groupby\\groupby.py\u001b[0m in \u001b[0;36m_get_grouper\u001b[1;34m(obj, key, axis, level, sort, observed, mutated, validate)\u001b[0m\n\u001b[0;32m   3289\u001b[0m                 \u001b[0min_axis\u001b[0m\u001b[1;33m,\u001b[0m \u001b[0mname\u001b[0m\u001b[1;33m,\u001b[0m \u001b[0mlevel\u001b[0m\u001b[1;33m,\u001b[0m \u001b[0mgpr\u001b[0m \u001b[1;33m=\u001b[0m \u001b[1;32mFalse\u001b[0m\u001b[1;33m,\u001b[0m \u001b[1;32mNone\u001b[0m\u001b[1;33m,\u001b[0m \u001b[0mgpr\u001b[0m\u001b[1;33m,\u001b[0m \u001b[1;32mNone\u001b[0m\u001b[1;33m\u001b[0m\u001b[0m\n\u001b[0;32m   3290\u001b[0m             \u001b[1;32melse\u001b[0m\u001b[1;33m:\u001b[0m\u001b[1;33m\u001b[0m\u001b[0m\n\u001b[1;32m-> 3291\u001b[1;33m                 \u001b[1;32mraise\u001b[0m \u001b[0mKeyError\u001b[0m\u001b[1;33m(\u001b[0m\u001b[0mgpr\u001b[0m\u001b[1;33m)\u001b[0m\u001b[1;33m\u001b[0m\u001b[0m\n\u001b[0m\u001b[0;32m   3292\u001b[0m         \u001b[1;32melif\u001b[0m \u001b[0misinstance\u001b[0m\u001b[1;33m(\u001b[0m\u001b[0mgpr\u001b[0m\u001b[1;33m,\u001b[0m \u001b[0mGrouper\u001b[0m\u001b[1;33m)\u001b[0m \u001b[1;32mand\u001b[0m \u001b[0mgpr\u001b[0m\u001b[1;33m.\u001b[0m\u001b[0mkey\u001b[0m \u001b[1;32mis\u001b[0m \u001b[1;32mnot\u001b[0m \u001b[1;32mNone\u001b[0m\u001b[1;33m:\u001b[0m\u001b[1;33m\u001b[0m\u001b[0m\n\u001b[0;32m   3293\u001b[0m             \u001b[1;31m# Add key to exclusions\u001b[0m\u001b[1;33m\u001b[0m\u001b[1;33m\u001b[0m\u001b[0m\n",
      "\u001b[1;31mKeyError\u001b[0m: 'Spending Ranges (Per Student)'"
     ]
    }
   ],
   "source": [
    "# group by type of school\n",
    "by_type = school_general_summary.groupby(school_types)\n",
    "\n",
    "#calculations \n",
    "\n",
    "avg_math = school_general_summary.groupby([\"Spending Ranges (Per Student)\"]).mean()[\"Average Math Score\"]\n",
    "avg_read = school_general_summary.groupby([\"Spending Ranges (Per Student)\"]).mean()[\"Average Reading Score\"]\n",
    "pass_math = school_general_summary.groupby([\"Spending Ranges (Per Student)\"]).mean()[\"% Passing Math\"]\n",
    "pass_read = school_general_summary.groupby([\"Spending Ranges (Per Student)\"]).mean()[\"% Passing Reading\"]\n",
    "overall = (spending_passing_math + spending_passing_reading) / 2\n",
    "\n",
    "# df build            \n",
    "scores_by_type = pd.DataFrame({\n",
    "    \"Average Math Score\": avg_math,\n",
    "    \"Average Reading Score\": avg_read,\n",
    "    '% Passing Math': pass_math,\n",
    "    '% Passing Reading': pass_read,\n",
    "    \"Overall Passing Rate\": overall})\n",
    "    \n",
    "#reorder columns\n",
    "scores_by_type = scores_by_type[[\n",
    "    \"Average Math Score\",\n",
    "    \"Average Reading Score\",\n",
    "    '% Passing Math',\n",
    "    '% Passing Reading',\n",
    "    \"Overall Passing Rate\"\n",
    "]]\n",
    "#scores_by_type.index.name = \"Type of School\"\n",
    "\n"
   ]
  },
  {
   "cell_type": "code",
   "execution_count": null,
   "metadata": {},
   "outputs": [],
   "source": []
  },
  {
   "cell_type": "code",
   "execution_count": null,
   "metadata": {},
   "outputs": [],
   "source": []
  }
 ],
 "metadata": {
  "anaconda-cloud": {},
  "kernel_info": {
   "name": "python3"
  },
  "kernelspec": {
   "display_name": "Python 3",
   "language": "python",
   "name": "python3"
  },
  "language_info": {
   "codemirror_mode": {
    "name": "ipython",
    "version": 3
   },
   "file_extension": ".py",
   "mimetype": "text/x-python",
   "name": "python",
   "nbconvert_exporter": "python",
   "pygments_lexer": "ipython3",
   "version": "3.7.0"
  },
  "nteract": {
   "version": "0.8.4"
  }
 },
 "nbformat": 4,
 "nbformat_minor": 1
}
